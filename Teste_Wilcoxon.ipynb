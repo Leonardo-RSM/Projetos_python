{
 "cells": [
  {
   "cell_type": "markdown",
   "id": "8ce12a9c",
   "metadata": {},
   "source": [
    "# TESTE WILXCOM (duas amostras dependentes)"
   ]
  },
  {
   "cell_type": "code",
   "execution_count": 1,
   "id": "2802894f",
   "metadata": {},
   "outputs": [],
   "source": [
    "import pandas as pd\n",
    "import numpy as np\n",
    "import seaborn as sns\n",
    "import statsmodels\n",
    "from statsmodels.stats.diagnostic import lilliefors\n",
    "import scipy.stats as stats\n",
    "import matplotlib.pyplot as plt\n",
    "from scipy.stats import levene\n",
    "from statsmodels.stats.weightstats import ztest\n",
    "\n",
    "enem_sp = pd.read_csv('/Users/paull/OneDrive/Área de Trabalho/LEONARDO/python/jupyter/enem_2019_tratado.csv',\n",
    "                     sep = ',', encoding = 'iso-8859-1')"
   ]
  },
  {
   "cell_type": "markdown",
   "id": "bb0cdbe9",
   "metadata": {},
   "source": [
    "Objetivo: Analisar a diferença mediana da nota de resação com relação aos seus componentes. \n",
    "\n",
    "\n",
    "Obs: \n",
    "\n",
    "\n",
    "amostras independentes = analisa a diferença das medianas.\n",
    "\n",
    "\n",
    "amostras dependentes = analisa a mediana das diferenças."
   ]
  },
  {
   "cell_type": "code",
   "execution_count": 3,
   "id": "c6fb6f46",
   "metadata": {},
   "outputs": [],
   "source": [
    "colegioy = enem_sp.loc[enem_sp.CO_ESCOLA == 35151506.0]"
   ]
  },
  {
   "cell_type": "code",
   "execution_count": 8,
   "id": "9ed4a027",
   "metadata": {},
   "outputs": [
    {
     "data": {
      "text/html": [
       "<div>\n",
       "<style scoped>\n",
       "    .dataframe tbody tr th:only-of-type {\n",
       "        vertical-align: middle;\n",
       "    }\n",
       "\n",
       "    .dataframe tbody tr th {\n",
       "        vertical-align: top;\n",
       "    }\n",
       "\n",
       "    .dataframe thead th {\n",
       "        text-align: right;\n",
       "    }\n",
       "</style>\n",
       "<table border=\"1\" class=\"dataframe\">\n",
       "  <thead>\n",
       "    <tr style=\"text-align: right;\">\n",
       "      <th></th>\n",
       "      <th>NU_INSCRICAO</th>\n",
       "      <th>NO_MUNICIPIO_RESIDENCIA</th>\n",
       "      <th>IDADE</th>\n",
       "      <th>SEXO</th>\n",
       "      <th>TP_ESTADO_CIVIL</th>\n",
       "      <th>RACA</th>\n",
       "      <th>TP_NACIONALIDADE</th>\n",
       "      <th>TP_ST_CONCLUSAO</th>\n",
       "      <th>ESCOLA</th>\n",
       "      <th>CO_ESCOLA</th>\n",
       "      <th>...</th>\n",
       "      <th>NOTA_MT</th>\n",
       "      <th>TP_LINGUA</th>\n",
       "      <th>TP_STATUS_REDACAO</th>\n",
       "      <th>COMP1</th>\n",
       "      <th>COMP2</th>\n",
       "      <th>COMP3</th>\n",
       "      <th>COMP4</th>\n",
       "      <th>COMP5</th>\n",
       "      <th>NOTA_REDACAO</th>\n",
       "      <th>INTERNET</th>\n",
       "    </tr>\n",
       "  </thead>\n",
       "  <tbody>\n",
       "    <tr>\n",
       "      <th>492</th>\n",
       "      <td>1,90E+11</td>\n",
       "      <td>São Paulo</td>\n",
       "      <td>17</td>\n",
       "      <td>F</td>\n",
       "      <td>1</td>\n",
       "      <td>branca</td>\n",
       "      <td>1</td>\n",
       "      <td>2</td>\n",
       "      <td>privada</td>\n",
       "      <td>35151506.0</td>\n",
       "      <td>...</td>\n",
       "      <td>64.0</td>\n",
       "      <td>Inglês</td>\n",
       "      <td>1.0</td>\n",
       "      <td>160.0</td>\n",
       "      <td>160.0</td>\n",
       "      <td>140.0</td>\n",
       "      <td>140.0</td>\n",
       "      <td>120.0</td>\n",
       "      <td>720.0</td>\n",
       "      <td>Sim</td>\n",
       "    </tr>\n",
       "    <tr>\n",
       "      <th>7910</th>\n",
       "      <td>1,90E+11</td>\n",
       "      <td>São Paulo</td>\n",
       "      <td>18</td>\n",
       "      <td>F</td>\n",
       "      <td>1</td>\n",
       "      <td>branca</td>\n",
       "      <td>1</td>\n",
       "      <td>2</td>\n",
       "      <td>privada</td>\n",
       "      <td>35151506.0</td>\n",
       "      <td>...</td>\n",
       "      <td>699.5</td>\n",
       "      <td>Inglês</td>\n",
       "      <td>1.0</td>\n",
       "      <td>160.0</td>\n",
       "      <td>120.0</td>\n",
       "      <td>160.0</td>\n",
       "      <td>160.0</td>\n",
       "      <td>140.0</td>\n",
       "      <td>740.0</td>\n",
       "      <td>Sim</td>\n",
       "    </tr>\n",
       "    <tr>\n",
       "      <th>14367</th>\n",
       "      <td>1,90E+11</td>\n",
       "      <td>São Paulo</td>\n",
       "      <td>17</td>\n",
       "      <td>M</td>\n",
       "      <td>1</td>\n",
       "      <td>branca</td>\n",
       "      <td>1</td>\n",
       "      <td>2</td>\n",
       "      <td>privada</td>\n",
       "      <td>35151506.0</td>\n",
       "      <td>...</td>\n",
       "      <td>780.2</td>\n",
       "      <td>Inglês</td>\n",
       "      <td>1.0</td>\n",
       "      <td>120.0</td>\n",
       "      <td>120.0</td>\n",
       "      <td>100.0</td>\n",
       "      <td>140.0</td>\n",
       "      <td>160.0</td>\n",
       "      <td>640.0</td>\n",
       "      <td>Sim</td>\n",
       "    </tr>\n",
       "    <tr>\n",
       "      <th>22519</th>\n",
       "      <td>1,90E+11</td>\n",
       "      <td>São Paulo</td>\n",
       "      <td>17</td>\n",
       "      <td>F</td>\n",
       "      <td>1</td>\n",
       "      <td>preta</td>\n",
       "      <td>1</td>\n",
       "      <td>2</td>\n",
       "      <td>privada</td>\n",
       "      <td>35151506.0</td>\n",
       "      <td>...</td>\n",
       "      <td>732.2</td>\n",
       "      <td>Inglês</td>\n",
       "      <td>1.0</td>\n",
       "      <td>140.0</td>\n",
       "      <td>120.0</td>\n",
       "      <td>140.0</td>\n",
       "      <td>180.0</td>\n",
       "      <td>120.0</td>\n",
       "      <td>700.0</td>\n",
       "      <td>Sim</td>\n",
       "    </tr>\n",
       "    <tr>\n",
       "      <th>58184</th>\n",
       "      <td>1,90E+11</td>\n",
       "      <td>São Paulo</td>\n",
       "      <td>17</td>\n",
       "      <td>M</td>\n",
       "      <td>1</td>\n",
       "      <td>branca</td>\n",
       "      <td>1</td>\n",
       "      <td>2</td>\n",
       "      <td>privada</td>\n",
       "      <td>35151506.0</td>\n",
       "      <td>...</td>\n",
       "      <td>756.3</td>\n",
       "      <td>Inglês</td>\n",
       "      <td>1.0</td>\n",
       "      <td>160.0</td>\n",
       "      <td>200.0</td>\n",
       "      <td>200.0</td>\n",
       "      <td>200.0</td>\n",
       "      <td>200.0</td>\n",
       "      <td>960.0</td>\n",
       "      <td>Sim</td>\n",
       "    </tr>\n",
       "  </tbody>\n",
       "</table>\n",
       "<p>5 rows × 24 columns</p>\n",
       "</div>"
      ],
      "text/plain": [
       "      NU_INSCRICAO NO_MUNICIPIO_RESIDENCIA  IDADE SEXO  TP_ESTADO_CIVIL  \\\n",
       "492       1,90E+11               São Paulo     17    F                1   \n",
       "7910      1,90E+11               São Paulo     18    F                1   \n",
       "14367     1,90E+11               São Paulo     17    M                1   \n",
       "22519     1,90E+11               São Paulo     17    F                1   \n",
       "58184     1,90E+11               São Paulo     17    M                1   \n",
       "\n",
       "         RACA  TP_NACIONALIDADE  TP_ST_CONCLUSAO   ESCOLA   CO_ESCOLA  ...  \\\n",
       "492    branca                 1                2  privada  35151506.0  ...   \n",
       "7910   branca                 1                2  privada  35151506.0  ...   \n",
       "14367  branca                 1                2  privada  35151506.0  ...   \n",
       "22519   preta                 1                2  privada  35151506.0  ...   \n",
       "58184  branca                 1                2  privada  35151506.0  ...   \n",
       "\n",
       "      NOTA_MT  TP_LINGUA  TP_STATUS_REDACAO  COMP1  COMP2  COMP3  COMP4  \\\n",
       "492      64.0     Inglês                1.0  160.0  160.0  140.0  140.0   \n",
       "7910    699.5     Inglês                1.0  160.0  120.0  160.0  160.0   \n",
       "14367   780.2     Inglês                1.0  120.0  120.0  100.0  140.0   \n",
       "22519   732.2     Inglês                1.0  140.0  120.0  140.0  180.0   \n",
       "58184   756.3     Inglês                1.0  160.0  200.0  200.0  200.0   \n",
       "\n",
       "       COMP5  NOTA_REDACAO  INTERNET  \n",
       "492    120.0         720.0       Sim  \n",
       "7910   140.0         740.0       Sim  \n",
       "14367  160.0         640.0       Sim  \n",
       "22519  120.0         700.0       Sim  \n",
       "58184  200.0         960.0       Sim  \n",
       "\n",
       "[5 rows x 24 columns]"
      ]
     },
     "execution_count": 8,
     "metadata": {},
     "output_type": "execute_result"
    }
   ],
   "source": [
    "colegioy.head()"
   ]
  },
  {
   "cell_type": "code",
   "execution_count": 7,
   "id": "5760bfc7",
   "metadata": {},
   "outputs": [
    {
     "data": {
      "text/plain": [
       "(30, 24)"
      ]
     },
     "execution_count": 7,
     "metadata": {},
     "output_type": "execute_result"
    }
   ],
   "source": [
    "colegioy.shape"
   ]
  },
  {
   "cell_type": "markdown",
   "id": "ebb7b49a",
   "metadata": {},
   "source": [
    "1) analise da classificação das variáveis"
   ]
  },
  {
   "cell_type": "code",
   "execution_count": 9,
   "id": "a58b1e4b",
   "metadata": {},
   "outputs": [
    {
     "data": {
      "text/plain": [
       "NU_INSCRICAO                object\n",
       "NO_MUNICIPIO_RESIDENCIA     object\n",
       "IDADE                        int64\n",
       "SEXO                        object\n",
       "TP_ESTADO_CIVIL              int64\n",
       "RACA                        object\n",
       "TP_NACIONALIDADE             int64\n",
       "TP_ST_CONCLUSAO              int64\n",
       "ESCOLA                      object\n",
       "CO_ESCOLA                  float64\n",
       "NO_MUNICIPIO_ESC            object\n",
       "NOTA_CN                    float64\n",
       "NOTA_CH                    float64\n",
       "NOTA_LC                    float64\n",
       "NOTA_MT                    float64\n",
       "TP_LINGUA                   object\n",
       "TP_STATUS_REDACAO          float64\n",
       "COMP1                      float64\n",
       "COMP2                      float64\n",
       "COMP3                      float64\n",
       "COMP4                      float64\n",
       "COMP5                      float64\n",
       "NOTA_REDACAO               float64\n",
       "INTERNET                    object\n",
       "dtype: object"
      ]
     },
     "execution_count": 9,
     "metadata": {},
     "output_type": "execute_result"
    }
   ],
   "source": [
    "colegioy.dtypes"
   ]
  },
  {
   "cell_type": "markdown",
   "id": "1c5aa09b",
   "metadata": {},
   "source": [
    "2) Analise de valores nulos"
   ]
  },
  {
   "cell_type": "code",
   "execution_count": 12,
   "id": "3bf0cd4d",
   "metadata": {},
   "outputs": [
    {
     "data": {
      "text/plain": [
       "NU_INSCRICAO               0\n",
       "NO_MUNICIPIO_RESIDENCIA    0\n",
       "IDADE                      0\n",
       "SEXO                       0\n",
       "TP_ESTADO_CIVIL            0\n",
       "RACA                       0\n",
       "TP_NACIONALIDADE           0\n",
       "TP_ST_CONCLUSAO            0\n",
       "ESCOLA                     0\n",
       "CO_ESCOLA                  0\n",
       "NO_MUNICIPIO_ESC           0\n",
       "NOTA_CN                    0\n",
       "NOTA_CH                    0\n",
       "NOTA_LC                    0\n",
       "NOTA_MT                    0\n",
       "TP_LINGUA                  0\n",
       "TP_STATUS_REDACAO          0\n",
       "COMP1                      0\n",
       "COMP2                      0\n",
       "COMP3                      0\n",
       "COMP4                      0\n",
       "COMP5                      0\n",
       "NOTA_REDACAO               0\n",
       "INTERNET                   0\n",
       "dtype: int64"
      ]
     },
     "execution_count": 12,
     "metadata": {},
     "output_type": "execute_result"
    }
   ],
   "source": [
    "colegioy.isnull().sum()"
   ]
  },
  {
   "cell_type": "markdown",
   "id": "3f692923",
   "metadata": {},
   "source": [
    "3) Analise de Outliers"
   ]
  },
  {
   "cell_type": "code",
   "execution_count": 13,
   "id": "24956f5f",
   "metadata": {},
   "outputs": [
    {
     "data": {
      "text/plain": [
       "<AxesSubplot:xlabel='COMP3'>"
      ]
     },
     "execution_count": 13,
     "metadata": {},
     "output_type": "execute_result"
    },
    {
     "data": {
      "image/png": "[encoded data removed]",
      "text/plain": [
       "<Figure size 640x480 with 1 Axes>"
      ]
     },
     "metadata": {},
     "output_type": "display_data"
    }
   ],
   "source": [
    "sns.boxplot(data = colegioy, x='COMP3')"
   ]
  },
  {
   "cell_type": "markdown",
   "id": "c839eb07",
   "metadata": {},
   "source": [
    "4) Analise da normalidade"
   ]
  },
  {
   "cell_type": "markdown",
   "id": "39258389",
   "metadata": {},
   "source": [
    "a diferença entre as variáveis é que deve ser normal.\n",
    "\n",
    "Critérios:\n",
    "\n",
    "Nível de significância de 0,05 ou 5% (Mais utilizado)\n",
    "\n",
    "Quando p > 0,05 (distribuição normal)"
   ]
  },
  {
   "cell_type": "code",
   "execution_count": 21,
   "id": "bb42aa05",
   "metadata": {},
   "outputs": [],
   "source": [
    "diferenca1 = colegioy.NOTA_REDACAO - colegioy.COMP1"
   ]
  },
  {
   "cell_type": "code",
   "execution_count": 22,
   "id": "e748f424",
   "metadata": {},
   "outputs": [],
   "source": [
    "diferenca2 = colegioy.NOTA_REDACAO - colegioy.COMP2"
   ]
  },
  {
   "cell_type": "code",
   "execution_count": 23,
   "id": "e12d17b1",
   "metadata": {},
   "outputs": [],
   "source": [
    "diferenca3 = colegioy.NOTA_REDACAO - colegioy.COMP3"
   ]
  },
  {
   "cell_type": "code",
   "execution_count": 24,
   "id": "f9b6a035",
   "metadata": {},
   "outputs": [],
   "source": [
    "diferenca4 = colegioy.NOTA_REDACAO - colegioy.COMP4"
   ]
  },
  {
   "cell_type": "code",
   "execution_count": 25,
   "id": "8aacfc2e",
   "metadata": {},
   "outputs": [],
   "source": [
    "diferenca5 = colegioy.NOTA_REDACAO - colegioy.COMP5"
   ]
  },
  {
   "cell_type": "code",
   "execution_count": 27,
   "id": "374c758b",
   "metadata": {},
   "outputs": [
    {
     "data": {
      "text/plain": [
       "ShapiroResult(statistic=0.9205223321914673, pvalue=0.027671510353684425)"
      ]
     },
     "execution_count": 27,
     "metadata": {},
     "output_type": "execute_result"
    }
   ],
   "source": [
    "# teste de Shapiro Wilk\n",
    "\n",
    "stats.shapiro(diferenca1)"
   ]
  },
  {
   "cell_type": "code",
   "execution_count": 33,
   "id": "5bbef63b",
   "metadata": {},
   "outputs": [
    {
     "data": {
      "text/plain": [
       "ShapiroResult(statistic=0.9494082927703857, pvalue=0.16299790143966675)"
      ]
     },
     "execution_count": 33,
     "metadata": {},
     "output_type": "execute_result"
    }
   ],
   "source": [
    "stats.shapiro(diferenca2)"
   ]
  },
  {
   "cell_type": "code",
   "execution_count": 34,
   "id": "f7c7d9a3",
   "metadata": {},
   "outputs": [
    {
     "data": {
      "text/plain": [
       "ShapiroResult(statistic=0.9186265468597412, pvalue=0.024711981415748596)"
      ]
     },
     "execution_count": 34,
     "metadata": {},
     "output_type": "execute_result"
    }
   ],
   "source": [
    "stats.shapiro(diferenca3)"
   ]
  },
  {
   "cell_type": "code",
   "execution_count": 35,
   "id": "eaba580d",
   "metadata": {},
   "outputs": [
    {
     "data": {
      "text/plain": [
       "ShapiroResult(statistic=0.9099215865135193, pvalue=0.014812746085226536)"
      ]
     },
     "execution_count": 35,
     "metadata": {},
     "output_type": "execute_result"
    }
   ],
   "source": [
    "stats.shapiro(diferenca4)"
   ]
  },
  {
   "cell_type": "code",
   "execution_count": 36,
   "id": "dd4037d7",
   "metadata": {},
   "outputs": [
    {
     "data": {
      "text/plain": [
       "ShapiroResult(statistic=0.918871283531189, pvalue=0.025074632838368416)"
      ]
     },
     "execution_count": 36,
     "metadata": {},
     "output_type": "execute_result"
    }
   ],
   "source": [
    "stats.shapiro(diferenca5)"
   ]
  },
  {
   "cell_type": "markdown",
   "id": "c043f1d1",
   "metadata": {},
   "source": [
    "para analisar as distribuições que não são normais precisamos de um teste não paramétrico (Wilcoxon)"
   ]
  },
  {
   "cell_type": "markdown",
   "id": "99f3178b",
   "metadata": {},
   "source": [
    "## Teste de Wilcoxon\n",
    "\n",
    "Comparação das Medianas das diferenças que não passaram no teste de normalidade.\n",
    "\n",
    "Ho = NÃO HÁ A DIFERENÇA ENTRE AS DIFERENÇAS DAS MEDIANAS: p > 0.05\n",
    "\n",
    "Ha = HÁ DIFERENÇA ENTRE AS DIFERENÇAS DAS MEDIANAS: p < 0.05"
   ]
  },
  {
   "cell_type": "code",
   "execution_count": 39,
   "id": "83fd176d",
   "metadata": {},
   "outputs": [
    {
     "name": "stdout",
     "output_type": "stream",
     "text": [
      "Estatística de teste: 30.5\n",
      "p-valor:0.8127423726\n"
     ]
    }
   ],
   "source": [
    "stat, p = stats.wilcoxon(diferenca1,diferenca3)\n",
    "print('Estatística de teste: {}'.format(stat.round(2)))\n",
    "print('p-valor:{}'.format(p.round(10)))"
   ]
  },
  {
   "cell_type": "code",
   "execution_count": 40,
   "id": "dc41204e",
   "metadata": {},
   "outputs": [
    {
     "data": {
      "text/plain": [
       "560.0"
      ]
     },
     "execution_count": 40,
     "metadata": {},
     "output_type": "execute_result"
    }
   ],
   "source": [
    "diferenca1.median()"
   ]
  },
  {
   "cell_type": "code",
   "execution_count": 41,
   "id": "299b7211",
   "metadata": {},
   "outputs": [
    {
     "data": {
      "text/plain": [
       "560.0"
      ]
     },
     "execution_count": 41,
     "metadata": {},
     "output_type": "execute_result"
    }
   ],
   "source": [
    "diferenca3.median()"
   ]
  },
  {
   "cell_type": "code",
   "execution_count": 43,
   "id": "a0953cc6",
   "metadata": {},
   "outputs": [
    {
     "name": "stdout",
     "output_type": "stream",
     "text": [
      "Estatística de teste: 30.5\n",
      "p-valor:0.8127423726\n"
     ]
    }
   ],
   "source": [
    "stat, p = stats.wilcoxon(colegioy.COMP1,colegioy.COMP3)\n",
    "print('Estatística de teste: {}'.format(stat.round(2)))\n",
    "print('p-valor:{}'.format(p.round(10)))"
   ]
  },
  {
   "cell_type": "code",
   "execution_count": 44,
   "id": "89011283",
   "metadata": {},
   "outputs": [
    {
     "name": "stdout",
     "output_type": "stream",
     "text": [
      "Estatística de teste: 59.5\n",
      "p-valor:0.2162656891\n"
     ]
    }
   ],
   "source": [
    "stat, p = stats.wilcoxon(diferenca1,diferenca4)\n",
    "print('Estatística de teste: {}'.format(stat.round(2)))\n",
    "print('p-valor:{}'.format(p.round(10)))"
   ]
  },
  {
   "cell_type": "code",
   "execution_count": 45,
   "id": "daf68605",
   "metadata": {},
   "outputs": [
    {
     "data": {
      "text/plain": [
       "560.0"
      ]
     },
     "execution_count": 45,
     "metadata": {},
     "output_type": "execute_result"
    }
   ],
   "source": [
    "diferenca4.median()"
   ]
  },
  {
   "cell_type": "code",
   "execution_count": 46,
   "id": "2cd9a47e",
   "metadata": {},
   "outputs": [
    {
     "name": "stdout",
     "output_type": "stream",
     "text": [
      "Estatística de teste: 142.0\n",
      "p-valor:0.8136637158\n"
     ]
    }
   ],
   "source": [
    "stat, p = stats.wilcoxon(diferenca1,diferenca5)\n",
    "print('Estatística de teste: {}'.format(stat.round(2)))\n",
    "print('p-valor:{}'.format(p.round(10)))"
   ]
  },
  {
   "cell_type": "code",
   "execution_count": 47,
   "id": "fece4659",
   "metadata": {},
   "outputs": [
    {
     "data": {
      "text/plain": [
       "570.0"
      ]
     },
     "execution_count": 47,
     "metadata": {},
     "output_type": "execute_result"
    }
   ],
   "source": [
    "diferenca5.median()"
   ]
  },
  {
   "cell_type": "code",
   "execution_count": 48,
   "id": "0fcaa7a7",
   "metadata": {},
   "outputs": [
    {
     "name": "stdout",
     "output_type": "stream",
     "text": [
      "Estatística de teste: 15.0\n",
      "p-valor:0.0880815117\n"
     ]
    }
   ],
   "source": [
    "stat, p = stats.wilcoxon(diferenca3,diferenca4)\n",
    "print('Estatística de teste: {}'.format(stat.round(2)))\n",
    "print('p-valor:{}'.format(p.round(10)))"
   ]
  },
  {
   "cell_type": "code",
   "execution_count": 49,
   "id": "9ceff8d9",
   "metadata": {},
   "outputs": [
    {
     "name": "stdout",
     "output_type": "stream",
     "text": [
      "Estatística de teste: 113.0\n",
      "p-valor:0.6545435529\n"
     ]
    }
   ],
   "source": [
    "stat, p = stats.wilcoxon(diferenca3,diferenca5)\n",
    "print('Estatística de teste: {}'.format(stat.round(2)))\n",
    "print('p-valor:{}'.format(p.round(10)))"
   ]
  },
  {
   "cell_type": "code",
   "execution_count": 51,
   "id": "762ce51e",
   "metadata": {},
   "outputs": [
    {
     "name": "stdout",
     "output_type": "stream",
     "text": [
      "Estatística de teste: 94.5\n",
      "p-valor:0.6892233017\n"
     ]
    }
   ],
   "source": [
    "stat, p = stats.wilcoxon(diferenca4,diferenca5)\n",
    "print('Estatística de teste: {}'.format(stat.round(2)))\n",
    "print('p-valor:{}'.format(p.round(10)))"
   ]
  },
  {
   "cell_type": "markdown",
   "id": "9822be2f",
   "metadata": {},
   "source": [
    "Obs: a diferença das medianas determina o p valor o teste de wilcoxon"
   ]
  },
  {
   "cell_type": "markdown",
   "id": "542ddfd9",
   "metadata": {},
   "source": [
    "Conclusão: Estatísticamente, com intervalo de confiança de 95%, não há evidências para afirmar que existe diferença na diferenca das medianas analisadas."
   ]
  },
  {
   "cell_type": "code",
   "execution_count": null,
   "id": "be33e70d",
   "metadata": {},
   "outputs": [],
   "source": []
  }
 ],
 "metadata": {
  "kernelspec": {
   "display_name": "Python 3 (ipykernel)",
   "language": "python",
   "name": "python3"
  },
  "language_info": {
   "codemirror_mode": {
    "name": "ipython",
    "version": 3
   },
   "file_extension": ".py",
   "mimetype": "text/x-python",
   "name": "python",
   "nbconvert_exporter": "python",
   "pygments_lexer": "ipython3",
   "version": "3.9.13"
  }
 },
 "nbformat": 4,
 "nbformat_minor": 5
}
