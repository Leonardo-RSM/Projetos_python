{
 "cells": [
  {
   "cell_type": "markdown",
   "id": "2b3cfa75",
   "metadata": {},
   "source": [
    "# Funções Lambda e Map"
   ]
  },
  {
   "cell_type": "code",
   "execution_count": null,
   "id": "b051f949",
   "metadata": {},
   "outputs": [],
   "source": [
    "def area_quadrado (L):\n",
    "    area = L**2\n",
    "    print(area)"
   ]
  },
  {
   "cell_type": "markdown",
   "id": "f39e9dd2",
   "metadata": {},
   "source": [
    "#### usando Lambda"
   ]
  },
  {
   "cell_type": "code",
   "execution_count": 2,
   "id": "3e5df76c",
   "metadata": {},
   "outputs": [],
   "source": [
    "area_quadrado2 = lambda x: x**2"
   ]
  },
  {
   "cell_type": "markdown",
   "id": "a7d9f141",
   "metadata": {},
   "source": [
    "é colocado um parametro em que x faz uma operação atribuída a ele"
   ]
  },
  {
   "cell_type": "code",
   "execution_count": 3,
   "id": "ac9ff214",
   "metadata": {},
   "outputs": [
    {
     "data": {
      "text/plain": [
       "49"
      ]
     },
     "execution_count": 3,
     "metadata": {},
     "output_type": "execute_result"
    }
   ],
   "source": [
    " area_quadrado2(7)"
   ]
  },
  {
   "cell_type": "code",
   "execution_count": null,
   "id": "0c3e7a52",
   "metadata": {},
   "outputs": [],
   "source": [
    "area_retangulo = lambda b,h: b*h"
   ]
  },
  {
   "cell_type": "markdown",
   "id": "ac9be1ce",
   "metadata": {},
   "source": [
    "#### Map"
   ]
  },
  {
   "cell_type": "code",
   "execution_count": 4,
   "id": "59de5aac",
   "metadata": {},
   "outputs": [
    {
     "name": "stdout",
     "output_type": "stream",
     "text": [
      "[16, 25, 36, 49, 64, 81, 100]\n"
     ]
    }
   ],
   "source": [
    "L = [4,5,6,7,8,9,10]\n",
    "areas = list(map(lambda x: x**2, L))\n",
    "print(areas)"
   ]
  },
  {
   "cell_type": "markdown",
   "id": "4ac01eef",
   "metadata": {},
   "source": [
    "a resposta vai estar em uma lista, map associa a função lambda com cada variavel da lista L"
   ]
  }
 ],
 "metadata": {
  "kernelspec": {
   "display_name": "Python 3 (ipykernel)",
   "language": "python",
   "name": "python3"
  },
  "language_info": {
   "codemirror_mode": {
    "name": "ipython",
    "version": 3
   },
   "file_extension": ".py",
   "mimetype": "text/x-python",
   "name": "python",
   "nbconvert_exporter": "python",
   "pygments_lexer": "ipython3",
   "version": "3.9.13"
  }
 },
 "nbformat": 4,
 "nbformat_minor": 5
}
