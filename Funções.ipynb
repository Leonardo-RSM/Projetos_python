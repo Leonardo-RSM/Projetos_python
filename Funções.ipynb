{
 "cells": [
  {
   "cell_type": "markdown",
   "id": "e9a4a898",
   "metadata": {},
   "source": [
    "# Funções"
   ]
  },
  {
   "cell_type": "markdown",
   "id": "2e3725cc",
   "metadata": {},
   "source": [
    "algo que iremos usar várias vezes"
   ]
  },
  {
   "cell_type": "code",
   "execution_count": 1,
   "id": "08a62d3c",
   "metadata": {},
   "outputs": [],
   "source": [
    "def identidade(name,age):\n",
    "    print('Olá',name,'\\nVocê é jovem, tem apenas',age)"
   ]
  },
  {
   "cell_type": "code",
   "execution_count": 2,
   "id": "ed824425",
   "metadata": {},
   "outputs": [
    {
     "name": "stdout",
     "output_type": "stream",
     "text": [
      "Olá Leonardo \n",
      "Você é jovem, tem apenas 58\n"
     ]
    }
   ],
   "source": [
    "identidade('Leonardo', 58)"
   ]
  },
  {
   "cell_type": "code",
   "execution_count": 3,
   "id": "4ea0f1a3",
   "metadata": {},
   "outputs": [],
   "source": [
    "def maior(x,y):\n",
    "    if x < y:\n",
    "        print('o maior número é y')\n",
    "    elif x == y:\n",
    "        print('x é igual a y') \n",
    "    else:\n",
    "        print('o maior número é x')\n"
   ]
  },
  {
   "cell_type": "code",
   "execution_count": 4,
   "id": "5c5fb230",
   "metadata": {},
   "outputs": [
    {
     "name": "stdout",
     "output_type": "stream",
     "text": [
      "o maior número é y\n"
     ]
    }
   ],
   "source": [
    "maior(2,28)"
   ]
  },
  {
   "cell_type": "code",
   "execution_count": 7,
   "id": "7951f9ec",
   "metadata": {},
   "outputs": [],
   "source": [
    "def pitagoras (cat1, cat2, hip):\n",
    "    if hip == 'var':\n",
    "        hip = (cat1**2+cat2**2)**(1/2)\n",
    "        print('A hipotenusa é', hip)\n",
    "    elif cat1 == 'var':\n",
    "        cat1 = (hip**2-cat2**2)**(1/2)\n",
    "        print('o cateto é', cat1)\n",
    "    elif cat2 == 'var':\n",
    "        cat2 = (hip**2-cat1**2)**(1/2)\n",
    "        print('O cateto é',cat2)"
   ]
  },
  {
   "cell_type": "code",
   "execution_count": 8,
   "id": "999433b0",
   "metadata": {},
   "outputs": [
    {
     "name": "stdout",
     "output_type": "stream",
     "text": [
      "o cateto é 3.0\n"
     ]
    }
   ],
   "source": [
    "pitagoras ('var',4,5)"
   ]
  },
  {
   "cell_type": "code",
   "execution_count": null,
   "id": "04e9d46d",
   "metadata": {},
   "outputs": [],
   "source": []
  }
 ],
 "metadata": {
  "kernelspec": {
   "display_name": "Python 3 (ipykernel)",
   "language": "python",
   "name": "python3"
  },
  "language_info": {
   "codemirror_mode": {
    "name": "ipython",
    "version": 3
   },
   "file_extension": ".py",
   "mimetype": "text/x-python",
   "name": "python",
   "nbconvert_exporter": "python",
   "pygments_lexer": "ipython3",
   "version": "3.9.13"
  }
 },
 "nbformat": 4,
 "nbformat_minor": 5
}
