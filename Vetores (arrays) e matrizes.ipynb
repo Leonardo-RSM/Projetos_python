{
 "cells": [
  {
   "cell_type": "markdown",
   "id": "26712dbd",
   "metadata": {},
   "source": [
    "matriz: \"uma tabela de valores\"\n",
    "vetor: \"uma matriz de uma coluna ou linha\"\n"
   ]
  },
  {
   "cell_type": "code",
   "execution_count": 1,
   "id": "26227b5b",
   "metadata": {},
   "outputs": [
    {
     "data": {
      "text/plain": [
       "list"
      ]
     },
     "execution_count": 1,
     "metadata": {},
     "output_type": "execute_result"
    }
   ],
   "source": [
    "vetor = [2,4,5,6]\n",
    "type(vetor)"
   ]
  },
  {
   "cell_type": "code",
   "execution_count": 2,
   "id": "0fca9802",
   "metadata": {},
   "outputs": [
    {
     "data": {
      "text/plain": [
       "list"
      ]
     },
     "execution_count": 2,
     "metadata": {},
     "output_type": "execute_result"
    }
   ],
   "source": [
    "matriz = [[1,2,3],\n",
    "          [4,5,6],\n",
    "          [7,8,9]]\n",
    "type(matriz)"
   ]
  },
  {
   "cell_type": "code",
   "execution_count": 3,
   "id": "91d4694b",
   "metadata": {},
   "outputs": [
    {
     "data": {
      "text/plain": [
       "numpy.ndarray"
      ]
     },
     "execution_count": 3,
     "metadata": {},
     "output_type": "execute_result"
    }
   ],
   "source": [
    "import numpy as np\n",
    "vetor2 = np.array([1,-3,4.2,5])\n",
    "type(vetor2)"
   ]
  },
  {
   "cell_type": "code",
   "execution_count": 4,
   "id": "65fd1976",
   "metadata": {},
   "outputs": [
    {
     "data": {
      "text/plain": [
       "array([[1., 1., 1.],\n",
       "       [1., 1., 1.]])"
      ]
     },
     "execution_count": 4,
     "metadata": {},
     "output_type": "execute_result"
    }
   ],
   "source": [
    "matriz2 = np.ones((2,3))\n",
    "matriz2"
   ]
  },
  {
   "cell_type": "code",
   "execution_count": null,
   "id": "e8569d11",
   "metadata": {},
   "outputs": [],
   "source": [
    "type(matriz2)"
   ]
  },
  {
   "cell_type": "code",
   "execution_count": 5,
   "id": "7db1f057",
   "metadata": {},
   "outputs": [
    {
     "data": {
      "text/plain": [
       "array([[ 2,  0,  0,  0,  0],\n",
       "       [ 0,  4,  0,  0,  0],\n",
       "       [ 0,  0,  6,  0,  0],\n",
       "       [ 0,  0,  0,  8,  0],\n",
       "       [ 0,  0,  0,  0, 10]])"
      ]
     },
     "execution_count": 5,
     "metadata": {},
     "output_type": "execute_result"
    }
   ],
   "source": [
    "matriz3 = np.diag((2,4,6,8,10)) #np é um um objeto e a função diag é um método\n",
    "matriz3"
   ]
  },
  {
   "cell_type": "markdown",
   "id": "583fa8f8",
   "metadata": {},
   "source": [
    "sempre que um valor for seguido de ponto ele é um objeto, o que vem depois do objeto é um método ou atributo\n",
    "\n",
    "Um método possui parenteses\n",
    "o que tem dentro do parenteses é chamado de parametro\n",
    "Um atributo não poussui parenteses\n"
   ]
  },
  {
   "cell_type": "code",
   "execution_count": 6,
   "id": "e345f2e3",
   "metadata": {},
   "outputs": [
    {
     "data": {
      "text/plain": [
       "numpy.ndarray"
      ]
     },
     "execution_count": 6,
     "metadata": {},
     "output_type": "execute_result"
    }
   ],
   "source": [
    "type(matriz3)"
   ]
  },
  {
   "cell_type": "code",
   "execution_count": null,
   "id": "a984dfe1",
   "metadata": {},
   "outputs": [],
   "source": []
  }
 ],
 "metadata": {
  "kernelspec": {
   "display_name": "Python 3 (ipykernel)",
   "language": "python",
   "name": "python3"
  },
  "language_info": {
   "codemirror_mode": {
    "name": "ipython",
    "version": 3
   },
   "file_extension": ".py",
   "mimetype": "text/x-python",
   "name": "python",
   "nbconvert_exporter": "python",
   "pygments_lexer": "ipython3",
   "version": "3.9.13"
  }
 },
 "nbformat": 4,
 "nbformat_minor": 5
}
