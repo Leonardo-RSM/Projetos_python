{
 "cells": [
  {
   "cell_type": "markdown",
   "id": "5c782002",
   "metadata": {},
   "source": [
    "# Estrutura de repetição (while, for)"
   ]
  },
  {
   "cell_type": "markdown",
   "id": "77438b76",
   "metadata": {},
   "source": [
    "### for"
   ]
  },
  {
   "cell_type": "code",
   "execution_count": null,
   "id": "6b44fa8f",
   "metadata": {},
   "outputs": [],
   "source": [
    "for var0 in range(0,4):\n",
    "    print(var0)"
   ]
  },
  {
   "cell_type": "markdown",
   "id": "521921f1",
   "metadata": {},
   "source": [
    "o comando for retorna para dar um comando a célula até cumprir o último requisito, no exemplo ele executa o comando com 0, volta na função e printa o 1, volta na função e printa o 2, volta na função e printa o 3, no final ele bate no quatro e não executa mais."
   ]
  },
  {
   "cell_type": "code",
   "execution_count": null,
   "id": "200b9b75",
   "metadata": {},
   "outputs": [],
   "source": [
    "array = [1,2,3,4,5,10]\n",
    "for var in array:\n",
    "    print(var * 2)"
   ]
  },
  {
   "cell_type": "code",
   "execution_count": null,
   "id": "16190281",
   "metadata": {},
   "outputs": [],
   "source": [
    "array2 = [1,5,6,8,10]\n",
    "for var2 in array2:\n",
    "    mult = var2 * 2\n",
    "    print(mult)"
   ]
  },
  {
   "cell_type": "code",
   "execution_count": null,
   "id": "76d6abe4",
   "metadata": {},
   "outputs": [],
   "source": [
    "soma = 0\n",
    "count = 0\n",
    "for var3 in range (1,6):\n",
    "    num = int (input('digite o {}o valor: '. format(var3)))\n",
    "    if num % 2 == 0:\n",
    "        soma = soma + num\n",
    "        count = count + 1 \n",
    "        print('Você informou {} números pares e a soma deles é igual a {}'. format(count, soma))"
   ]
  },
  {
   "cell_type": "markdown",
   "id": "b215905e",
   "metadata": {},
   "source": [
    "no código a cima é realizada a criação de duas variáveis, count e soma.\n",
    "depois disso é utilizado o for para retornar o comando com 5 valores(o número de valores se encontra em um 'range'/intervalo entre 1 e 6, portanto 5 números)\n",
    "dentro de for estabelecemos que os números devem ser inteiros e o valor da ordem com input. definido pelo número de vezes que var3 ocorreu\n",
    "depois disso a gente traz um condicional para somar numeros pares, em que os números que tem resto da divisão de 2 = 0 são somados.\n",
    "count conta quantos numeros foram somados"
   ]
  },
  {
   "cell_type": "markdown",
   "id": "06dd0545",
   "metadata": {},
   "source": [
    "### While"
   ]
  },
  {
   "cell_type": "code",
   "execution_count": null,
   "id": "36cb3d78",
   "metadata": {},
   "outputs": [],
   "source": [
    "var4 = 1\n",
    "while var4 =< 10:\n",
    "    s = var4 + 10\n",
    "    print(s)\n",
    "    var4 = var4 + 1\n",
    "print('FIM')"
   ]
  },
  {
   "cell_type": "markdown",
   "id": "707eee16",
   "metadata": {},
   "source": [
    "var4 = var4 + 1 faz a contagem de vezes até que var4 seja 10"
   ]
  }
 ],
 "metadata": {
  "kernelspec": {
   "display_name": "Python 3 (ipykernel)",
   "language": "python",
   "name": "python3"
  },
  "language_info": {
   "codemirror_mode": {
    "name": "ipython",
    "version": 3
   },
   "file_extension": ".py",
   "mimetype": "text/x-python",
   "name": "python",
   "nbconvert_exporter": "python",
   "pygments_lexer": "ipython3",
   "version": "3.9.13"
  }
 },
 "nbformat": 4,
 "nbformat_minor": 5
}
