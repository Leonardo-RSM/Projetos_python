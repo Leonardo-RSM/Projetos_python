{
 "cells": [
  {
   "cell_type": "code",
   "execution_count": 1,
   "id": "918989c6",
   "metadata": {},
   "outputs": [],
   "source": [
    "import numpy as np\n",
    "import pandas as pd\n",
    "\n",
    "enem_sp = pd.read_csv('/Users/paull/OneDrive/Área de Trabalho/LEONARDO/python/jupyter/enem_2019_tratado.csv'\n",
    "                      , sep=',', encoding = 'iso-8859-1')"
   ]
  },
  {
   "cell_type": "code",
   "execution_count": 6,
   "id": "ac3a3f0e",
   "metadata": {},
   "outputs": [],
   "source": [
    "enem_guarulhos = enem_sp.loc[enem_sp.NO_MUNICIPIO_RESIDENCIA == 'Guarulhos']\n"
   ]
  },
  {
   "cell_type": "code",
   "execution_count": 3,
   "id": "d74d5877",
   "metadata": {},
   "outputs": [],
   "source": [
    "enem_bauru = enem_sp.loc[enem_sp.NO_MUNICIPIO_RESIDENCIA == 'Bauru']"
   ]
  },
  {
   "cell_type": "code",
   "execution_count": 8,
   "id": "f2a962c3",
   "metadata": {},
   "outputs": [
    {
     "data": {
      "text/plain": [
       "15647"
      ]
     },
     "execution_count": 8,
     "metadata": {},
     "output_type": "execute_result"
    }
   ],
   "source": [
    "len(enem_guarulhos)"
   ]
  },
  {
   "cell_type": "markdown",
   "id": "bf62d1b7",
   "metadata": {},
   "source": [
    "# Criando uma função probabilidade"
   ]
  },
  {
   "cell_type": "code",
   "execution_count": 9,
   "id": "8418876f",
   "metadata": {},
   "outputs": [],
   "source": [
    "def probabilidade(A,E):\n",
    "    resultado = (A/E) * 100\n",
    "    print('{:2f}'.format(resultado))"
   ]
  },
  {
   "cell_type": "code",
   "execution_count": 11,
   "id": "eb000d59",
   "metadata": {},
   "outputs": [
    {
     "name": "stdout",
     "output_type": "stream",
     "text": [
      "16.666667\n"
     ]
    }
   ],
   "source": [
    "probabilidade(250,1500)"
   ]
  },
  {
   "cell_type": "code",
   "execution_count": 12,
   "id": "af44b5f3",
   "metadata": {},
   "outputs": [
    {
     "name": "stdout",
     "output_type": "stream",
     "text": [
      "3.129776\n"
     ]
    }
   ],
   "source": [
    "probabilidade(len(enem_guarulhos), len(enem_sp))"
   ]
  },
  {
   "cell_type": "code",
   "execution_count": 14,
   "id": "b27d86f7",
   "metadata": {},
   "outputs": [
    {
     "name": "stdout",
     "output_type": "stream",
     "text": [
      "0.834300\n"
     ]
    }
   ],
   "source": [
    "probabilidade(len(enem_bauru),len(enem_sp))"
   ]
  },
  {
   "cell_type": "code",
   "execution_count": 18,
   "id": "576ebd1c",
   "metadata": {},
   "outputs": [
    {
     "data": {
      "text/html": [
       "<div>\n",
       "<style scoped>\n",
       "    .dataframe tbody tr th:only-of-type {\n",
       "        vertical-align: middle;\n",
       "    }\n",
       "\n",
       "    .dataframe tbody tr th {\n",
       "        vertical-align: top;\n",
       "    }\n",
       "\n",
       "    .dataframe thead th {\n",
       "        text-align: right;\n",
       "    }\n",
       "</style>\n",
       "<table border=\"1\" class=\"dataframe\">\n",
       "  <thead>\n",
       "    <tr style=\"text-align: right;\">\n",
       "      <th></th>\n",
       "      <th>NU_INSCRICAO</th>\n",
       "      <th>NO_MUNICIPIO_RESIDENCIA</th>\n",
       "      <th>IDADE</th>\n",
       "      <th>SEXO</th>\n",
       "      <th>TP_ESTADO_CIVIL</th>\n",
       "      <th>RACA</th>\n",
       "      <th>TP_NACIONALIDADE</th>\n",
       "      <th>TP_ST_CONCLUSAO</th>\n",
       "      <th>ESCOLA</th>\n",
       "      <th>CO_ESCOLA</th>\n",
       "      <th>...</th>\n",
       "      <th>NOTA_MT</th>\n",
       "      <th>TP_LINGUA</th>\n",
       "      <th>TP_STATUS_REDACAO</th>\n",
       "      <th>COMP1</th>\n",
       "      <th>COMP2</th>\n",
       "      <th>COMP3</th>\n",
       "      <th>COMP4</th>\n",
       "      <th>COMP5</th>\n",
       "      <th>NOTA_REDACAO</th>\n",
       "      <th>INTERNET</th>\n",
       "    </tr>\n",
       "  </thead>\n",
       "  <tbody>\n",
       "    <tr>\n",
       "      <th>4</th>\n",
       "      <td>1,90E+11</td>\n",
       "      <td>Guarulhos</td>\n",
       "      <td>23</td>\n",
       "      <td>F</td>\n",
       "      <td>1</td>\n",
       "      <td>branca</td>\n",
       "      <td>1</td>\n",
       "      <td>1</td>\n",
       "      <td>não_respondeu</td>\n",
       "      <td>NaN</td>\n",
       "      <td>...</td>\n",
       "      <td>796.1</td>\n",
       "      <td>Inglês</td>\n",
       "      <td>1.0</td>\n",
       "      <td>160.0</td>\n",
       "      <td>200.0</td>\n",
       "      <td>180.0</td>\n",
       "      <td>180.0</td>\n",
       "      <td>160.0</td>\n",
       "      <td>880.0</td>\n",
       "      <td>Sim</td>\n",
       "    </tr>\n",
       "    <tr>\n",
       "      <th>56</th>\n",
       "      <td>1,90E+11</td>\n",
       "      <td>Guarulhos</td>\n",
       "      <td>17</td>\n",
       "      <td>F</td>\n",
       "      <td>1</td>\n",
       "      <td>parda</td>\n",
       "      <td>1</td>\n",
       "      <td>2</td>\n",
       "      <td>pública</td>\n",
       "      <td>NaN</td>\n",
       "      <td>...</td>\n",
       "      <td>468.1</td>\n",
       "      <td>Espanhol</td>\n",
       "      <td>1.0</td>\n",
       "      <td>100.0</td>\n",
       "      <td>60.0</td>\n",
       "      <td>60.0</td>\n",
       "      <td>100.0</td>\n",
       "      <td>0.0</td>\n",
       "      <td>320.0</td>\n",
       "      <td>Sim</td>\n",
       "    </tr>\n",
       "    <tr>\n",
       "      <th>69</th>\n",
       "      <td>1,90E+11</td>\n",
       "      <td>Guarulhos</td>\n",
       "      <td>27</td>\n",
       "      <td>M</td>\n",
       "      <td>1</td>\n",
       "      <td>nao_declarado</td>\n",
       "      <td>1</td>\n",
       "      <td>1</td>\n",
       "      <td>não_respondeu</td>\n",
       "      <td>NaN</td>\n",
       "      <td>...</td>\n",
       "      <td>743.8</td>\n",
       "      <td>Inglês</td>\n",
       "      <td>1.0</td>\n",
       "      <td>120.0</td>\n",
       "      <td>180.0</td>\n",
       "      <td>120.0</td>\n",
       "      <td>120.0</td>\n",
       "      <td>160.0</td>\n",
       "      <td>700.0</td>\n",
       "      <td>Sim</td>\n",
       "    </tr>\n",
       "    <tr>\n",
       "      <th>130</th>\n",
       "      <td>1,90E+11</td>\n",
       "      <td>Guarulhos</td>\n",
       "      <td>28</td>\n",
       "      <td>F</td>\n",
       "      <td>1</td>\n",
       "      <td>branca</td>\n",
       "      <td>1</td>\n",
       "      <td>1</td>\n",
       "      <td>não_respondeu</td>\n",
       "      <td>NaN</td>\n",
       "      <td>...</td>\n",
       "      <td>415.1</td>\n",
       "      <td>Inglês</td>\n",
       "      <td>1.0</td>\n",
       "      <td>160.0</td>\n",
       "      <td>120.0</td>\n",
       "      <td>160.0</td>\n",
       "      <td>120.0</td>\n",
       "      <td>100.0</td>\n",
       "      <td>660.0</td>\n",
       "      <td>Sim</td>\n",
       "    </tr>\n",
       "    <tr>\n",
       "      <th>202</th>\n",
       "      <td>1,90E+11</td>\n",
       "      <td>Guarulhos</td>\n",
       "      <td>17</td>\n",
       "      <td>F</td>\n",
       "      <td>1</td>\n",
       "      <td>parda</td>\n",
       "      <td>1</td>\n",
       "      <td>2</td>\n",
       "      <td>pública</td>\n",
       "      <td>35005824.0</td>\n",
       "      <td>...</td>\n",
       "      <td>594.9</td>\n",
       "      <td>Inglês</td>\n",
       "      <td>1.0</td>\n",
       "      <td>120.0</td>\n",
       "      <td>120.0</td>\n",
       "      <td>120.0</td>\n",
       "      <td>120.0</td>\n",
       "      <td>160.0</td>\n",
       "      <td>640.0</td>\n",
       "      <td>Sim</td>\n",
       "    </tr>\n",
       "  </tbody>\n",
       "</table>\n",
       "<p>5 rows × 24 columns</p>\n",
       "</div>"
      ],
      "text/plain": [
       "    NU_INSCRICAO NO_MUNICIPIO_RESIDENCIA  IDADE SEXO  TP_ESTADO_CIVIL  \\\n",
       "4       1,90E+11               Guarulhos     23    F                1   \n",
       "56      1,90E+11               Guarulhos     17    F                1   \n",
       "69      1,90E+11               Guarulhos     27    M                1   \n",
       "130     1,90E+11               Guarulhos     28    F                1   \n",
       "202     1,90E+11               Guarulhos     17    F                1   \n",
       "\n",
       "              RACA  TP_NACIONALIDADE  TP_ST_CONCLUSAO         ESCOLA  \\\n",
       "4           branca                 1                1  não_respondeu   \n",
       "56           parda                 1                2        pública   \n",
       "69   nao_declarado                 1                1  não_respondeu   \n",
       "130         branca                 1                1  não_respondeu   \n",
       "202          parda                 1                2        pública   \n",
       "\n",
       "      CO_ESCOLA  ... NOTA_MT  TP_LINGUA  TP_STATUS_REDACAO  COMP1  COMP2  \\\n",
       "4           NaN  ...   796.1     Inglês                1.0  160.0  200.0   \n",
       "56          NaN  ...   468.1   Espanhol                1.0  100.0   60.0   \n",
       "69          NaN  ...   743.8     Inglês                1.0  120.0  180.0   \n",
       "130         NaN  ...   415.1     Inglês                1.0  160.0  120.0   \n",
       "202  35005824.0  ...   594.9     Inglês                1.0  120.0  120.0   \n",
       "\n",
       "     COMP3  COMP4  COMP5  NOTA_REDACAO  INTERNET  \n",
       "4    180.0  180.0  160.0         880.0       Sim  \n",
       "56    60.0  100.0    0.0         320.0       Sim  \n",
       "69   120.0  120.0  160.0         700.0       Sim  \n",
       "130  160.0  120.0  100.0         660.0       Sim  \n",
       "202  120.0  120.0  160.0         640.0       Sim  \n",
       "\n",
       "[5 rows x 24 columns]"
      ]
     },
     "execution_count": 18,
     "metadata": {},
     "output_type": "execute_result"
    }
   ],
   "source": [
    "intervalo_nota_mt = enem_guarulhos.loc[enem_guarulhos.NOTA_MT >= 400]\n",
    "intervalo_nota_mt.head()"
   ]
  },
  {
   "cell_type": "code",
   "execution_count": 19,
   "id": "cf9d1ad2",
   "metadata": {},
   "outputs": [
    {
     "name": "stdout",
     "output_type": "stream",
     "text": [
      "2.554106\n"
     ]
    }
   ],
   "source": [
    "probabilidade(len(intervalo_nota_mt), len(enem_sp)  )"
   ]
  },
  {
   "cell_type": "markdown",
   "id": "baaeefc5",
   "metadata": {},
   "source": [
    "# Probabilidade de não ocorrer um evento"
   ]
  },
  {
   "cell_type": "code",
   "execution_count": 22,
   "id": "02e6b395",
   "metadata": {},
   "outputs": [],
   "source": [
    "def probabilidade_nao(A,E):\n",
    "    resultado = ((1-(A/E))*100)\n",
    "    print('{:.2f}'.format(resultado))"
   ]
  },
  {
   "cell_type": "code",
   "execution_count": 23,
   "id": "9be6f58a",
   "metadata": {},
   "outputs": [
    {
     "name": "stdout",
     "output_type": "stream",
     "text": [
      "96.87\n"
     ]
    }
   ],
   "source": [
    "probabilidade_nao(len(enem_guarulhos), len(enem_sp))"
   ]
  },
  {
   "cell_type": "code",
   "execution_count": 25,
   "id": "1147c90e",
   "metadata": {},
   "outputs": [
    {
     "name": "stdout",
     "output_type": "stream",
     "text": [
      "96.04\n"
     ]
    }
   ],
   "source": [
    "probabilidade_nao(len(enem_guarulhos)+len(enem_bauru), len(enem_sp))"
   ]
  },
  {
   "cell_type": "markdown",
   "id": "d959fce4",
   "metadata": {},
   "source": [
    "# Probabilidade da união mutuamente exclusiva (A u B)"
   ]
  },
  {
   "cell_type": "code",
   "execution_count": 30,
   "id": "3f171f61",
   "metadata": {},
   "outputs": [],
   "source": [
    "def probabilidade_aub(A,B,E):\n",
    "    resultado = (((A/E)+(B/E))*100)\n",
    "    print('{:.2f}'.format(resultado))"
   ]
  },
  {
   "cell_type": "code",
   "execution_count": 31,
   "id": "9de2fa2c",
   "metadata": {},
   "outputs": [
    {
     "name": "stdout",
     "output_type": "stream",
     "text": [
      "3.96\n"
     ]
    }
   ],
   "source": [
    "probabilidade_aub(len(enem_guarulhos),len(enem_bauru),len(enem_sp))"
   ]
  },
  {
   "cell_type": "markdown",
   "id": "810d4675",
   "metadata": {},
   "source": [
    "# Probabilidade da intersecção de dois eventos"
   ]
  },
  {
   "cell_type": "code",
   "execution_count": 32,
   "id": "520af23a",
   "metadata": {},
   "outputs": [],
   "source": [
    "def probabilidade_inter(A,B,E):\n",
    "    resultado = (A/E)*(B/E)*100\n",
    "    print('{:.3f}'.format(resultado))\n",
    "    "
   ]
  },
  {
   "cell_type": "code",
   "execution_count": 33,
   "id": "d48c217d",
   "metadata": {},
   "outputs": [
    {
     "name": "stdout",
     "output_type": "stream",
     "text": [
      "0.026\n"
     ]
    }
   ],
   "source": [
    "probabilidade_inter(len(enem_guarulhos),len(enem_bauru), len(enem_sp))"
   ]
  },
  {
   "cell_type": "markdown",
   "id": "15ac3105",
   "metadata": {},
   "source": [
    "# Probabilidade Condicional"
   ]
  },
  {
   "cell_type": "code",
   "execution_count": 34,
   "id": "b85c80ea",
   "metadata": {},
   "outputs": [
    {
     "data": {
      "text/html": [
       "<div>\n",
       "<style scoped>\n",
       "    .dataframe tbody tr th:only-of-type {\n",
       "        vertical-align: middle;\n",
       "    }\n",
       "\n",
       "    .dataframe tbody tr th {\n",
       "        vertical-align: top;\n",
       "    }\n",
       "\n",
       "    .dataframe thead th {\n",
       "        text-align: right;\n",
       "    }\n",
       "</style>\n",
       "<table border=\"1\" class=\"dataframe\">\n",
       "  <thead>\n",
       "    <tr style=\"text-align: right;\">\n",
       "      <th></th>\n",
       "      <th>NU_INSCRICAO</th>\n",
       "      <th>NO_MUNICIPIO_RESIDENCIA</th>\n",
       "      <th>IDADE</th>\n",
       "      <th>SEXO</th>\n",
       "      <th>TP_ESTADO_CIVIL</th>\n",
       "      <th>RACA</th>\n",
       "      <th>TP_NACIONALIDADE</th>\n",
       "      <th>TP_ST_CONCLUSAO</th>\n",
       "      <th>ESCOLA</th>\n",
       "      <th>CO_ESCOLA</th>\n",
       "      <th>...</th>\n",
       "      <th>NOTA_MT</th>\n",
       "      <th>TP_LINGUA</th>\n",
       "      <th>TP_STATUS_REDACAO</th>\n",
       "      <th>COMP1</th>\n",
       "      <th>COMP2</th>\n",
       "      <th>COMP3</th>\n",
       "      <th>COMP4</th>\n",
       "      <th>COMP5</th>\n",
       "      <th>NOTA_REDACAO</th>\n",
       "      <th>INTERNET</th>\n",
       "    </tr>\n",
       "  </thead>\n",
       "  <tbody>\n",
       "    <tr>\n",
       "      <th>1</th>\n",
       "      <td>1,90E+11</td>\n",
       "      <td>São Paulo</td>\n",
       "      <td>17</td>\n",
       "      <td>F</td>\n",
       "      <td>1</td>\n",
       "      <td>parda</td>\n",
       "      <td>1</td>\n",
       "      <td>2</td>\n",
       "      <td>privada</td>\n",
       "      <td>15567761.0</td>\n",
       "      <td>...</td>\n",
       "      <td>731.8</td>\n",
       "      <td>Inglês</td>\n",
       "      <td>1.0</td>\n",
       "      <td>160.0</td>\n",
       "      <td>120.0</td>\n",
       "      <td>200.0</td>\n",
       "      <td>200.0</td>\n",
       "      <td>200.0</td>\n",
       "      <td>880.0</td>\n",
       "      <td>Não</td>\n",
       "    </tr>\n",
       "    <tr>\n",
       "      <th>3</th>\n",
       "      <td>1,90E+11</td>\n",
       "      <td>Embu-Guaçu</td>\n",
       "      <td>17</td>\n",
       "      <td>F</td>\n",
       "      <td>1</td>\n",
       "      <td>parda</td>\n",
       "      <td>1</td>\n",
       "      <td>2</td>\n",
       "      <td>pública</td>\n",
       "      <td>NaN</td>\n",
       "      <td>...</td>\n",
       "      <td>419.2</td>\n",
       "      <td>Inglês</td>\n",
       "      <td>1.0</td>\n",
       "      <td>120.0</td>\n",
       "      <td>120.0</td>\n",
       "      <td>120.0</td>\n",
       "      <td>120.0</td>\n",
       "      <td>80.0</td>\n",
       "      <td>560.0</td>\n",
       "      <td>Sim</td>\n",
       "    </tr>\n",
       "    <tr>\n",
       "      <th>7</th>\n",
       "      <td>1,90E+11</td>\n",
       "      <td>Santo André</td>\n",
       "      <td>20</td>\n",
       "      <td>F</td>\n",
       "      <td>1</td>\n",
       "      <td>parda</td>\n",
       "      <td>1</td>\n",
       "      <td>1</td>\n",
       "      <td>não_respondeu</td>\n",
       "      <td>NaN</td>\n",
       "      <td>...</td>\n",
       "      <td>508.5</td>\n",
       "      <td>Espanhol</td>\n",
       "      <td>1.0</td>\n",
       "      <td>120.0</td>\n",
       "      <td>120.0</td>\n",
       "      <td>120.0</td>\n",
       "      <td>100.0</td>\n",
       "      <td>80.0</td>\n",
       "      <td>540.0</td>\n",
       "      <td>Sim</td>\n",
       "    </tr>\n",
       "    <tr>\n",
       "      <th>9</th>\n",
       "      <td>1,90E+11</td>\n",
       "      <td>Santo André</td>\n",
       "      <td>44</td>\n",
       "      <td>F</td>\n",
       "      <td>2</td>\n",
       "      <td>parda</td>\n",
       "      <td>1</td>\n",
       "      <td>1</td>\n",
       "      <td>não_respondeu</td>\n",
       "      <td>NaN</td>\n",
       "      <td>...</td>\n",
       "      <td>488.1</td>\n",
       "      <td>Espanhol</td>\n",
       "      <td>1.0</td>\n",
       "      <td>120.0</td>\n",
       "      <td>120.0</td>\n",
       "      <td>120.0</td>\n",
       "      <td>120.0</td>\n",
       "      <td>40.0</td>\n",
       "      <td>520.0</td>\n",
       "      <td>Sim</td>\n",
       "    </tr>\n",
       "    <tr>\n",
       "      <th>11</th>\n",
       "      <td>1,90E+11</td>\n",
       "      <td>Guará</td>\n",
       "      <td>17</td>\n",
       "      <td>F</td>\n",
       "      <td>1</td>\n",
       "      <td>parda</td>\n",
       "      <td>1</td>\n",
       "      <td>2</td>\n",
       "      <td>pública</td>\n",
       "      <td>35023310.0</td>\n",
       "      <td>...</td>\n",
       "      <td>535.1</td>\n",
       "      <td>Inglês</td>\n",
       "      <td>1.0</td>\n",
       "      <td>140.0</td>\n",
       "      <td>120.0</td>\n",
       "      <td>140.0</td>\n",
       "      <td>160.0</td>\n",
       "      <td>120.0</td>\n",
       "      <td>680.0</td>\n",
       "      <td>Sim</td>\n",
       "    </tr>\n",
       "  </tbody>\n",
       "</table>\n",
       "<p>5 rows × 24 columns</p>\n",
       "</div>"
      ],
      "text/plain": [
       "   NU_INSCRICAO NO_MUNICIPIO_RESIDENCIA  IDADE SEXO  TP_ESTADO_CIVIL   RACA  \\\n",
       "1      1,90E+11               São Paulo     17    F                1  parda   \n",
       "3      1,90E+11              Embu-Guaçu     17    F                1  parda   \n",
       "7      1,90E+11             Santo André     20    F                1  parda   \n",
       "9      1,90E+11             Santo André     44    F                2  parda   \n",
       "11     1,90E+11                   Guará     17    F                1  parda   \n",
       "\n",
       "    TP_NACIONALIDADE  TP_ST_CONCLUSAO         ESCOLA   CO_ESCOLA  ... NOTA_MT  \\\n",
       "1                  1                2        privada  15567761.0  ...   731.8   \n",
       "3                  1                2        pública         NaN  ...   419.2   \n",
       "7                  1                1  não_respondeu         NaN  ...   508.5   \n",
       "9                  1                1  não_respondeu         NaN  ...   488.1   \n",
       "11                 1                2        pública  35023310.0  ...   535.1   \n",
       "\n",
       "    TP_LINGUA  TP_STATUS_REDACAO  COMP1  COMP2  COMP3  COMP4  COMP5  \\\n",
       "1      Inglês                1.0  160.0  120.0  200.0  200.0  200.0   \n",
       "3      Inglês                1.0  120.0  120.0  120.0  120.0   80.0   \n",
       "7    Espanhol                1.0  120.0  120.0  120.0  100.0   80.0   \n",
       "9    Espanhol                1.0  120.0  120.0  120.0  120.0   40.0   \n",
       "11     Inglês                1.0  140.0  120.0  140.0  160.0  120.0   \n",
       "\n",
       "    NOTA_REDACAO  INTERNET  \n",
       "1          880.0       Não  \n",
       "3          560.0       Sim  \n",
       "7          540.0       Sim  \n",
       "9          520.0       Sim  \n",
       "11         680.0       Sim  \n",
       "\n",
       "[5 rows x 24 columns]"
      ]
     },
     "execution_count": 34,
     "metadata": {},
     "output_type": "execute_result"
    }
   ],
   "source": [
    "def probabilidade_cond(AB, B):\n",
    "    resultado = (AB/B)*100\n",
    "    print('{:.2f}'.format(resultado))\n",
    "\n",
    "mulher = enem_sp.loc[enem_sp.SEXO == 'F']\n",
    "mulher_parda = mulher.loc[mulher.RACA =='parda']\n",
    "mulher_parda.head()"
   ]
  },
  {
   "cell_type": "code",
   "execution_count": 36,
   "id": "0420fd22",
   "metadata": {},
   "outputs": [
    {
     "name": "stdout",
     "output_type": "stream",
     "text": [
      "30.76\n"
     ]
    }
   ],
   "source": [
    "probabilidade_cond(len(mulher_parda), len(mulher))"
   ]
  },
  {
   "cell_type": "code",
   "execution_count": null,
   "id": "ff269250",
   "metadata": {},
   "outputs": [],
   "source": []
  }
 ],
 "metadata": {
  "kernelspec": {
   "display_name": "Python 3 (ipykernel)",
   "language": "python",
   "name": "python3"
  },
  "language_info": {
   "codemirror_mode": {
    "name": "ipython",
    "version": 3
   },
   "file_extension": ".py",
   "mimetype": "text/x-python",
   "name": "python",
   "nbconvert_exporter": "python",
   "pygments_lexer": "ipython3",
   "version": "3.9.13"
  }
 },
 "nbformat": 4,
 "nbformat_minor": 5
}
