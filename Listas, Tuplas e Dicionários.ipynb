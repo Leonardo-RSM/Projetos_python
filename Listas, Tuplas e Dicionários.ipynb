{
 "cells": [
  {
   "cell_type": "markdown",
   "id": "05a712bc",
   "metadata": {},
   "source": [
    "# Listas, Tuplas e Dicionários "
   ]
  },
  {
   "cell_type": "markdown",
   "id": "89323a84",
   "metadata": {},
   "source": [
    "### Listas[  ]"
   ]
  },
  {
   "cell_type": "code",
   "execution_count": null,
   "id": "fc2a72da",
   "metadata": {},
   "outputs": [],
   "source": [
    "num = [2,5,7,9]"
   ]
  },
  {
   "cell_type": "code",
   "execution_count": null,
   "id": "a24e7617",
   "metadata": {},
   "outputs": [],
   "source": [
    "num[3] = 4"
   ]
  },
  {
   "cell_type": "markdown",
   "id": "b29e6528",
   "metadata": {},
   "source": [
    "num[3] ocorre a mudança do quarto elemento da array por 4, lembrando que uma array tem o seu primeiro elemento sendo 0."
   ]
  },
  {
   "cell_type": "code",
   "execution_count": null,
   "id": "a8c957e6",
   "metadata": {},
   "outputs": [],
   "source": [
    "num"
   ]
  },
  {
   "cell_type": "code",
   "execution_count": null,
   "id": "066bef71",
   "metadata": {},
   "outputs": [],
   "source": [
    "num.append(8)"
   ]
  },
  {
   "cell_type": "markdown",
   "id": "838ad569",
   "metadata": {},
   "source": [
    "append adiciona um numero a array"
   ]
  },
  {
   "cell_type": "code",
   "execution_count": null,
   "id": "26221334",
   "metadata": {},
   "outputs": [],
   "source": [
    "num.sort()"
   ]
  },
  {
   "cell_type": "markdown",
   "id": "d66637fe",
   "metadata": {},
   "source": [
    "coloca os números em ordem crescente"
   ]
  },
  {
   "cell_type": "code",
   "execution_count": null,
   "id": "12212325",
   "metadata": {},
   "outputs": [],
   "source": [
    "num.insert(2, 0)"
   ]
  },
  {
   "cell_type": "markdown",
   "id": "a8f06cb9",
   "metadata": {},
   "source": [
    "adiciona na posição 2 o número 0"
   ]
  },
  {
   "cell_type": "code",
   "execution_count": null,
   "id": "7b788a05",
   "metadata": {},
   "outputs": [],
   "source": [
    "num.remove(7)"
   ]
  },
  {
   "cell_type": "markdown",
   "id": "9aa862fa",
   "metadata": {},
   "source": [
    "remove um número da array"
   ]
  },
  {
   "cell_type": "markdown",
   "id": "7e4a38da",
   "metadata": {},
   "source": [
    "### Tupla"
   ]
  },
  {
   "cell_type": "code",
   "execution_count": null,
   "id": "57d4a522",
   "metadata": {},
   "outputs": [],
   "source": [
    "num2 = (1,5,7,9)"
   ]
  },
  {
   "cell_type": "markdown",
   "id": "3d39dd1b",
   "metadata": {},
   "source": [
    "não muda a lista, é fixa, imutável"
   ]
  },
  {
   "cell_type": "markdown",
   "id": "2a6e8629",
   "metadata": {},
   "source": [
    "### Dicionário"
   ]
  },
  {
   "cell_type": "markdown",
   "id": "5de2c091",
   "metadata": {},
   "source": [
    "adiciona uma listas dotadas de pares e valores"
   ]
  },
  {
   "cell_type": "code",
   "execution_count": null,
   "id": "0b99fd58",
   "metadata": {},
   "outputs": [],
   "source": [
    "pessoas = {'nome': 'Leonardo', 'sexo' : 'masculino', 'idade' : '18'}\n",
    "pessoas['jogo'] = 'minecraft' ## par de chave e valor, chave = jogo, valor = minecraft"
   ]
  }
 ],
 "metadata": {
  "kernelspec": {
   "display_name": "Python 3 (ipykernel)",
   "language": "python",
   "name": "python3"
  },
  "language_info": {
   "codemirror_mode": {
    "name": "ipython",
    "version": 3
   },
   "file_extension": ".py",
   "mimetype": "text/x-python",
   "name": "python",
   "nbconvert_exporter": "python",
   "pygments_lexer": "ipython3",
   "version": "3.9.13"
  }
 },
 "nbformat": 4,
 "nbformat_minor": 5
}
