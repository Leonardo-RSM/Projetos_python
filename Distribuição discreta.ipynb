{
 "cells": [
  {
   "cell_type": "code",
   "execution_count": 21,
   "id": "88aa9070",
   "metadata": {},
   "outputs": [
    {
     "name": "stderr",
     "output_type": "stream",
     "text": [
      "C:\\Users\\paull\\AppData\\Local\\Temp\\ipykernel_6412\\1891509723.py:7: FutureWarning: In a future version of pandas all arguments of read_csv except for the argument 'filepath_or_buffer' will be keyword-only.\n",
      "  enem_sp = pd.read_csv('/Users/paull/OneDrive/Área de Trabalho/LEONARDO/python/jupyter/enem_2019_tratado.csv',\n"
     ]
    }
   ],
   "source": [
    "import numpy as np\n",
    "import pandas as pd\n",
    "from scipy.stats import binom\n",
    "from scipy.stats import geom\n",
    "from scipy.stats import poisson \n",
    "\n",
    "enem_sp = pd.read_csv('/Users/paull/OneDrive/Área de Trabalho/LEONARDO/python/jupyter/enem_2019_tratado.csv',\n",
    "                     ',',encoding = 'iso-8859-1/')"
   ]
  },
  {
   "cell_type": "markdown",
   "id": "c79cf568",
   "metadata": {},
   "source": [
    "# Distribuição Binomial"
   ]
  },
  {
   "cell_type": "code",
   "execution_count": 3,
   "id": "e281ae12",
   "metadata": {},
   "outputs": [],
   "source": [
    "#probabilidade de retirar uma mulher\n",
    "mulher_enem = enem_sp.loc[enem_sp.SEXO == 'F']"
   ]
  },
  {
   "cell_type": "code",
   "execution_count": 4,
   "id": "b1acb23b",
   "metadata": {},
   "outputs": [],
   "source": [
    "p = len(mulher_enem)/len(enem_sp)"
   ]
  },
  {
   "cell_type": "markdown",
   "id": "d33fdb19",
   "metadata": {},
   "source": [
    "binom.pmf = valor pontual\n",
    "binom.cdf = faixa de valores (acumulada)"
   ]
  },
  {
   "cell_type": "code",
   "execution_count": 6,
   "id": "780d8b1a",
   "metadata": {},
   "outputs": [
    {
     "data": {
      "text/plain": [
       "0.13014261971434243"
      ]
     },
     "execution_count": 6,
     "metadata": {},
     "output_type": "execute_result"
    }
   ],
   "source": [
    "# probabilidade de retirar exatamente 4 mulheres em 10 amostras\n",
    "binom.pmf(4,10,p)\n",
    "\n",
    "# primeiro parâmetro: valor limite que está pretendendo calcular\n",
    "# segundo: número de tentativas\n",
    "# terceiro: probabilidade de sucesso"
   ]
  },
  {
   "cell_type": "code",
   "execution_count": 9,
   "id": "94c78cc3",
   "metadata": {},
   "outputs": [
    {
     "data": {
      "text/plain": [
       "0.9998304692157152"
      ]
     },
     "execution_count": 9,
     "metadata": {},
     "output_type": "execute_result"
    }
   ],
   "source": [
    "#probabilidade de retirar pelo menos uma mulher\n",
    "p0 = 1 - binom.pmf(0,10,p)\n",
    "p0"
   ]
  },
  {
   "cell_type": "code",
   "execution_count": 10,
   "id": "3c980e44",
   "metadata": {},
   "outputs": [
    {
     "data": {
      "text/plain": [
       "0.997486313318782"
      ]
     },
     "execution_count": 10,
     "metadata": {},
     "output_type": "execute_result"
    }
   ],
   "source": [
    "#probabilidade de retirar mais que 1 mulher num total de 10 amostras\n",
    "p1 = 1 - (binom.pmf(0,10,p)+binom.pmf(1,10,p))\n",
    "p1"
   ]
  },
  {
   "cell_type": "code",
   "execution_count": 11,
   "id": "475e10b5",
   "metadata": {},
   "outputs": [
    {
     "data": {
      "text/plain": [
       "0.9292869992964898"
      ]
     },
     "execution_count": 11,
     "metadata": {},
     "output_type": "execute_result"
    }
   ],
   "source": [
    "# probabilidade de retirar mais que três mulheres num total de 10 amostras pela não ocorrência\n",
    "p2 = 1 - (binom.pmf(1,10,p)+binom.pmf(2,10,p)+binom.pmf(3,10,p))\n",
    "p2"
   ]
  },
  {
   "cell_type": "code",
   "execution_count": 13,
   "id": "72873bd7",
   "metadata": {},
   "outputs": [
    {
     "data": {
      "text/plain": [
       "0.9291174685122046"
      ]
     },
     "execution_count": 13,
     "metadata": {},
     "output_type": "execute_result"
    }
   ],
   "source": [
    "# probabilidade de retirar mais que três mulheres num total de 10 amostras pela probabilidade de ocorrência\n",
    "p3 = binom.pmf(4,10,p)+binom.pmf(5,10,p)+binom.pmf(6,10,p)+binom.pmf(7,10,p)+binom.pmf(8,10,p)+binom.pmf(9,10,p)+binom.pmf(10,10,p)\n",
    "p3"
   ]
  },
  {
   "cell_type": "code",
   "execution_count": 15,
   "id": "1ad62cce",
   "metadata": {},
   "outputs": [
    {
     "data": {
      "text/plain": [
       "0.929117468512205"
      ]
     },
     "execution_count": 15,
     "metadata": {},
     "output_type": "execute_result"
    }
   ],
   "source": [
    "# outra forma (probabilidade acumulada)\n",
    "p4 = 1 - binom.cdf(3,10,p)\n",
    "p4"
   ]
  },
  {
   "cell_type": "code",
   "execution_count": 16,
   "id": "d2beae5c",
   "metadata": {},
   "outputs": [
    {
     "data": {
      "text/plain": [
       "0.0356563059595738"
      ]
     },
     "execution_count": 16,
     "metadata": {},
     "output_type": "execute_result"
    }
   ],
   "source": [
    "# probabilidade 8 mulheres em 10 amostras\n",
    "p5 = binom.pmf(9,10,p)+binom.pmf(10,10,p)\n",
    "p5"
   ]
  },
  {
   "cell_type": "code",
   "execution_count": 18,
   "id": "7d0ae6c6",
   "metadata": {},
   "outputs": [
    {
     "data": {
      "text/plain": [
       "0.03565630595957381"
      ]
     },
     "execution_count": 18,
     "metadata": {},
     "output_type": "execute_result"
    }
   ],
   "source": [
    "# outra forma (probabilidade acumulada)\n",
    "p6 = binom.cdf(10,10,p) - binom.cdf(8,10,p)\n",
    "p6"
   ]
  },
  {
   "cell_type": "markdown",
   "id": "9805cbe1",
   "metadata": {},
   "source": [
    "# Distribuição Geométrica"
   ]
  },
  {
   "cell_type": "code",
   "execution_count": 20,
   "id": "a372f1ef",
   "metadata": {},
   "outputs": [
    {
     "data": {
      "text/plain": [
       "0.042898029955685306"
      ]
     },
     "execution_count": 20,
     "metadata": {},
     "output_type": "execute_result"
    }
   ],
   "source": [
    "geom.pmf(4,p)\n",
    "# geom.pmf(x,p) x é o número de tentativas, enquanto p é a probabilidade"
   ]
  },
  {
   "cell_type": "markdown",
   "id": "444b33c9",
   "metadata": {},
   "source": [
    "# Distribuição de Poisson"
   ]
  },
  {
   "cell_type": "code",
   "execution_count": 23,
   "id": "e56e62c0",
   "metadata": {},
   "outputs": [
    {
     "data": {
      "text/plain": [
       "0.025038944623030353"
      ]
     },
     "execution_count": 23,
     "metadata": {},
     "output_type": "execute_result"
    }
   ],
   "source": [
    "# em  um local de prova, 100 vestibulandos, normalmente, terminam a prova em 2h\n",
    "# probabilidade de exatamente 90 vestibulandos terminarem a prova em 2h\n",
    "# poisson.pmf(x,m) x é a quantidade de ocorrencias no estudo e m é a taxa de ocorrência\n",
    "\n",
    "poisson.pmf(90,100)"
   ]
  },
  {
   "cell_type": "code",
   "execution_count": null,
   "id": "9c7a978f",
   "metadata": {},
   "outputs": [],
   "source": []
  }
 ],
 "metadata": {
  "kernelspec": {
   "display_name": "Python 3 (ipykernel)",
   "language": "python",
   "name": "python3"
  },
  "language_info": {
   "codemirror_mode": {
    "name": "ipython",
    "version": 3
   },
   "file_extension": ".py",
   "mimetype": "text/x-python",
   "name": "python",
   "nbconvert_exporter": "python",
   "pygments_lexer": "ipython3",
   "version": "3.9.13"
  }
 },
 "nbformat": 4,
 "nbformat_minor": 5
}
