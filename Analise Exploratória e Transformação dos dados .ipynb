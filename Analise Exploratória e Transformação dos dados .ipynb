{
 "cells": [
  {
   "cell_type": "code",
   "execution_count": 1,
   "id": "e02ec58b",
   "metadata": {},
   "outputs": [],
   "source": [
    "import numpy as np\n",
    "import pandas as pd\n",
    "\n",
    "dados = pd.read_csv('/Users/paull/OneDrive/Área de Trabalho/LEONARDO/python/microdados_enem_2019_sp.csv',\n",
    "                    sep=';', encoding='iso-8859-1')\n",
    "\n",
    "dados1 = dados.drop(columns=['CO_MUNICIPIO_RESIDENCIA'])\n",
    "\n",
    "\n",
    "\n",
    "dados1 = dados1.drop(columns=['CO_UF_RESIDENCIA','SG_UF_RESIDENCIA','CO_MUNICIPIO_NASCIMENTO'], )\n",
    "dados1 = dados1.drop(columns=['NO_MUNICIPIO_NASCIMENTO','CO_UF_NASCIMENTO','SG_UF_NASCIMENTO',\n",
    "                              'TP_ANO_CONCLUIU','TP_ENSINO','CO_MUNICIPIO_ESC','CO_UF_ESC','SG_UF_ESC'],)\n",
    "dados1 = dados1.drop(columns=['TP_DEPENDENCIA_ADM_ESC','TP_LOCALIZACAO_ESC','TP_SIT_FUNC_ESC'],)\n",
    "\n",
    "dados1.loc[:,'NU_NOTA_CN'] /= 10\n",
    "dados1.loc[:,'NU_NOTA_CH'] /= 10\n",
    "dados1.loc[:,'NU_NOTA_LC'] /= 10\n",
    "dados1.loc[:,'NU_NOTA_MT'] /= 10\n",
    "\n",
    "dados1 = dados1.rename(columns={'NU_NOTA_REDACAO': 'NOTA_REDACAO'})\n",
    "dados1 = dados1.rename(columns={'NU_NOTA_CN': 'NOTA_CN','NU_NOTA_CH': 'NOTA_CH',\n",
    "                                'NU_NOTA_LC': 'NOTA_LC','NU_NOTA_MT': 'NOTA_MT'})\n",
    "dados1 = dados1.rename(columns={'NU_NOTA_COMP1': 'COMP1','NU_NOTA_COMP2': 'COMP2',\n",
    "                                'NU_NOTA_COMP3': 'COMP3','NU_NOTA_COMP4': 'COMP4',\n",
    "                                'NU_NOTA_COMP5':'COMP5'})\n",
    "dados1 = dados1.rename(columns={'NU_IDADE': 'IDADE','TP_SEXO': 'SEXO',\n",
    "                                'TP_COR_RACA': 'RACA','Q025': 'INTERNET',\n",
    "                                'TP_ESCOLA':'ESCOLA'})\n",
    "\n",
    "dados1[\"RACA\"] = dados1[\"RACA\"].replace({0:\"nao_declarado\", 1:\"branca\", 2:\"preta\", 3:\"parda\", 4:\"amarela\", 5:\"indigena\"})\n",
    "dados1[\"TP_LINGUA\"] = dados1[\"TP_LINGUA\"].replace({0:\"Inglês\", 1:\"Espanhol\"})\n",
    "dados1[\"ESCOLA\"] = dados1[\"ESCOLA\"].replace({1:\"não_respondeu\", 2:\"pública\", 3:\"privada\", 4:\"exterior\"})\n",
    "dados1[\"INTERNET\"] = dados1[\"INTERNET\"].replace({\"A\":\"Não\", \"B\":\"Sim\"})\n",
    "\n"
   ]
  },
  {
   "cell_type": "code",
   "execution_count": 2,
   "id": "0c2bd352",
   "metadata": {},
   "outputs": [
    {
     "data": {
      "text/plain": [
       "17    219313\n",
       "18    147548\n",
       "19     81236\n",
       "16     59316\n",
       "20     53009\n",
       "       ...  \n",
       "86         1\n",
       "4          1\n",
       "3          1\n",
       "91         1\n",
       "2          1\n",
       "Name: IDADE, Length: 80, dtype: int64"
      ]
     },
     "execution_count": 2,
     "metadata": {},
     "output_type": "execute_result"
    }
   ],
   "source": [
    "dados1['IDADE'].value_counts()"
   ]
  },
  {
   "cell_type": "code",
   "execution_count": 3,
   "id": "74253e7b",
   "metadata": {},
   "outputs": [
    {
     "data": {
      "text/plain": [
       "2          1\n",
       "3          1\n",
       "4          1\n",
       "5          2\n",
       "6          2\n",
       "7          3\n",
       "8          6\n",
       "12         6\n",
       "13        29\n",
       "14       355\n",
       "15     11583\n",
       "16     59316\n",
       "17    219313\n",
       "18    147548\n",
       "19     81236\n",
       "20     53009\n",
       "21     37242\n",
       "22     29489\n",
       "23     23531\n",
       "24     18851\n",
       "25     15103\n",
       "26     12465\n",
       "27     10367\n",
       "28      8986\n",
       "29      7650\n",
       "30      6967\n",
       "31      6331\n",
       "32      5685\n",
       "33      5175\n",
       "34      4795\n",
       "35      4340\n",
       "36      4109\n",
       "37      4105\n",
       "38      3767\n",
       "39      3299\n",
       "40      3058\n",
       "41      2638\n",
       "42      2462\n",
       "43      2307\n",
       "44      2069\n",
       "45      1939\n",
       "46      1718\n",
       "47      1578\n",
       "48      1496\n",
       "49      1304\n",
       "50      1167\n",
       "51      1014\n",
       "52       933\n",
       "53       841\n",
       "54       727\n",
       "55       652\n",
       "56       530\n",
       "57       497\n",
       "58       388\n",
       "59       325\n",
       "60       254\n",
       "61       236\n",
       "62       176\n",
       "63       144\n",
       "64       139\n",
       "Name: IDADE, dtype: int64"
      ]
     },
     "execution_count": 3,
     "metadata": {},
     "output_type": "execute_result"
    }
   ],
   "source": [
    "dados1['IDADE'].value_counts().sort_index().head(60)"
   ]
  },
  {
   "cell_type": "code",
   "execution_count": 4,
   "id": "ad7fc4ec",
   "metadata": {},
   "outputs": [],
   "source": [
    "menores_12 = dados1.query('IDADE < 12')['NO_MUNICIPIO_RESIDENCIA'].value_counts()"
   ]
  },
  {
   "cell_type": "markdown",
   "id": "b3b74a41",
   "metadata": {},
   "source": [
    "Criada uma variavel. o papel dela é fazer uma query (buscar valores) em que a idade seja menor que 12 anos e separar em município de residencia. logo após isso é feita a contagem"
   ]
  },
  {
   "cell_type": "code",
   "execution_count": 5,
   "id": "b59cd458",
   "metadata": {},
   "outputs": [
    {
     "data": {
      "text/plain": [
       "São Paulo                 5\n",
       "Tambaú                    1\n",
       "Ribeirão Preto            1\n",
       "Bálsamo                   1\n",
       "São Bernardo do Campo     1\n",
       "Embu das Artes            1\n",
       "Queiroz                   1\n",
       "Santana de Parnaíba       1\n",
       "Vargem Grande Paulista    1\n",
       "Auriflama                 1\n",
       "Araçatuba                 1\n",
       "Campinas                  1\n",
       "Name: NO_MUNICIPIO_RESIDENCIA, dtype: int64"
      ]
     },
     "execution_count": 5,
     "metadata": {},
     "output_type": "execute_result"
    }
   ],
   "source": [
    "menores_12"
   ]
  },
  {
   "cell_type": "code",
   "execution_count": 6,
   "id": "b9102780",
   "metadata": {},
   "outputs": [
    {
     "data": {
      "text/html": [
       "<div>\n",
       "<style scoped>\n",
       "    .dataframe tbody tr th:only-of-type {\n",
       "        vertical-align: middle;\n",
       "    }\n",
       "\n",
       "    .dataframe tbody tr th {\n",
       "        vertical-align: top;\n",
       "    }\n",
       "\n",
       "    .dataframe thead th {\n",
       "        text-align: right;\n",
       "    }\n",
       "</style>\n",
       "<table border=\"1\" class=\"dataframe\">\n",
       "  <thead>\n",
       "    <tr style=\"text-align: right;\">\n",
       "      <th></th>\n",
       "      <th>NU_INSCRICAO</th>\n",
       "      <th>NO_MUNICIPIO_RESIDENCIA</th>\n",
       "      <th>IDADE</th>\n",
       "      <th>SEXO</th>\n",
       "      <th>TP_ESTADO_CIVIL</th>\n",
       "      <th>RACA</th>\n",
       "      <th>TP_NACIONALIDADE</th>\n",
       "      <th>TP_ST_CONCLUSAO</th>\n",
       "      <th>ESCOLA</th>\n",
       "      <th>IN_TREINEIRO</th>\n",
       "      <th>...</th>\n",
       "      <th>NOTA_MT</th>\n",
       "      <th>TP_LINGUA</th>\n",
       "      <th>TP_STATUS_REDACAO</th>\n",
       "      <th>COMP1</th>\n",
       "      <th>COMP2</th>\n",
       "      <th>COMP3</th>\n",
       "      <th>COMP4</th>\n",
       "      <th>COMP5</th>\n",
       "      <th>NOTA_REDACAO</th>\n",
       "      <th>INTERNET</th>\n",
       "    </tr>\n",
       "  </thead>\n",
       "  <tbody>\n",
       "    <tr>\n",
       "      <th>0</th>\n",
       "      <td>1,90E+11</td>\n",
       "      <td>Santa Isabel</td>\n",
       "      <td>22</td>\n",
       "      <td>M</td>\n",
       "      <td>1</td>\n",
       "      <td>parda</td>\n",
       "      <td>1</td>\n",
       "      <td>1</td>\n",
       "      <td>não_respondeu</td>\n",
       "      <td>0</td>\n",
       "      <td>...</td>\n",
       "      <td>600.2</td>\n",
       "      <td>Inglês</td>\n",
       "      <td>1.0</td>\n",
       "      <td>160.0</td>\n",
       "      <td>200.0</td>\n",
       "      <td>180.0</td>\n",
       "      <td>200.0</td>\n",
       "      <td>200.0</td>\n",
       "      <td>940.0</td>\n",
       "      <td>Sim</td>\n",
       "    </tr>\n",
       "    <tr>\n",
       "      <th>1</th>\n",
       "      <td>1,90E+11</td>\n",
       "      <td>Pinhalzinho</td>\n",
       "      <td>19</td>\n",
       "      <td>M</td>\n",
       "      <td>1</td>\n",
       "      <td>parda</td>\n",
       "      <td>1</td>\n",
       "      <td>1</td>\n",
       "      <td>não_respondeu</td>\n",
       "      <td>0</td>\n",
       "      <td>...</td>\n",
       "      <td>NaN</td>\n",
       "      <td>Espanhol</td>\n",
       "      <td>NaN</td>\n",
       "      <td>NaN</td>\n",
       "      <td>NaN</td>\n",
       "      <td>NaN</td>\n",
       "      <td>NaN</td>\n",
       "      <td>NaN</td>\n",
       "      <td>NaN</td>\n",
       "      <td>Não</td>\n",
       "    </tr>\n",
       "    <tr>\n",
       "      <th>2</th>\n",
       "      <td>1,90E+11</td>\n",
       "      <td>São Paulo</td>\n",
       "      <td>17</td>\n",
       "      <td>F</td>\n",
       "      <td>1</td>\n",
       "      <td>parda</td>\n",
       "      <td>1</td>\n",
       "      <td>2</td>\n",
       "      <td>privada</td>\n",
       "      <td>0</td>\n",
       "      <td>...</td>\n",
       "      <td>731.8</td>\n",
       "      <td>Inglês</td>\n",
       "      <td>1.0</td>\n",
       "      <td>160.0</td>\n",
       "      <td>120.0</td>\n",
       "      <td>200.0</td>\n",
       "      <td>200.0</td>\n",
       "      <td>200.0</td>\n",
       "      <td>880.0</td>\n",
       "      <td>Não</td>\n",
       "    </tr>\n",
       "    <tr>\n",
       "      <th>3</th>\n",
       "      <td>1,90E+11</td>\n",
       "      <td>São Bernardo do Campo</td>\n",
       "      <td>19</td>\n",
       "      <td>M</td>\n",
       "      <td>1</td>\n",
       "      <td>parda</td>\n",
       "      <td>1</td>\n",
       "      <td>2</td>\n",
       "      <td>pública</td>\n",
       "      <td>0</td>\n",
       "      <td>...</td>\n",
       "      <td>393.2</td>\n",
       "      <td>Espanhol</td>\n",
       "      <td>1.0</td>\n",
       "      <td>80.0</td>\n",
       "      <td>160.0</td>\n",
       "      <td>120.0</td>\n",
       "      <td>100.0</td>\n",
       "      <td>100.0</td>\n",
       "      <td>560.0</td>\n",
       "      <td>Sim</td>\n",
       "    </tr>\n",
       "    <tr>\n",
       "      <th>4</th>\n",
       "      <td>1,90E+11</td>\n",
       "      <td>São Joaquim da Barra</td>\n",
       "      <td>37</td>\n",
       "      <td>M</td>\n",
       "      <td>2</td>\n",
       "      <td>branca</td>\n",
       "      <td>1</td>\n",
       "      <td>1</td>\n",
       "      <td>não_respondeu</td>\n",
       "      <td>0</td>\n",
       "      <td>...</td>\n",
       "      <td>NaN</td>\n",
       "      <td>Espanhol</td>\n",
       "      <td>NaN</td>\n",
       "      <td>NaN</td>\n",
       "      <td>NaN</td>\n",
       "      <td>NaN</td>\n",
       "      <td>NaN</td>\n",
       "      <td>NaN</td>\n",
       "      <td>NaN</td>\n",
       "      <td>Sim</td>\n",
       "    </tr>\n",
       "  </tbody>\n",
       "</table>\n",
       "<p>5 rows × 29 columns</p>\n",
       "</div>"
      ],
      "text/plain": [
       "  NU_INSCRICAO NO_MUNICIPIO_RESIDENCIA  IDADE SEXO  TP_ESTADO_CIVIL    RACA  \\\n",
       "0     1,90E+11            Santa Isabel     22    M                1   parda   \n",
       "1     1,90E+11             Pinhalzinho     19    M                1   parda   \n",
       "2     1,90E+11               São Paulo     17    F                1   parda   \n",
       "3     1,90E+11   São Bernardo do Campo     19    M                1   parda   \n",
       "4     1,90E+11    São Joaquim da Barra     37    M                2  branca   \n",
       "\n",
       "   TP_NACIONALIDADE  TP_ST_CONCLUSAO         ESCOLA  IN_TREINEIRO  ...  \\\n",
       "0                 1                1  não_respondeu             0  ...   \n",
       "1                 1                1  não_respondeu             0  ...   \n",
       "2                 1                2        privada             0  ...   \n",
       "3                 1                2        pública             0  ...   \n",
       "4                 1                1  não_respondeu             0  ...   \n",
       "\n",
       "   NOTA_MT TP_LINGUA  TP_STATUS_REDACAO  COMP1  COMP2  COMP3  COMP4  COMP5  \\\n",
       "0    600.2    Inglês                1.0  160.0  200.0  180.0  200.0  200.0   \n",
       "1      NaN  Espanhol                NaN    NaN    NaN    NaN    NaN    NaN   \n",
       "2    731.8    Inglês                1.0  160.0  120.0  200.0  200.0  200.0   \n",
       "3    393.2  Espanhol                1.0   80.0  160.0  120.0  100.0  100.0   \n",
       "4      NaN  Espanhol                NaN    NaN    NaN    NaN    NaN    NaN   \n",
       "\n",
       "   NOTA_REDACAO  INTERNET  \n",
       "0         940.0       Sim  \n",
       "1           NaN       Não  \n",
       "2         880.0       Não  \n",
       "3         560.0       Sim  \n",
       "4           NaN       Sim  \n",
       "\n",
       "[5 rows x 29 columns]"
      ]
     },
     "execution_count": 6,
     "metadata": {},
     "output_type": "execute_result"
    }
   ],
   "source": [
    "dados_maiores_11 = dados1.loc[dados1.IDADE > 11]\n",
    "#função loc é utilizada para localizar as linhas em que idade é maior que 11\n",
    "#tabela.loc[tabela.coluna >=< n]\n",
    "\n",
    "dados_maiores_11.head()"
   ]
  },
  {
   "cell_type": "code",
   "execution_count": null,
   "id": "b8d65dec",
   "metadata": {},
   "outputs": [],
   "source": [
    "dados_maiores_11['IDADE'].value_counts().sort_index().head(30)"
   ]
  },
  {
   "cell_type": "markdown",
   "id": "f2cd7701",
   "metadata": {},
   "source": [
    "# Buscando e filtrando treineiros"
   ]
  },
  {
   "cell_type": "code",
   "execution_count": null,
   "id": "a763200f",
   "metadata": {},
   "outputs": [],
   "source": [
    "dados_maiores_11.query('IN_TREINEIRO == 1')['IN_TREINEIRO'].value_counts()"
   ]
  },
  {
   "cell_type": "code",
   "execution_count": null,
   "id": "b0f4af62",
   "metadata": {},
   "outputs": [],
   "source": [
    "treineiros = dados_maiores_11.loc[dados_maiores_11.IN_TREINEIRO == 1]"
   ]
  },
  {
   "cell_type": "code",
   "execution_count": null,
   "id": "0ceedaf3",
   "metadata": {},
   "outputs": [],
   "source": [
    "treineiros.head()"
   ]
  },
  {
   "cell_type": "code",
   "execution_count": null,
   "id": "e59be62c",
   "metadata": {},
   "outputs": [],
   "source": [
    "treineiros.to_csv('treineiros_enem_2019_sp.csv', encoding = 'iso-8859-1', index = False)"
   ]
  },
  {
   "cell_type": "markdown",
   "id": "c156d106",
   "metadata": {},
   "source": [
    "# Vestibulandos"
   ]
  },
  {
   "cell_type": "code",
   "execution_count": null,
   "id": "255507a8",
   "metadata": {},
   "outputs": [],
   "source": [
    "vestibulandos = dados_maiores_11.loc[dados_maiores_11.IN_TREINEIRO ==0]"
   ]
  },
  {
   "cell_type": "code",
   "execution_count": null,
   "id": "cfc4d219",
   "metadata": {},
   "outputs": [],
   "source": [
    "#vestibulandos['IDADE'].value_counts().sort_index().head(30)"
   ]
  },
  {
   "cell_type": "markdown",
   "id": "9d3ece48",
   "metadata": {},
   "source": [
    "# Análise das presenças"
   ]
  },
  {
   "cell_type": "code",
   "execution_count": null,
   "id": "b5cb5d11",
   "metadata": {},
   "outputs": [],
   "source": [
    "vestibulandos['TP_PRESENCA_CN'].value_counts()"
   ]
  },
  {
   "cell_type": "code",
   "execution_count": null,
   "id": "f71d0f7a",
   "metadata": {},
   "outputs": [],
   "source": [
    "vestibulandos['TP_PRESENCA_CH'].value_counts()"
   ]
  },
  {
   "cell_type": "code",
   "execution_count": null,
   "id": "3562c201",
   "metadata": {},
   "outputs": [],
   "source": []
  },
  {
   "cell_type": "code",
   "execution_count": null,
   "id": "02527cb0",
   "metadata": {},
   "outputs": [],
   "source": [
    "vestibulandos['TP_PRESENCA_CN'].value_counts()\n",
    "vestibulandos['TP_PRESENCA_CH'].value_counts()"
   ]
  },
  {
   "cell_type": "code",
   "execution_count": null,
   "id": "b00da082",
   "metadata": {},
   "outputs": [],
   "source": [
    "vestibulandos['TP_STATUS_REDACAO'].value_counts().sort_index()"
   ]
  },
  {
   "cell_type": "markdown",
   "id": "c0e72ee4",
   "metadata": {},
   "source": [
    "# valores ausentes"
   ]
  },
  {
   "cell_type": "code",
   "execution_count": null,
   "id": "43bfa6c8",
   "metadata": {},
   "outputs": [],
   "source": [
    "vestibulandos['IDADE'].isnull().sum()"
   ]
  },
  {
   "cell_type": "code",
   "execution_count": null,
   "id": "ff86326f",
   "metadata": {},
   "outputs": [],
   "source": [
    "provas = ['NOTA_REDACAO','NOTA_CN','NOTA_CH','NOTA_MT','NOTA_LC']\n",
    "vestibulandos[provas].isnull().sum()"
   ]
  },
  {
   "cell_type": "markdown",
   "id": "e28dc186",
   "metadata": {},
   "source": [
    "localizando os presentes"
   ]
  },
  {
   "cell_type": "code",
   "execution_count": null,
   "id": "2f93e191",
   "metadata": {},
   "outputs": [],
   "source": [
    "vestibulandos_classificados = vestibulandos.loc[vestibulandos.TP_PRESENCA_CH == 1]\n",
    "vestibulandos_classificados = vestibulandos_classificados.loc[vestibulandos.TP_PRESENCA_MT == 1]\n"
   ]
  },
  {
   "cell_type": "code",
   "execution_count": null,
   "id": "db1d260a",
   "metadata": {},
   "outputs": [],
   "source": [
    "vestibulandos_classificados['TP_PRESENCA_MT'].value_counts()"
   ]
  },
  {
   "cell_type": "code",
   "execution_count": null,
   "id": "53c7651c",
   "metadata": {},
   "outputs": [],
   "source": [
    "vestibulandos_classificados['TP_PRESENCA_CH'].value_counts()"
   ]
  },
  {
   "cell_type": "code",
   "execution_count": null,
   "id": "8d351428",
   "metadata": {},
   "outputs": [],
   "source": [
    "vestibulandos_classificados[provas].isnull().sum()"
   ]
  },
  {
   "cell_type": "code",
   "execution_count": null,
   "id": "dd106f4b",
   "metadata": {},
   "outputs": [],
   "source": [
    "vestibulandos_classificados.query('NOTA_REDACAO == 0')['NOTA_REDACAO'].value_counts()"
   ]
  },
  {
   "cell_type": "code",
   "execution_count": null,
   "id": "4fcded6a",
   "metadata": {},
   "outputs": [],
   "source": [
    "vestibulandos_classificados.query('COMP1 == 0')['COMP1'].value_counts()"
   ]
  },
  {
   "cell_type": "code",
   "execution_count": null,
   "id": "7491f5a2",
   "metadata": {},
   "outputs": [],
   "source": [
    "vestibulandos_classificados.query('COMP2 == 0')['COMP2'].value_counts()"
   ]
  },
  {
   "cell_type": "code",
   "execution_count": null,
   "id": "50eb0e9e",
   "metadata": {},
   "outputs": [],
   "source": [
    "vestibulandos_classificados.query('COMP3 == 0')['COMP3'].value_counts()"
   ]
  },
  {
   "cell_type": "code",
   "execution_count": null,
   "id": "8eed6ca9",
   "metadata": {},
   "outputs": [],
   "source": [
    "vestibulandos_classificados.query('COMP4 == 0')['COMP4'].value_counts()"
   ]
  },
  {
   "cell_type": "code",
   "execution_count": null,
   "id": "54c5a2dc",
   "metadata": {},
   "outputs": [],
   "source": [
    "vestibulandos_classificados.query('COMP5 == 0')['COMP5'].value_counts()"
   ]
  },
  {
   "cell_type": "code",
   "execution_count": null,
   "id": "72e38810",
   "metadata": {},
   "outputs": [],
   "source": [
    "vestibulandos_classificados.query('NOTA_LC == 0')['NOTA_LC'].value_counts()"
   ]
  },
  {
   "cell_type": "code",
   "execution_count": null,
   "id": "543fc2a0",
   "metadata": {},
   "outputs": [],
   "source": [
    "vestibulandos_classificados.query('NOTA_MT == 0')['NOTA_MT'].value_counts()"
   ]
  },
  {
   "cell_type": "code",
   "execution_count": null,
   "id": "3543a76d",
   "metadata": {},
   "outputs": [],
   "source": [
    "vestibulandos_classificados.query('NOTA_CH == 0')['NOTA_CH'].value_counts().sort_index()"
   ]
  },
  {
   "cell_type": "code",
   "execution_count": null,
   "id": "e0b17c35",
   "metadata": {},
   "outputs": [],
   "source": [
    "vestibulandos_classificados.query('NOTA_CN == 0')['NOTA_CN'].value_counts().sort_index()"
   ]
  },
  {
   "cell_type": "code",
   "execution_count": null,
   "id": "7db2e0fa",
   "metadata": {},
   "outputs": [],
   "source": [
    "vestibulandos_classificados.query('NOTA_CH == 0')['NOTA_LC'].value_counts().sort_index()"
   ]
  },
  {
   "cell_type": "code",
   "execution_count": null,
   "id": "c1aa21ec",
   "metadata": {},
   "outputs": [],
   "source": [
    "vestibulandos_classificados.head()"
   ]
  },
  {
   "cell_type": "code",
   "execution_count": null,
   "id": "cb85af13",
   "metadata": {},
   "outputs": [],
   "source": [
    "vestibulandos_classificados2 = vestibulandos_classificados.drop(columns=['TP_PRESENCA_CN','TP_PRESENCA_CH','TP_PRESENCA_MT','TP_PRESENCA_LC'])"
   ]
  },
  {
   "cell_type": "code",
   "execution_count": null,
   "id": "88fd3b4e",
   "metadata": {},
   "outputs": [],
   "source": [
    "vestibulandos_classificados2.shape"
   ]
  },
  {
   "cell_type": "code",
   "execution_count": null,
   "id": "e4ecf38e",
   "metadata": {},
   "outputs": [],
   "source": [
    "vestibulandos_classificados2.head()"
   ]
  },
  {
   "cell_type": "code",
   "execution_count": null,
   "id": "16d566da",
   "metadata": {},
   "outputs": [],
   "source": [
    "vestibulandos_classificados2 = vestibulandos_classificados2.drop(columns=['IN_TREINEIRO'])"
   ]
  },
  {
   "cell_type": "code",
   "execution_count": null,
   "id": "f7338cc6",
   "metadata": {},
   "outputs": [],
   "source": [
    "vestibulandos_classificados2.to_csv('enem_2019_tratado.csv', encoding = 'iso-8859-1', index = False)"
   ]
  },
  {
   "cell_type": "code",
   "execution_count": null,
   "id": "ecd93ead",
   "metadata": {},
   "outputs": [],
   "source": [
    "nome;idade;curso;nome_da_mae\n",
    "Pedro;39;programção;flavia\n",
    "leo;82;programação;paula"
   ]
  }
 ],
 "metadata": {
  "kernelspec": {
   "display_name": "Python 3 (ipykernel)",
   "language": "python",
   "name": "python3"
  },
  "language_info": {
   "codemirror_mode": {
    "name": "ipython",
    "version": 3
   },
   "file_extension": ".py",
   "mimetype": "text/x-python",
   "name": "python",
   "nbconvert_exporter": "python",
   "pygments_lexer": "ipython3",
   "version": "3.9.13"
  }
 },
 "nbformat": 4,
 "nbformat_minor": 5
}
