{
 "cells": [
  {
   "cell_type": "markdown",
   "id": "9c285b72",
   "metadata": {},
   "source": [
    "# Operadores Matemáticos"
   ]
  },
  {
   "cell_type": "code",
   "execution_count": null,
   "id": "1805bb67",
   "metadata": {},
   "outputs": [],
   "source": [
    "n1 = 7"
   ]
  },
  {
   "cell_type": "code",
   "execution_count": null,
   "id": "f9b730fa",
   "metadata": {},
   "outputs": [],
   "source": [
    "n2 = 4"
   ]
  },
  {
   "cell_type": "code",
   "execution_count": null,
   "id": "72d75b27",
   "metadata": {},
   "outputs": [],
   "source": [
    "s = n1 + n2\n",
    "print(s)"
   ]
  },
  {
   "cell_type": "code",
   "execution_count": null,
   "id": "af1a1c1f",
   "metadata": {},
   "outputs": [],
   "source": [
    "d = s + n2\n",
    "print(d)"
   ]
  },
  {
   "cell_type": "code",
   "execution_count": null,
   "id": "587c8931",
   "metadata": {},
   "outputs": [],
   "source": [
    "sub = n1 - n2"
   ]
  },
  {
   "cell_type": "code",
   "execution_count": null,
   "id": "3bba892a",
   "metadata": {},
   "outputs": [],
   "source": [
    "mult = n1 * n2"
   ]
  },
  {
   "cell_type": "code",
   "execution_count": null,
   "id": "76749b54",
   "metadata": {},
   "outputs": [],
   "source": [
    "div = n1 / n2"
   ]
  },
  {
   "cell_type": "code",
   "execution_count": null,
   "id": "b7e9363d",
   "metadata": {},
   "outputs": [],
   "source": [
    "pot = n1**n2"
   ]
  },
  {
   "cell_type": "code",
   "execution_count": null,
   "id": "f116ebcf",
   "metadata": {},
   "outputs": [],
   "source": [
    "pot2 = pow(n1,n2)"
   ]
  },
  {
   "cell_type": "code",
   "execution_count": null,
   "id": "201c16f8",
   "metadata": {},
   "outputs": [],
   "source": [
    "divisãointeira = n1 // n2"
   ]
  },
  {
   "cell_type": "code",
   "execution_count": null,
   "id": "c64750d1",
   "metadata": {},
   "outputs": [],
   "source": [
    "restdic = n1 % n2"
   ]
  }
 ],
 "metadata": {
  "kernelspec": {
   "display_name": "Python 3 (ipykernel)",
   "language": "python",
   "name": "python3"
  },
  "language_info": {
   "codemirror_mode": {
    "name": "ipython",
    "version": 3
   },
   "file_extension": ".py",
   "mimetype": "text/x-python",
   "name": "python",
   "nbconvert_exporter": "python",
   "pygments_lexer": "ipython3",
   "version": "3.9.13"
  }
 },
 "nbformat": 4,
 "nbformat_minor": 5
}
