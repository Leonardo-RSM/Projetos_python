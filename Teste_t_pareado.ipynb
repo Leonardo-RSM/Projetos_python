{
 "cells": [
  {
   "cell_type": "code",
   "execution_count": 1,
   "id": "c5766f59",
   "metadata": {},
   "outputs": [],
   "source": [
    "import pandas as pd\n",
    "import numpy as np\n",
    "import seaborn as sns\n",
    "import statsmodels\n",
    "from statsmodels.stats.diagnostic import lilliefors\n",
    "import scipy.stats as stats\n",
    "import matplotlib.pyplot as plt\n",
    "from scipy.stats import levene\n",
    "from statsmodels.stats.weightstats import ztest\n",
    "\n",
    "enem_sp = pd.read_csv('/Users/paull/OneDrive/Área de Trabalho/LEONARDO/python/jupyter/enem_2019_tratado.csv',\n",
    "                     sep = ',', encoding = 'iso-8859-1')"
   ]
  },
  {
   "cell_type": "markdown",
   "id": "dd3e3591",
   "metadata": {},
   "source": [
    "Objetivo: Analisar a diferença média da nota de redação com relação aos seus componentes.\n",
    "\n",
    "Obs: amostras independentes = diferença nas médias.\n",
    "\n",
    "amostras dependendentes = analisa a diferença média."
   ]
  },
  {
   "cell_type": "code",
   "execution_count": 2,
   "id": "d6e45fac",
   "metadata": {},
   "outputs": [],
   "source": [
    "colegioy = enem_sp.loc[enem_sp.CO_ESCOLA == 35151506.0]"
   ]
  },
  {
   "cell_type": "code",
   "execution_count": 3,
   "id": "9fae98ed",
   "metadata": {},
   "outputs": [
    {
     "data": {
      "text/html": [
       "<div>\n",
       "<style scoped>\n",
       "    .dataframe tbody tr th:only-of-type {\n",
       "        vertical-align: middle;\n",
       "    }\n",
       "\n",
       "    .dataframe tbody tr th {\n",
       "        vertical-align: top;\n",
       "    }\n",
       "\n",
       "    .dataframe thead th {\n",
       "        text-align: right;\n",
       "    }\n",
       "</style>\n",
       "<table border=\"1\" class=\"dataframe\">\n",
       "  <thead>\n",
       "    <tr style=\"text-align: right;\">\n",
       "      <th></th>\n",
       "      <th>NU_INSCRICAO</th>\n",
       "      <th>NO_MUNICIPIO_RESIDENCIA</th>\n",
       "      <th>IDADE</th>\n",
       "      <th>SEXO</th>\n",
       "      <th>TP_ESTADO_CIVIL</th>\n",
       "      <th>RACA</th>\n",
       "      <th>TP_NACIONALIDADE</th>\n",
       "      <th>TP_ST_CONCLUSAO</th>\n",
       "      <th>ESCOLA</th>\n",
       "      <th>CO_ESCOLA</th>\n",
       "      <th>...</th>\n",
       "      <th>NOTA_MT</th>\n",
       "      <th>TP_LINGUA</th>\n",
       "      <th>TP_STATUS_REDACAO</th>\n",
       "      <th>COMP1</th>\n",
       "      <th>COMP2</th>\n",
       "      <th>COMP3</th>\n",
       "      <th>COMP4</th>\n",
       "      <th>COMP5</th>\n",
       "      <th>NOTA_REDACAO</th>\n",
       "      <th>INTERNET</th>\n",
       "    </tr>\n",
       "  </thead>\n",
       "  <tbody>\n",
       "    <tr>\n",
       "      <th>492</th>\n",
       "      <td>1,90E+11</td>\n",
       "      <td>São Paulo</td>\n",
       "      <td>17</td>\n",
       "      <td>F</td>\n",
       "      <td>1</td>\n",
       "      <td>branca</td>\n",
       "      <td>1</td>\n",
       "      <td>2</td>\n",
       "      <td>privada</td>\n",
       "      <td>35151506.0</td>\n",
       "      <td>...</td>\n",
       "      <td>64.0</td>\n",
       "      <td>Inglês</td>\n",
       "      <td>1.0</td>\n",
       "      <td>160.0</td>\n",
       "      <td>160.0</td>\n",
       "      <td>140.0</td>\n",
       "      <td>140.0</td>\n",
       "      <td>120.0</td>\n",
       "      <td>720.0</td>\n",
       "      <td>Sim</td>\n",
       "    </tr>\n",
       "    <tr>\n",
       "      <th>7910</th>\n",
       "      <td>1,90E+11</td>\n",
       "      <td>São Paulo</td>\n",
       "      <td>18</td>\n",
       "      <td>F</td>\n",
       "      <td>1</td>\n",
       "      <td>branca</td>\n",
       "      <td>1</td>\n",
       "      <td>2</td>\n",
       "      <td>privada</td>\n",
       "      <td>35151506.0</td>\n",
       "      <td>...</td>\n",
       "      <td>699.5</td>\n",
       "      <td>Inglês</td>\n",
       "      <td>1.0</td>\n",
       "      <td>160.0</td>\n",
       "      <td>120.0</td>\n",
       "      <td>160.0</td>\n",
       "      <td>160.0</td>\n",
       "      <td>140.0</td>\n",
       "      <td>740.0</td>\n",
       "      <td>Sim</td>\n",
       "    </tr>\n",
       "    <tr>\n",
       "      <th>14367</th>\n",
       "      <td>1,90E+11</td>\n",
       "      <td>São Paulo</td>\n",
       "      <td>17</td>\n",
       "      <td>M</td>\n",
       "      <td>1</td>\n",
       "      <td>branca</td>\n",
       "      <td>1</td>\n",
       "      <td>2</td>\n",
       "      <td>privada</td>\n",
       "      <td>35151506.0</td>\n",
       "      <td>...</td>\n",
       "      <td>780.2</td>\n",
       "      <td>Inglês</td>\n",
       "      <td>1.0</td>\n",
       "      <td>120.0</td>\n",
       "      <td>120.0</td>\n",
       "      <td>100.0</td>\n",
       "      <td>140.0</td>\n",
       "      <td>160.0</td>\n",
       "      <td>640.0</td>\n",
       "      <td>Sim</td>\n",
       "    </tr>\n",
       "    <tr>\n",
       "      <th>22519</th>\n",
       "      <td>1,90E+11</td>\n",
       "      <td>São Paulo</td>\n",
       "      <td>17</td>\n",
       "      <td>F</td>\n",
       "      <td>1</td>\n",
       "      <td>preta</td>\n",
       "      <td>1</td>\n",
       "      <td>2</td>\n",
       "      <td>privada</td>\n",
       "      <td>35151506.0</td>\n",
       "      <td>...</td>\n",
       "      <td>732.2</td>\n",
       "      <td>Inglês</td>\n",
       "      <td>1.0</td>\n",
       "      <td>140.0</td>\n",
       "      <td>120.0</td>\n",
       "      <td>140.0</td>\n",
       "      <td>180.0</td>\n",
       "      <td>120.0</td>\n",
       "      <td>700.0</td>\n",
       "      <td>Sim</td>\n",
       "    </tr>\n",
       "    <tr>\n",
       "      <th>58184</th>\n",
       "      <td>1,90E+11</td>\n",
       "      <td>São Paulo</td>\n",
       "      <td>17</td>\n",
       "      <td>M</td>\n",
       "      <td>1</td>\n",
       "      <td>branca</td>\n",
       "      <td>1</td>\n",
       "      <td>2</td>\n",
       "      <td>privada</td>\n",
       "      <td>35151506.0</td>\n",
       "      <td>...</td>\n",
       "      <td>756.3</td>\n",
       "      <td>Inglês</td>\n",
       "      <td>1.0</td>\n",
       "      <td>160.0</td>\n",
       "      <td>200.0</td>\n",
       "      <td>200.0</td>\n",
       "      <td>200.0</td>\n",
       "      <td>200.0</td>\n",
       "      <td>960.0</td>\n",
       "      <td>Sim</td>\n",
       "    </tr>\n",
       "  </tbody>\n",
       "</table>\n",
       "<p>5 rows × 24 columns</p>\n",
       "</div>"
      ],
      "text/plain": [
       "      NU_INSCRICAO NO_MUNICIPIO_RESIDENCIA  IDADE SEXO  TP_ESTADO_CIVIL  \\\n",
       "492       1,90E+11               São Paulo     17    F                1   \n",
       "7910      1,90E+11               São Paulo     18    F                1   \n",
       "14367     1,90E+11               São Paulo     17    M                1   \n",
       "22519     1,90E+11               São Paulo     17    F                1   \n",
       "58184     1,90E+11               São Paulo     17    M                1   \n",
       "\n",
       "         RACA  TP_NACIONALIDADE  TP_ST_CONCLUSAO   ESCOLA   CO_ESCOLA  ...  \\\n",
       "492    branca                 1                2  privada  35151506.0  ...   \n",
       "7910   branca                 1                2  privada  35151506.0  ...   \n",
       "14367  branca                 1                2  privada  35151506.0  ...   \n",
       "22519   preta                 1                2  privada  35151506.0  ...   \n",
       "58184  branca                 1                2  privada  35151506.0  ...   \n",
       "\n",
       "      NOTA_MT  TP_LINGUA  TP_STATUS_REDACAO  COMP1  COMP2  COMP3  COMP4  \\\n",
       "492      64.0     Inglês                1.0  160.0  160.0  140.0  140.0   \n",
       "7910    699.5     Inglês                1.0  160.0  120.0  160.0  160.0   \n",
       "14367   780.2     Inglês                1.0  120.0  120.0  100.0  140.0   \n",
       "22519   732.2     Inglês                1.0  140.0  120.0  140.0  180.0   \n",
       "58184   756.3     Inglês                1.0  160.0  200.0  200.0  200.0   \n",
       "\n",
       "       COMP5  NOTA_REDACAO  INTERNET  \n",
       "492    120.0         720.0       Sim  \n",
       "7910   140.0         740.0       Sim  \n",
       "14367  160.0         640.0       Sim  \n",
       "22519  120.0         700.0       Sim  \n",
       "58184  200.0         960.0       Sim  \n",
       "\n",
       "[5 rows x 24 columns]"
      ]
     },
     "execution_count": 3,
     "metadata": {},
     "output_type": "execute_result"
    }
   ],
   "source": [
    "colegioy.head()"
   ]
  },
  {
   "cell_type": "code",
   "execution_count": 5,
   "id": "dac1a0fa",
   "metadata": {},
   "outputs": [
    {
     "data": {
      "text/plain": [
       "(30, 24)"
      ]
     },
     "execution_count": 5,
     "metadata": {},
     "output_type": "execute_result"
    }
   ],
   "source": [
    "colegioy.shape"
   ]
  },
  {
   "cell_type": "markdown",
   "id": "77762113",
   "metadata": {},
   "source": [
    "1) Analisar a classificação das variáveis"
   ]
  },
  {
   "cell_type": "code",
   "execution_count": 6,
   "id": "b9656a98",
   "metadata": {},
   "outputs": [
    {
     "data": {
      "text/plain": [
       "NU_INSCRICAO                object\n",
       "NO_MUNICIPIO_RESIDENCIA     object\n",
       "IDADE                        int64\n",
       "SEXO                        object\n",
       "TP_ESTADO_CIVIL              int64\n",
       "RACA                        object\n",
       "TP_NACIONALIDADE             int64\n",
       "TP_ST_CONCLUSAO              int64\n",
       "ESCOLA                      object\n",
       "CO_ESCOLA                  float64\n",
       "NO_MUNICIPIO_ESC            object\n",
       "NOTA_CN                    float64\n",
       "NOTA_CH                    float64\n",
       "NOTA_LC                    float64\n",
       "NOTA_MT                    float64\n",
       "TP_LINGUA                   object\n",
       "TP_STATUS_REDACAO          float64\n",
       "COMP1                      float64\n",
       "COMP2                      float64\n",
       "COMP3                      float64\n",
       "COMP4                      float64\n",
       "COMP5                      float64\n",
       "NOTA_REDACAO               float64\n",
       "INTERNET                    object\n",
       "dtype: object"
      ]
     },
     "execution_count": 6,
     "metadata": {},
     "output_type": "execute_result"
    }
   ],
   "source": [
    "colegioy.dtypes"
   ]
  },
  {
   "cell_type": "markdown",
   "id": "0ed0a213",
   "metadata": {},
   "source": [
    "2) Analisar se há valores nulos"
   ]
  },
  {
   "cell_type": "code",
   "execution_count": 8,
   "id": "59d7565d",
   "metadata": {},
   "outputs": [
    {
     "data": {
      "text/plain": [
       "NU_INSCRICAO               0\n",
       "NO_MUNICIPIO_RESIDENCIA    0\n",
       "IDADE                      0\n",
       "SEXO                       0\n",
       "TP_ESTADO_CIVIL            0\n",
       "RACA                       0\n",
       "TP_NACIONALIDADE           0\n",
       "TP_ST_CONCLUSAO            0\n",
       "ESCOLA                     0\n",
       "CO_ESCOLA                  0\n",
       "NO_MUNICIPIO_ESC           0\n",
       "NOTA_CN                    0\n",
       "NOTA_CH                    0\n",
       "NOTA_LC                    0\n",
       "NOTA_MT                    0\n",
       "TP_LINGUA                  0\n",
       "TP_STATUS_REDACAO          0\n",
       "COMP1                      0\n",
       "COMP2                      0\n",
       "COMP3                      0\n",
       "COMP4                      0\n",
       "COMP5                      0\n",
       "NOTA_REDACAO               0\n",
       "INTERNET                   0\n",
       "dtype: int64"
      ]
     },
     "execution_count": 8,
     "metadata": {},
     "output_type": "execute_result"
    }
   ],
   "source": [
    "colegioy.isnull().sum()"
   ]
  },
  {
   "cell_type": "markdown",
   "id": "9b0212e0",
   "metadata": {},
   "source": [
    "3) Analise de Outliers"
   ]
  },
  {
   "cell_type": "code",
   "execution_count": 9,
   "id": "d61b1c86",
   "metadata": {},
   "outputs": [
    {
     "data": {
      "text/plain": [
       "<AxesSubplot:xlabel='COMP3'>"
      ]
     },
     "execution_count": 9,
     "metadata": {},
     "output_type": "execute_result"
    },
    {
     "data": {
      "image/png": "[encoded data removed]",
      "text/plain": [
       "<Figure size 640x480 with 1 Axes>"
      ]
     },
     "metadata": {},
     "output_type": "display_data"
    }
   ],
   "source": [
    "sns.boxplot(data = colegioy, x = \"COMP3\")"
   ]
  },
  {
   "cell_type": "code",
   "execution_count": 10,
   "id": "2fcd1eb8",
   "metadata": {},
   "outputs": [
    {
     "data": {
      "text/plain": [
       "<AxesSubplot:xlabel='COMP1'>"
      ]
     },
     "execution_count": 10,
     "metadata": {},
     "output_type": "execute_result"
    },
    {
     "data": {
      "image/png": "[encoded data removed]",
      "text/plain": [
       "<Figure size 640x480 with 1 Axes>"
      ]
     },
     "metadata": {},
     "output_type": "display_data"
    }
   ],
   "source": [
    "sns.boxplot(data = colegioy, x = \"COMP1\")"
   ]
  },
  {
   "cell_type": "code",
   "execution_count": 11,
   "id": "b1e33c0f",
   "metadata": {},
   "outputs": [
    {
     "data": {
      "text/plain": [
       "<AxesSubplot:xlabel='COMP2'>"
      ]
     },
     "execution_count": 11,
     "metadata": {},
     "output_type": "execute_result"
    },
    {
     "data": {
      "image/png": "[encoded data removed]",
      "text/plain": [
       "<Figure size 640x480 with 1 Axes>"
      ]
     },
     "metadata": {},
     "output_type": "display_data"
    }
   ],
   "source": [
    "sns.boxplot(data = colegioy, x = \"COMP2\")"
   ]
  },
  {
   "cell_type": "code",
   "execution_count": 12,
   "id": "aa97f225",
   "metadata": {},
   "outputs": [
    {
     "data": {
      "text/plain": [
       "<AxesSubplot:xlabel='COMP4'>"
      ]
     },
     "execution_count": 12,
     "metadata": {},
     "output_type": "execute_result"
    },
    {
     "data": {
      "image/png": "[encoded data removed]",
      "text/plain": [
       "<Figure size 640x480 with 1 Axes>"
      ]
     },
     "metadata": {},
     "output_type": "display_data"
    }
   ],
   "source": [
    "sns.boxplot(data = colegioy, x = \"COMP4\")"
   ]
  },
  {
   "cell_type": "code",
   "execution_count": 15,
   "id": "eb2279c2",
   "metadata": {
    "scrolled": true
   },
   "outputs": [
    {
     "data": {
      "text/plain": [
       "<AxesSubplot:xlabel='COMP5'>"
      ]
     },
     "execution_count": 15,
     "metadata": {},
     "output_type": "execute_result"
    },
    {
     "data": {
      "image/png": "[encoded data removed]",
      "text/plain": [
       "<Figure size 640x480 with 1 Axes>"
      ]
     },
     "metadata": {},
     "output_type": "display_data"
    }
   ],
   "source": [
    "sns.boxplot(data = colegioy, x = \"COMP5\")"
   ]
  },
  {
   "cell_type": "markdown",
   "id": "229495ca",
   "metadata": {},
   "source": [
    "4) Analise da Normalidade\n",
    "\n",
    "A diferença entre as variáveis é que deve ser normal.\n",
    "\n",
    "CRITÉRIOS:\n",
    "Nível de significancia de 0,05 ou 5% (Mais utilizado)\n",
    "Quando p > 0,05 (distribuição normal)."
   ]
  },
  {
   "cell_type": "code",
   "execution_count": 36,
   "id": "6921a743",
   "metadata": {},
   "outputs": [],
   "source": [
    "diferenca1 = colegioy.NOTA_REDACAO - colegioy.COMP1"
   ]
  },
  {
   "cell_type": "code",
   "execution_count": 37,
   "id": "8e280a44",
   "metadata": {},
   "outputs": [],
   "source": [
    "diferenca2 = colegioy.NOTA_REDACAO - colegioy.COMP2"
   ]
  },
  {
   "cell_type": "code",
   "execution_count": 38,
   "id": "7d2d670d",
   "metadata": {},
   "outputs": [],
   "source": [
    "diferenca3 = colegioy.NOTA_REDACAO - colegioy.COMP3"
   ]
  },
  {
   "cell_type": "code",
   "execution_count": 39,
   "id": "66c896fe",
   "metadata": {},
   "outputs": [],
   "source": [
    "diferenca5 = colegioy.NOTA_REDACAO - colegioy.COMP4"
   ]
  },
  {
   "cell_type": "code",
   "execution_count": 40,
   "id": "52b91581",
   "metadata": {},
   "outputs": [],
   "source": [
    "diferenca4 = colegioy.NOTA_REDACAO - colegioy.COMP5"
   ]
  },
  {
   "cell_type": "markdown",
   "id": "20898528",
   "metadata": {},
   "source": [
    "Teste de Shapiro Wilk para as diferenças"
   ]
  },
  {
   "cell_type": "code",
   "execution_count": 41,
   "id": "11184cc2",
   "metadata": {},
   "outputs": [
    {
     "data": {
      "text/plain": [
       "ShapiroResult(statistic=0.9205223321914673, pvalue=0.027671510353684425)"
      ]
     },
     "execution_count": 41,
     "metadata": {},
     "output_type": "execute_result"
    }
   ],
   "source": [
    "stats.shapiro(diferenca1)"
   ]
  },
  {
   "cell_type": "code",
   "execution_count": 42,
   "id": "c58a2382",
   "metadata": {},
   "outputs": [
    {
     "data": {
      "text/plain": [
       "ShapiroResult(statistic=0.9494082927703857, pvalue=0.16299790143966675)"
      ]
     },
     "execution_count": 42,
     "metadata": {},
     "output_type": "execute_result"
    }
   ],
   "source": [
    "stats.shapiro(diferenca2)"
   ]
  },
  {
   "cell_type": "code",
   "execution_count": 43,
   "id": "06f4a804",
   "metadata": {},
   "outputs": [
    {
     "data": {
      "text/plain": [
       "ShapiroResult(statistic=0.9186265468597412, pvalue=0.024711981415748596)"
      ]
     },
     "execution_count": 43,
     "metadata": {},
     "output_type": "execute_result"
    }
   ],
   "source": [
    "stats.shapiro(diferenca3)"
   ]
  },
  {
   "cell_type": "code",
   "execution_count": 32,
   "id": "7ad07f49",
   "metadata": {},
   "outputs": [
    {
     "data": {
      "text/plain": [
       "ShapiroResult(statistic=0.918871283531189, pvalue=0.025074632838368416)"
      ]
     },
     "execution_count": 32,
     "metadata": {},
     "output_type": "execute_result"
    }
   ],
   "source": [
    "stats.shapiro(diferenca4)"
   ]
  },
  {
   "cell_type": "code",
   "execution_count": 33,
   "id": "2db7d6b1",
   "metadata": {},
   "outputs": [
    {
     "data": {
      "text/plain": [
       "ShapiroResult(statistic=0.9099215865135193, pvalue=0.014812746085226536)"
      ]
     },
     "execution_count": 33,
     "metadata": {},
     "output_type": "execute_result"
    }
   ],
   "source": [
    "stats.shapiro(diferenca5)"
   ]
  },
  {
   "cell_type": "code",
   "execution_count": null,
   "id": "6f6a0bcb",
   "metadata": {},
   "outputs": [],
   "source": [
    "pvalue > 0,05 --- 2"
   ]
  },
  {
   "cell_type": "markdown",
   "id": "216c34b2",
   "metadata": {},
   "source": [
    "### Teste t\n",
    "\n",
    "comparação das médias das notas dos componentes que passaram no teste de normalidade"
   ]
  },
  {
   "cell_type": "markdown",
   "id": "98d95668",
   "metadata": {},
   "source": [
    "Ho = NÃO HÁ DIFERENÇA ENTRE AS DIFERENÇAS DAS MÉDIAS DA REDAÇÃO COM OS SEUS COMPONENTES\n",
    "\n",
    "Ha =  HÁ DIFERENÇA ENTRE AS DIFERENÇAS DAS MÉDIAS DA REDAÇÃO COM OS SEUS COMPONENTES"
   ]
  },
  {
   "cell_type": "code",
   "execution_count": 46,
   "id": "c565d99f",
   "metadata": {},
   "outputs": [
    {
     "name": "stdout",
     "output_type": "stream",
     "text": [
      "Estatística de teste: 2\n",
      "p-valor: 0.8690991006\n"
     ]
    }
   ],
   "source": [
    "stat, p = stats.ttest_rel(diferenca1, diferenca2)\n",
    "print('Estatística de teste: {}'. format(round(2)))\n",
    "print('p-valor: {}'.format(p.round(10)))"
   ]
  },
  {
   "cell_type": "markdown",
   "id": "207f0ba4",
   "metadata": {},
   "source": [
    "Obs:\n",
    "\n",
    "\n",
    "ind: valores independentes;\n",
    "rel: valores correlacionados"
   ]
  },
  {
   "cell_type": "code",
   "execution_count": 47,
   "id": "b2fb6558",
   "metadata": {},
   "outputs": [
    {
     "name": "stdout",
     "output_type": "stream",
     "text": [
      "Estatística de teste: 2\n",
      "p-valor: 0.8690991006\n"
     ]
    }
   ],
   "source": [
    "stat, p = stats.ttest_rel(colegioy.COMP2, colegioy.COMP1)\n",
    "print('Estatística de teste: {}'. format(round(2)))\n",
    "print('p-valor: {}'.format(p.round(10)))"
   ]
  },
  {
   "cell_type": "markdown",
   "id": "b0258af4",
   "metadata": {},
   "source": [
    "Quando analisada a diferença entre a componente e a nota de redação a partir do teste t não se observa uma mudança com relação a analise do teste t para as próprias componentes. Visto que os valores conservam a distribuição, e apenas joga os valores para baixo"
   ]
  },
  {
   "cell_type": "markdown",
   "id": "697b2e22",
   "metadata": {},
   "source": [
    "### Interpretação:\n",
    "\n",
    "\n",
    "Teste estatístico: 0,17\n",
    "\n",
    "p_valor = 0,869\n",
    "\n",
    "\n",
    "Conclusão: Estatísticamente, com o intervalo de confiança de 95% não há evidências para afirmar que existe diferença estatística da média entre a redação e os componentes 1 e 2 do colégio y"
   ]
  },
  {
   "cell_type": "code",
   "execution_count": null,
   "id": "4d83c53a",
   "metadata": {},
   "outputs": [],
   "source": []
  }
 ],
 "metadata": {
  "kernelspec": {
   "display_name": "Python 3 (ipykernel)",
   "language": "python",
   "name": "python3"
  },
  "language_info": {
   "codemirror_mode": {
    "name": "ipython",
    "version": 3
   },
   "file_extension": ".py",
   "mimetype": "text/x-python",
   "name": "python",
   "nbconvert_exporter": "python",
   "pygments_lexer": "ipython3",
   "version": "3.9.13"
  }
 },
 "nbformat": 4,
 "nbformat_minor": 5
}
