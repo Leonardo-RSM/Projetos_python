{
 "cells": [
  {
   "cell_type": "markdown",
   "id": "e0b27d1f",
   "metadata": {},
   "source": [
    "otimiza a utilização de listas e e diminui as linhas de código"
   ]
  },
  {
   "cell_type": "code",
   "execution_count": 1,
   "id": "1f7f406c",
   "metadata": {},
   "outputs": [
    {
     "name": "stdout",
     "output_type": "stream",
     "text": [
      "[10, 11, 12, 13, 14]\n"
     ]
    }
   ],
   "source": [
    "lista1 = []\n",
    "for value in range(5):\n",
    "    lista1.append(value+10)\n",
    "print(lista1)"
   ]
  },
  {
   "cell_type": "markdown",
   "id": "a8335d9e",
   "metadata": {},
   "source": [
    "list comprehensions"
   ]
  },
  {
   "cell_type": "code",
   "execution_count": 2,
   "id": "a313cc1c",
   "metadata": {},
   "outputs": [
    {
     "name": "stdout",
     "output_type": "stream",
     "text": [
      "[10, 11, 12, 13, 14]\n"
     ]
    }
   ],
   "source": [
    "lista2 = [value + 10 for value in range(5)]\n",
    "print(lista2)"
   ]
  },
  {
   "cell_type": "markdown",
   "id": "00e19080",
   "metadata": {},
   "source": [
    "mais exemplos"
   ]
  },
  {
   "cell_type": "code",
   "execution_count": 3,
   "id": "b2e921e5",
   "metadata": {},
   "outputs": [
    {
     "name": "stdout",
     "output_type": "stream",
     "text": [
      "[]\n",
      "[]\n",
      "[]\n",
      "[4]\n",
      "[4]\n",
      "[4]\n",
      "[4]\n",
      "[4, 8]\n",
      "[4, 8]\n",
      "[4, 8]\n",
      "[4, 8]\n",
      "[4, 8, 12]\n",
      "[4, 8, 12]\n",
      "[4, 8, 12]\n",
      "[4, 8, 12]\n",
      "[4, 8, 12, 16]\n",
      "[4, 8, 12, 16]\n",
      "[4, 8, 12, 16]\n",
      "[4, 8, 12, 16]\n",
      "[4, 8, 12, 16, 20]\n",
      "[4, 8, 12, 16, 20]\n",
      "[4, 8, 12, 16, 20]\n",
      "[4, 8, 12, 16, 20]\n",
      "[4, 8, 12, 16, 20, 24]\n",
      "[4, 8, 12, 16, 20, 24]\n",
      "[4, 8, 12, 16, 20, 24]\n",
      "[4, 8, 12, 16, 20, 24]\n",
      "[4, 8, 12, 16, 20, 24, 28]\n",
      "[4, 8, 12, 16, 20, 24, 28]\n"
     ]
    }
   ],
   "source": [
    "lista3 = []\n",
    "for numero in range (1,30):\n",
    "    if numero %4 == 0:\n",
    "        lista3.append(numero)\n",
    "    print(lista3)"
   ]
  },
  {
   "cell_type": "code",
   "execution_count": 4,
   "id": "0545fcec",
   "metadata": {},
   "outputs": [
    {
     "name": "stdout",
     "output_type": "stream",
     "text": [
      "[0, 4, 8, 12, 16, 20, 24, 28]\n"
     ]
    }
   ],
   "source": [
    "multiplos4 = [number for number in range(30) if number %4 == 0]\n",
    "print(multiplos4)"
   ]
  },
  {
   "cell_type": "code",
   "execution_count": 5,
   "id": "279f3aa5",
   "metadata": {},
   "outputs": [
    {
     "name": "stdout",
     "output_type": "stream",
     "text": [
      "['vermelha', 'vermelha', 'vermelha', 'vermelha', 'vermelha', 'azul', 'azul', 'azul', 'azul', 'azul']\n"
     ]
    }
   ],
   "source": [
    "conceito = [\n",
    "    'azul' if nota >=6 \n",
    "    else 'vermelha'\n",
    "    for nota in range(1,11)]\n",
    "print(conceito)"
   ]
  },
  {
   "cell_type": "code",
   "execution_count": null,
   "id": "bf03477d",
   "metadata": {},
   "outputs": [],
   "source": []
  }
 ],
 "metadata": {
  "kernelspec": {
   "display_name": "Python 3 (ipykernel)",
   "language": "python",
   "name": "python3"
  },
  "language_info": {
   "codemirror_mode": {
    "name": "ipython",
    "version": 3
   },
   "file_extension": ".py",
   "mimetype": "text/x-python",
   "name": "python",
   "nbconvert_exporter": "python",
   "pygments_lexer": "ipython3",
   "version": "3.9.13"
  }
 },
 "nbformat": 4,
 "nbformat_minor": 5
}
