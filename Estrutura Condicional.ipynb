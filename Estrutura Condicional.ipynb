{
 "cells": [
  {
   "cell_type": "markdown",
   "id": "7d650b7b",
   "metadata": {},
   "source": [
    "Estrutura Condicional (if, else, elif) "
   ]
  },
  {
   "cell_type": "code",
   "execution_count": null,
   "id": "9c7e66e8",
   "metadata": {},
   "outputs": [],
   "source": [
    "nota = 4\n",
    "\n",
    "if nota >= 6:\n",
    "        print('aprovado')\n",
    "else:\n",
    "        print('reprovado')"
   ]
  },
  {
   "cell_type": "code",
   "execution_count": null,
   "id": "c0e119a0",
   "metadata": {},
   "outputs": [],
   "source": [
    "if nota >= 6:\n",
    "        print('aprovado')\n",
    "elif nota >=5 and nota< 6:\n",
    "        print('recuperação')\n",
    "else:\n",
    "        print('reprovado')\n",
    "        "
   ]
  }
 ],
 "metadata": {
  "kernelspec": {
   "display_name": "Python 3 (ipykernel)",
   "language": "python",
   "name": "python3"
  },
  "language_info": {
   "codemirror_mode": {
    "name": "ipython",
    "version": 3
   },
   "file_extension": ".py",
   "mimetype": "text/x-python",
   "name": "python",
   "nbconvert_exporter": "python",
   "pygments_lexer": "ipython3",
   "version": "3.9.13"
  }
 },
 "nbformat": 4,
 "nbformat_minor": 5
}
