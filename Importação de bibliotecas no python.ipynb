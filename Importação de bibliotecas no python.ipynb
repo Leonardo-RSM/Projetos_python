{
 "cells": [
  {
   "cell_type": "markdown",
   "id": "d4980e76",
   "metadata": {},
   "source": [
    "# Bibliotecas e importação"
   ]
  },
  {
   "cell_type": "code",
   "execution_count": 1,
   "id": "febba88f",
   "metadata": {},
   "outputs": [],
   "source": [
    "import math"
   ]
  },
  {
   "cell_type": "code",
   "execution_count": 2,
   "id": "8c02735d",
   "metadata": {},
   "outputs": [
    {
     "name": "stdout",
     "output_type": "stream",
     "text": [
      "a raiz de 18 é igual a 4.24\n"
     ]
    }
   ],
   "source": [
    "n = 18\n",
    "raiz = math.sqrt(n)\n",
    "print('a raiz de {} é igual a {:.2f}'. format(n,raiz))"
   ]
  },
  {
   "cell_type": "markdown",
   "id": "a766fa4d",
   "metadata": {},
   "source": [
    "{:} resultado\n",
    "{: 2f} resultado com 2 casas dps da vírgula"
   ]
  },
  {
   "cell_type": "code",
   "execution_count": 3,
   "id": "9c986e2a",
   "metadata": {},
   "outputs": [
    {
     "name": "stdout",
     "output_type": "stream",
     "text": [
      "4.242640687119285\n"
     ]
    }
   ],
   "source": [
    "print(raiz)"
   ]
  },
  {
   "cell_type": "markdown",
   "id": "33f8ded2",
   "metadata": {},
   "source": [
    "### atenção na hora de vírgula e ponto"
   ]
  },
  {
   "cell_type": "code",
   "execution_count": 4,
   "id": "bae71c8c",
   "metadata": {},
   "outputs": [
    {
     "name": "stdout",
     "output_type": "stream",
     "text": [
      "4.242640687119285\n"
     ]
    }
   ],
   "source": [
    "raiz2 = n ** 0.5\n",
    "print (raiz2)"
   ]
  },
  {
   "cell_type": "markdown",
   "id": "6cbdd703",
   "metadata": {},
   "source": [
    "## como selecionar partes de uma biblioteca/ duvida do que função faz?"
   ]
  },
  {
   "cell_type": "code",
   "execution_count": 5,
   "id": "6ffa162b",
   "metadata": {},
   "outputs": [
    {
     "name": "stdout",
     "output_type": "stream",
     "text": [
      "24\n"
     ]
    }
   ],
   "source": [
    "from math import sqrt, factorial\n",
    "raiz3 = sqrt(n)\n",
    "fatorial = factorial(4)\n",
    "print(fatorial)"
   ]
  },
  {
   "cell_type": "code",
   "execution_count": 8,
   "id": "149248f8",
   "metadata": {},
   "outputs": [
    {
     "name": "stdout",
     "output_type": "stream",
     "text": [
      "1\n"
     ]
    }
   ],
   "source": [
    "import random\n",
    "num = random.randint(1,10)\n",
    "print (num)"
   ]
  },
  {
   "cell_type": "code",
   "execution_count": 9,
   "id": "4dc6a580",
   "metadata": {},
   "outputs": [],
   "source": [
    "random?"
   ]
  },
  {
   "cell_type": "code",
   "execution_count": null,
   "id": "ba302960",
   "metadata": {},
   "outputs": [],
   "source": []
  }
 ],
 "metadata": {
  "kernelspec": {
   "display_name": "Python 3 (ipykernel)",
   "language": "python",
   "name": "python3"
  },
  "language_info": {
   "codemirror_mode": {
    "name": "ipython",
    "version": 3
   },
   "file_extension": ".py",
   "mimetype": "text/x-python",
   "name": "python",
   "nbconvert_exporter": "python",
   "pygments_lexer": "ipython3",
   "version": "3.9.13"
  }
 },
 "nbformat": 4,
 "nbformat_minor": 5
}
