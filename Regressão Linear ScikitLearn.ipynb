{
 "cells": [
  {
   "cell_type": "code",
   "execution_count": 7,
   "id": "e6d8155b",
   "metadata": {},
   "outputs": [
    {
     "name": "stderr",
     "output_type": "stream",
     "text": [
      "C:\\Users\\paull\\AppData\\Local\\Temp\\ipykernel_27564\\1362875431.py:21: SettingWithCopyWarning: \n",
      "A value is trying to be set on a copy of a slice from a DataFrame.\n",
      "Try using .loc[row_indexer,col_indexer] = value instead\n",
      "\n",
      "See the caveats in the documentation: https://pandas.pydata.org/pandas-docs/stable/user_guide/indexing.html#returning-a-view-versus-a-copy\n",
      "  colegiox['nota_final'] = (colegiox[nota_final].mean(axis = 1))\n",
      "C:\\Users\\paull\\AppData\\Local\\Temp\\ipykernel_27564\\1362875431.py:27: UserWarning: Pandas doesn't allow columns to be created via a new attribute name - see https://pandas.pydata.org/pandas-docs/stable/indexing.html#attribute-access\n",
      "  coefs.colums = ['Coeficientes']\n"
     ]
    }
   ],
   "source": [
    "import pandas as pd\n",
    "import numpy as np\n",
    "import seaborn as sns\n",
    "import scipy.stats as stats\n",
    "import matplotlib.pyplot as plt\n",
    "import statsmodels\n",
    "from statsmodels.stats.diagnostic import lilliefors\n",
    "from statsmodels.stats.weightstats import ztest\n",
    "import plotly.express as px\n",
    "import statsmodels.formula.api as smf\n",
    "import statsmodels.stats.api as sms\n",
    "from sklearn.linear_model import LinearRegression\n",
    "\n",
    "enem_sp = pd.read_csv('/Users/paull/OneDrive/Área de Trabalho/LEONARDO/python/jupyter/enem_2019_tratado.csv',\n",
    "                     sep = ',', encoding = 'iso-8859-1')\n",
    "\n",
    "\n",
    "colegiox = enem_sp.loc[enem_sp.CO_ESCOLA == 35017632.0]\n",
    "nota_final = ['NOTA_CN', 'NOTA_CH','NOTA_LC','NOTA_REDACAO','NOTA_MT']\n",
    "\n",
    "colegiox['nota_final'] = (colegiox[nota_final].mean(axis = 1))\n",
    "nota_colegiox = colegiox[['NOTA_CN','NOTA_MT','NOTA_LC','NOTA_CH','NOTA_REDACAO','nota_final']]\n",
    "\n",
    "regressao = smf.ols('nota_final ~ NOTA_REDACAO', data = nota_colegiox).fit()\n",
    "\n",
    "coefs = pd.DataFrame(regressao.params)\n",
    "coefs.colums = ['Coeficientes']\n",
    "\n",
    "residuos = regressao.resid"
   ]
  },
  {
   "cell_type": "markdown",
   "id": "e57f6d8c",
   "metadata": {},
   "source": [
    "# Regressão com o SKlearn"
   ]
  },
  {
   "cell_type": "code",
   "execution_count": 3,
   "id": "7c6e2091",
   "metadata": {},
   "outputs": [
    {
     "data": {
      "text/html": [
       "<div>\n",
       "<style scoped>\n",
       "    .dataframe tbody tr th:only-of-type {\n",
       "        vertical-align: middle;\n",
       "    }\n",
       "\n",
       "    .dataframe tbody tr th {\n",
       "        vertical-align: top;\n",
       "    }\n",
       "\n",
       "    .dataframe thead th {\n",
       "        text-align: right;\n",
       "    }\n",
       "</style>\n",
       "<table border=\"1\" class=\"dataframe\">\n",
       "  <thead>\n",
       "    <tr style=\"text-align: right;\">\n",
       "      <th></th>\n",
       "      <th>NOTA_CN</th>\n",
       "      <th>NOTA_MT</th>\n",
       "      <th>NOTA_LC</th>\n",
       "      <th>NOTA_CH</th>\n",
       "      <th>NOTA_REDACAO</th>\n",
       "      <th>nota_final</th>\n",
       "    </tr>\n",
       "  </thead>\n",
       "  <tbody>\n",
       "    <tr>\n",
       "      <th>37</th>\n",
       "      <td>46.3</td>\n",
       "      <td>537.1</td>\n",
       "      <td>557.3</td>\n",
       "      <td>447.2</td>\n",
       "      <td>340.0</td>\n",
       "      <td>385.58</td>\n",
       "    </tr>\n",
       "    <tr>\n",
       "      <th>44</th>\n",
       "      <td>505.9</td>\n",
       "      <td>451.9</td>\n",
       "      <td>529.8</td>\n",
       "      <td>534.5</td>\n",
       "      <td>720.0</td>\n",
       "      <td>548.42</td>\n",
       "    </tr>\n",
       "    <tr>\n",
       "      <th>52</th>\n",
       "      <td>449.4</td>\n",
       "      <td>506.4</td>\n",
       "      <td>45.8</td>\n",
       "      <td>436.4</td>\n",
       "      <td>560.0</td>\n",
       "      <td>399.60</td>\n",
       "    </tr>\n",
       "    <tr>\n",
       "      <th>65</th>\n",
       "      <td>468.6</td>\n",
       "      <td>59.5</td>\n",
       "      <td>576.6</td>\n",
       "      <td>606.1</td>\n",
       "      <td>520.0</td>\n",
       "      <td>446.16</td>\n",
       "    </tr>\n",
       "    <tr>\n",
       "      <th>79</th>\n",
       "      <td>414.3</td>\n",
       "      <td>510.6</td>\n",
       "      <td>49.5</td>\n",
       "      <td>553.7</td>\n",
       "      <td>640.0</td>\n",
       "      <td>433.62</td>\n",
       "    </tr>\n",
       "  </tbody>\n",
       "</table>\n",
       "</div>"
      ],
      "text/plain": [
       "    NOTA_CN  NOTA_MT  NOTA_LC  NOTA_CH  NOTA_REDACAO  nota_final\n",
       "37     46.3    537.1    557.3    447.2         340.0      385.58\n",
       "44    505.9    451.9    529.8    534.5         720.0      548.42\n",
       "52    449.4    506.4     45.8    436.4         560.0      399.60\n",
       "65    468.6     59.5    576.6    606.1         520.0      446.16\n",
       "79    414.3    510.6     49.5    553.7         640.0      433.62"
      ]
     },
     "execution_count": 3,
     "metadata": {},
     "output_type": "execute_result"
    }
   ],
   "source": [
    "nota_colegiox.head()"
   ]
  },
  {
   "cell_type": "code",
   "execution_count": 2,
   "id": "ea5044fe",
   "metadata": {},
   "outputs": [],
   "source": [
    "x = nota_colegiox.iloc[:, 4].values\n",
    "y = nota_colegiox.iloc[:, 5].values"
   ]
  },
  {
   "cell_type": "code",
   "execution_count": 4,
   "id": "af3a7b5d",
   "metadata": {},
   "outputs": [
    {
     "data": {
      "text/plain": [
       "array([[1.        , 0.55122032],\n",
       "       [0.55122032, 1.        ]])"
      ]
     },
     "execution_count": 4,
     "metadata": {},
     "output_type": "execute_result"
    }
   ],
   "source": [
    "correlacao2 = np.corrcoef (x,y)\n",
    "correlacao2"
   ]
  },
  {
   "cell_type": "code",
   "execution_count": 5,
   "id": "732af512",
   "metadata": {},
   "outputs": [],
   "source": [
    "x = x.reshape(-1,1) # transformando em matriz"
   ]
  },
  {
   "cell_type": "code",
   "execution_count": 8,
   "id": "8715f8ca",
   "metadata": {},
   "outputs": [
    {
     "data": {
      "text/plain": [
       "LinearRegression()"
      ]
     },
     "execution_count": 8,
     "metadata": {},
     "output_type": "execute_result"
    }
   ],
   "source": [
    "regressao2 = LinearRegression()\n",
    "regressao2.fit(x,y)"
   ]
  },
  {
   "cell_type": "code",
   "execution_count": 11,
   "id": "9aa04f80",
   "metadata": {},
   "outputs": [
    {
     "data": {
      "text/plain": [
       "251.6788552750226"
      ]
     },
     "execution_count": 11,
     "metadata": {},
     "output_type": "execute_result"
    }
   ],
   "source": [
    "regressao2.intercept_ #coeficiente angular"
   ]
  },
  {
   "cell_type": "code",
   "execution_count": 12,
   "id": "3239b5eb",
   "metadata": {},
   "outputs": [
    {
     "data": {
      "text/plain": [
       "array([0.36274917])"
      ]
     },
     "execution_count": 12,
     "metadata": {},
     "output_type": "execute_result"
    }
   ],
   "source": [
    "regressao2.coef_"
   ]
  },
  {
   "cell_type": "code",
   "execution_count": 13,
   "id": "25b77259",
   "metadata": {},
   "outputs": [
    {
     "data": {
      "text/plain": [
       "0.30384384379611706"
      ]
     },
     "execution_count": 13,
     "metadata": {},
     "output_type": "execute_result"
    }
   ],
   "source": [
    "# coeficiente de determinação\n",
    "regressao2.score(x,y)"
   ]
  },
  {
   "cell_type": "code",
   "execution_count": 14,
   "id": "ce64d18a",
   "metadata": {},
   "outputs": [
    {
     "data": {
      "text/plain": [
       "array([375.01357169, 512.85825473, 454.81838819, 440.30842155,\n",
       "       483.83832146, 382.268555  , 498.3482881 , 454.81838819,\n",
       "       469.32835482, 440.30842155, 447.56340487, 433.05343823,\n",
       "       491.09330478, 353.24862173, 440.30842155, 411.28848828,\n",
       "       425.79845491, 440.30842155, 425.79845491, 447.56340487,\n",
       "       491.09330478, 491.09330478, 447.56340487, 491.09330478,\n",
       "       440.30842155, 469.32835482, 469.32835482, 396.77852164,\n",
       "       447.56340487, 425.79845491, 396.77852164, 469.32835482,\n",
       "       454.81838819, 433.05343823, 440.30842155, 353.24862173,\n",
       "       469.32835482, 447.56340487, 440.30842155, 396.77852164,\n",
       "       476.58333814])"
      ]
     },
     "execution_count": 14,
     "metadata": {},
     "output_type": "execute_result"
    }
   ],
   "source": [
    "previsoes = regressao2.predict(x)\n",
    "previsoes"
   ]
  },
  {
   "cell_type": "code",
   "execution_count": 16,
   "id": "eac28c1f",
   "metadata": {},
   "outputs": [
    {
     "data": {
      "text/plain": [
       "array([371.38608003])"
      ]
     },
     "execution_count": 16,
     "metadata": {},
     "output_type": "execute_result"
    }
   ],
   "source": [
    "previsao = regressao2.predict([[330]])\n",
    "previsao"
   ]
  },
  {
   "cell_type": "code",
   "execution_count": null,
   "id": "c9773e55",
   "metadata": {},
   "outputs": [],
   "source": []
  }
 ],
 "metadata": {
  "kernelspec": {
   "display_name": "Python 3 (ipykernel)",
   "language": "python",
   "name": "python3"
  },
  "language_info": {
   "codemirror_mode": {
    "name": "ipython",
    "version": 3
   },
   "file_extension": ".py",
   "mimetype": "text/x-python",
   "name": "python",
   "nbconvert_exporter": "python",
   "pygments_lexer": "ipython3",
   "version": "3.9.13"
  }
 },
 "nbformat": 4,
 "nbformat_minor": 5
}
