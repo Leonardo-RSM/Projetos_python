{
 "cells": [
  {
   "cell_type": "code",
   "execution_count": 19,
   "id": "80b0e5b1",
   "metadata": {},
   "outputs": [],
   "source": [
    "import pandas as pd\n",
    "import numpy as np\n",
    "import seaborn as sns\n",
    "import scipy.stats as stats\n",
    "import matplotlib.pyplot as plt\n",
    "import statsmodels\n",
    "from statsmodels.stats.diagnostic import lilliefors\n",
    "from statsmodels.stats.weightstats import ztest\n",
    "\n",
    "\n",
    "enem_sp = pd.read_csv('/Users/paull/OneDrive/Área de Trabalho/LEONARDO/python/jupyter/enem_2019_tratado.csv',\n",
    "                     sep = ',', encoding = 'iso-8859-1')"
   ]
  },
  {
   "cell_type": "code",
   "execution_count": 3,
   "id": "e14de384",
   "metadata": {},
   "outputs": [
    {
     "data": {
      "text/html": [
       "<div>\n",
       "<style scoped>\n",
       "    .dataframe tbody tr th:only-of-type {\n",
       "        vertical-align: middle;\n",
       "    }\n",
       "\n",
       "    .dataframe tbody tr th {\n",
       "        vertical-align: top;\n",
       "    }\n",
       "\n",
       "    .dataframe thead th {\n",
       "        text-align: right;\n",
       "    }\n",
       "</style>\n",
       "<table border=\"1\" class=\"dataframe\">\n",
       "  <thead>\n",
       "    <tr style=\"text-align: right;\">\n",
       "      <th></th>\n",
       "      <th>NU_INSCRICAO</th>\n",
       "      <th>NO_MUNICIPIO_RESIDENCIA</th>\n",
       "      <th>IDADE</th>\n",
       "      <th>SEXO</th>\n",
       "      <th>TP_ESTADO_CIVIL</th>\n",
       "      <th>RACA</th>\n",
       "      <th>TP_NACIONALIDADE</th>\n",
       "      <th>TP_ST_CONCLUSAO</th>\n",
       "      <th>ESCOLA</th>\n",
       "      <th>CO_ESCOLA</th>\n",
       "      <th>...</th>\n",
       "      <th>NOTA_MT</th>\n",
       "      <th>TP_LINGUA</th>\n",
       "      <th>TP_STATUS_REDACAO</th>\n",
       "      <th>COMP1</th>\n",
       "      <th>COMP2</th>\n",
       "      <th>COMP3</th>\n",
       "      <th>COMP4</th>\n",
       "      <th>COMP5</th>\n",
       "      <th>NOTA_REDACAO</th>\n",
       "      <th>INTERNET</th>\n",
       "    </tr>\n",
       "  </thead>\n",
       "  <tbody>\n",
       "    <tr>\n",
       "      <th>0</th>\n",
       "      <td>1,90E+11</td>\n",
       "      <td>Santa Isabel</td>\n",
       "      <td>22</td>\n",
       "      <td>M</td>\n",
       "      <td>1</td>\n",
       "      <td>parda</td>\n",
       "      <td>1</td>\n",
       "      <td>1</td>\n",
       "      <td>não_respondeu</td>\n",
       "      <td>NaN</td>\n",
       "      <td>...</td>\n",
       "      <td>600.2</td>\n",
       "      <td>Inglês</td>\n",
       "      <td>1.0</td>\n",
       "      <td>160.0</td>\n",
       "      <td>200.0</td>\n",
       "      <td>180.0</td>\n",
       "      <td>200.0</td>\n",
       "      <td>200.0</td>\n",
       "      <td>940.0</td>\n",
       "      <td>Sim</td>\n",
       "    </tr>\n",
       "    <tr>\n",
       "      <th>1</th>\n",
       "      <td>1,90E+11</td>\n",
       "      <td>São Paulo</td>\n",
       "      <td>17</td>\n",
       "      <td>F</td>\n",
       "      <td>1</td>\n",
       "      <td>parda</td>\n",
       "      <td>1</td>\n",
       "      <td>2</td>\n",
       "      <td>privada</td>\n",
       "      <td>15567761.0</td>\n",
       "      <td>...</td>\n",
       "      <td>731.8</td>\n",
       "      <td>Inglês</td>\n",
       "      <td>1.0</td>\n",
       "      <td>160.0</td>\n",
       "      <td>120.0</td>\n",
       "      <td>200.0</td>\n",
       "      <td>200.0</td>\n",
       "      <td>200.0</td>\n",
       "      <td>880.0</td>\n",
       "      <td>Não</td>\n",
       "    </tr>\n",
       "    <tr>\n",
       "      <th>2</th>\n",
       "      <td>1,90E+11</td>\n",
       "      <td>São Bernardo do Campo</td>\n",
       "      <td>19</td>\n",
       "      <td>M</td>\n",
       "      <td>1</td>\n",
       "      <td>parda</td>\n",
       "      <td>1</td>\n",
       "      <td>2</td>\n",
       "      <td>pública</td>\n",
       "      <td>35904958.0</td>\n",
       "      <td>...</td>\n",
       "      <td>393.2</td>\n",
       "      <td>Espanhol</td>\n",
       "      <td>1.0</td>\n",
       "      <td>80.0</td>\n",
       "      <td>160.0</td>\n",
       "      <td>120.0</td>\n",
       "      <td>100.0</td>\n",
       "      <td>100.0</td>\n",
       "      <td>560.0</td>\n",
       "      <td>Sim</td>\n",
       "    </tr>\n",
       "    <tr>\n",
       "      <th>3</th>\n",
       "      <td>1,90E+11</td>\n",
       "      <td>Embu-Guaçu</td>\n",
       "      <td>17</td>\n",
       "      <td>F</td>\n",
       "      <td>1</td>\n",
       "      <td>parda</td>\n",
       "      <td>1</td>\n",
       "      <td>2</td>\n",
       "      <td>pública</td>\n",
       "      <td>NaN</td>\n",
       "      <td>...</td>\n",
       "      <td>419.2</td>\n",
       "      <td>Inglês</td>\n",
       "      <td>1.0</td>\n",
       "      <td>120.0</td>\n",
       "      <td>120.0</td>\n",
       "      <td>120.0</td>\n",
       "      <td>120.0</td>\n",
       "      <td>80.0</td>\n",
       "      <td>560.0</td>\n",
       "      <td>Sim</td>\n",
       "    </tr>\n",
       "    <tr>\n",
       "      <th>4</th>\n",
       "      <td>1,90E+11</td>\n",
       "      <td>Guarulhos</td>\n",
       "      <td>23</td>\n",
       "      <td>F</td>\n",
       "      <td>1</td>\n",
       "      <td>branca</td>\n",
       "      <td>1</td>\n",
       "      <td>1</td>\n",
       "      <td>não_respondeu</td>\n",
       "      <td>NaN</td>\n",
       "      <td>...</td>\n",
       "      <td>796.1</td>\n",
       "      <td>Inglês</td>\n",
       "      <td>1.0</td>\n",
       "      <td>160.0</td>\n",
       "      <td>200.0</td>\n",
       "      <td>180.0</td>\n",
       "      <td>180.0</td>\n",
       "      <td>160.0</td>\n",
       "      <td>880.0</td>\n",
       "      <td>Sim</td>\n",
       "    </tr>\n",
       "  </tbody>\n",
       "</table>\n",
       "<p>5 rows × 24 columns</p>\n",
       "</div>"
      ],
      "text/plain": [
       "  NU_INSCRICAO NO_MUNICIPIO_RESIDENCIA  IDADE SEXO  TP_ESTADO_CIVIL    RACA  \\\n",
       "0     1,90E+11            Santa Isabel     22    M                1   parda   \n",
       "1     1,90E+11               São Paulo     17    F                1   parda   \n",
       "2     1,90E+11   São Bernardo do Campo     19    M                1   parda   \n",
       "3     1,90E+11              Embu-Guaçu     17    F                1   parda   \n",
       "4     1,90E+11               Guarulhos     23    F                1  branca   \n",
       "\n",
       "   TP_NACIONALIDADE  TP_ST_CONCLUSAO         ESCOLA   CO_ESCOLA  ... NOTA_MT  \\\n",
       "0                 1                1  não_respondeu         NaN  ...   600.2   \n",
       "1                 1                2        privada  15567761.0  ...   731.8   \n",
       "2                 1                2        pública  35904958.0  ...   393.2   \n",
       "3                 1                2        pública         NaN  ...   419.2   \n",
       "4                 1                1  não_respondeu         NaN  ...   796.1   \n",
       "\n",
       "   TP_LINGUA  TP_STATUS_REDACAO  COMP1  COMP2  COMP3  COMP4  COMP5  \\\n",
       "0     Inglês                1.0  160.0  200.0  180.0  200.0  200.0   \n",
       "1     Inglês                1.0  160.0  120.0  200.0  200.0  200.0   \n",
       "2   Espanhol                1.0   80.0  160.0  120.0  100.0  100.0   \n",
       "3     Inglês                1.0  120.0  120.0  120.0  120.0   80.0   \n",
       "4     Inglês                1.0  160.0  200.0  180.0  180.0  160.0   \n",
       "\n",
       "   NOTA_REDACAO  INTERNET  \n",
       "0         940.0       Sim  \n",
       "1         880.0       Não  \n",
       "2         560.0       Sim  \n",
       "3         560.0       Sim  \n",
       "4         880.0       Sim  \n",
       "\n",
       "[5 rows x 24 columns]"
      ]
     },
     "execution_count": 3,
     "metadata": {},
     "output_type": "execute_result"
    }
   ],
   "source": [
    "enem_sp.head()"
   ]
  },
  {
   "cell_type": "code",
   "execution_count": 4,
   "id": "74fc541a",
   "metadata": {},
   "outputs": [],
   "source": [
    "colegioy = enem_sp.loc[enem_sp.CO_ESCOLA == 35151506.0]"
   ]
  },
  {
   "cell_type": "code",
   "execution_count": 5,
   "id": "23dbb52d",
   "metadata": {},
   "outputs": [
    {
     "data": {
      "text/plain": [
       "(30, 24)"
      ]
     },
     "execution_count": 5,
     "metadata": {},
     "output_type": "execute_result"
    }
   ],
   "source": [
    "colegioy.shape"
   ]
  },
  {
   "cell_type": "code",
   "execution_count": 6,
   "id": "9157ed32",
   "metadata": {},
   "outputs": [
    {
     "data": {
      "text/plain": [
       "<bound method NDFrame.head of        NU_INSCRICAO NO_MUNICIPIO_RESIDENCIA  IDADE SEXO  TP_ESTADO_CIVIL  \\\n",
       "492        1,90E+11               São Paulo     17    F                1   \n",
       "7910       1,90E+11               São Paulo     18    F                1   \n",
       "14367      1,90E+11               São Paulo     17    M                1   \n",
       "22519      1,90E+11               São Paulo     17    F                1   \n",
       "58184      1,90E+11               São Paulo     17    M                1   \n",
       "63492      1,90E+11               São Paulo     17    M                1   \n",
       "64043      1,90E+11               São Paulo     17    F                1   \n",
       "93332      1,90E+11               São Paulo     17    F                1   \n",
       "115252     1,90E+11               São Paulo     17    F                1   \n",
       "122812     1,90E+11               São Paulo     17    F                1   \n",
       "125895     1,90E+11               São Paulo     17    F                1   \n",
       "144719     1,90E+11               São Paulo     17    M                1   \n",
       "226120     1,90E+11               São Paulo     17    M                1   \n",
       "231572     1,90E+11               São Paulo     17    M                1   \n",
       "235267     1,90E+11               São Paulo     17    M                1   \n",
       "245498     1,90E+11               São Paulo     17    F                1   \n",
       "247875     1,90E+11               São Paulo     17    F                1   \n",
       "267184     1,90E+11               São Paulo     17    M                1   \n",
       "292058     1,90E+11               São Paulo     17    M                1   \n",
       "301730     1,90E+11               São Paulo     17    F                1   \n",
       "303006     1,90E+11               São Paulo     17    M                1   \n",
       "306232     1,90E+11               São Paulo     17    M                1   \n",
       "310228     1,90E+11               São Paulo     17    M                1   \n",
       "337640     1,90E+11               São Paulo     18    F                1   \n",
       "341117     1,90E+11               São Paulo     17    M                1   \n",
       "348866     1,90E+11               São Paulo     17    M                1   \n",
       "377515     1,90E+11               São Paulo     17    F                1   \n",
       "387310     1,90E+11               São Paulo     17    M                1   \n",
       "403104     1,90E+11               São Paulo     17    F                1   \n",
       "438401     1,90E+11               São Paulo     17    F                1   \n",
       "\n",
       "           RACA  TP_NACIONALIDADE  TP_ST_CONCLUSAO   ESCOLA   CO_ESCOLA  ...  \\\n",
       "492      branca                 1                2  privada  35151506.0  ...   \n",
       "7910     branca                 1                2  privada  35151506.0  ...   \n",
       "14367    branca                 1                2  privada  35151506.0  ...   \n",
       "22519     preta                 1                2  privada  35151506.0  ...   \n",
       "58184    branca                 1                2  privada  35151506.0  ...   \n",
       "63492    branca                 1                2  privada  35151506.0  ...   \n",
       "64043     preta                 1                2  privada  35151506.0  ...   \n",
       "93332    branca                 1                2  privada  35151506.0  ...   \n",
       "115252   branca                 1                2  privada  35151506.0  ...   \n",
       "122812   branca                 1                2  privada  35151506.0  ...   \n",
       "125895  amarela                 1                2  privada  35151506.0  ...   \n",
       "144719   branca                 1                2  privada  35151506.0  ...   \n",
       "226120   branca                 1                2  privada  35151506.0  ...   \n",
       "231572   branca                 1                2  privada  35151506.0  ...   \n",
       "235267   branca                 1                2  privada  35151506.0  ...   \n",
       "245498   branca                 1                2  privada  35151506.0  ...   \n",
       "247875   branca                 1                2  privada  35151506.0  ...   \n",
       "267184    parda                 1                2  privada  35151506.0  ...   \n",
       "292058   branca                 1                2  privada  35151506.0  ...   \n",
       "301730   branca                 1                2  privada  35151506.0  ...   \n",
       "303006    parda                 1                2  privada  35151506.0  ...   \n",
       "306232   branca                 1                2  privada  35151506.0  ...   \n",
       "310228   branca                 1                2  privada  35151506.0  ...   \n",
       "337640   branca                 1                2  privada  35151506.0  ...   \n",
       "341117    parda                 1                2  privada  35151506.0  ...   \n",
       "348866   branca                 1                2  privada  35151506.0  ...   \n",
       "377515   branca                 1                2  privada  35151506.0  ...   \n",
       "387310   branca                 1                2  pública  35151506.0  ...   \n",
       "403104    parda                 1                2  privada  35151506.0  ...   \n",
       "438401   branca                 1                2  privada  35151506.0  ...   \n",
       "\n",
       "       NOTA_MT  TP_LINGUA  TP_STATUS_REDACAO  COMP1  COMP2  COMP3  COMP4  \\\n",
       "492       64.0     Inglês                1.0  160.0  160.0  140.0  140.0   \n",
       "7910     699.5     Inglês                1.0  160.0  120.0  160.0  160.0   \n",
       "14367    780.2     Inglês                1.0  120.0  120.0  100.0  140.0   \n",
       "22519    732.2     Inglês                1.0  140.0  120.0  140.0  180.0   \n",
       "58184    756.3     Inglês                1.0  160.0  200.0  200.0  200.0   \n",
       "63492     75.2     Inglês                1.0  120.0  140.0  120.0  120.0   \n",
       "64043    554.1     Inglês                1.0  140.0  140.0  140.0  120.0   \n",
       "93332    672.3     Inglês                1.0  160.0  140.0  180.0  180.0   \n",
       "115252   700.9     Inglês                1.0  120.0  120.0  140.0  140.0   \n",
       "122812   640.6     Inglês                1.0  140.0  120.0  120.0  120.0   \n",
       "125895   500.2     Inglês                1.0  160.0  160.0  160.0  160.0   \n",
       "144719   882.5     Inglês                1.0  160.0  160.0  160.0  160.0   \n",
       "226120    73.2     Inglês                1.0  120.0  120.0  120.0  120.0   \n",
       "231572   595.5     Inglês                1.0  120.0  120.0  120.0  140.0   \n",
       "235267   746.1     Inglês                1.0  120.0  120.0  120.0  120.0   \n",
       "245498   767.6     Inglês                1.0  160.0  140.0  160.0  160.0   \n",
       "247875   611.5     Inglês                1.0  160.0  200.0  180.0  160.0   \n",
       "267184   690.2     Inglês                1.0  160.0  160.0  160.0  140.0   \n",
       "292058   839.7     Inglês                1.0  160.0  140.0  160.0  180.0   \n",
       "301730   711.7     Inglês                1.0  140.0  120.0  140.0  160.0   \n",
       "303006   822.8     Inglês                1.0  140.0  140.0  140.0  160.0   \n",
       "306232   732.2     Inglês                1.0  160.0  200.0  160.0  160.0   \n",
       "310228   762.2     Inglês                1.0  140.0  160.0  160.0  160.0   \n",
       "337640    53.1     Inglês                1.0  140.0  120.0  120.0  120.0   \n",
       "341117   711.6     Inglês                1.0  160.0  160.0  160.0  160.0   \n",
       "348866   817.9     Inglês                1.0  120.0  160.0  120.0  120.0   \n",
       "377515   404.9     Inglês                1.0  140.0  120.0  100.0  120.0   \n",
       "387310   651.6     Inglês                1.0  140.0  120.0  120.0  120.0   \n",
       "403104   466.8     Inglês                1.0  120.0  120.0  120.0  120.0   \n",
       "438401   610.8     Inglês                1.0  120.0  160.0  120.0  140.0   \n",
       "\n",
       "        COMP5  NOTA_REDACAO  INTERNET  \n",
       "492     120.0         720.0       Sim  \n",
       "7910    140.0         740.0       Sim  \n",
       "14367   160.0         640.0       Sim  \n",
       "22519   120.0         700.0       Sim  \n",
       "58184   200.0         960.0       Sim  \n",
       "63492   140.0         640.0       Sim  \n",
       "64043   140.0         680.0       Sim  \n",
       "93332   140.0         800.0       Sim  \n",
       "115252  140.0         660.0       Sim  \n",
       "122812  100.0         600.0       Sim  \n",
       "125895  120.0         760.0       Sim  \n",
       "144719  160.0         800.0       Sim  \n",
       "226120  120.0         600.0       Sim  \n",
       "231572  140.0         640.0       Sim  \n",
       "235267  160.0         640.0       Sim  \n",
       "245498  120.0         740.0       Sim  \n",
       "247875  180.0         880.0       Sim  \n",
       "267184  140.0         760.0       Sim  \n",
       "292058  200.0         840.0       Sim  \n",
       "301730  160.0         720.0       Sim  \n",
       "303006  160.0         740.0       Sim  \n",
       "306232  180.0         860.0       Sim  \n",
       "310228  100.0         720.0       Sim  \n",
       "337640  160.0         660.0       Sim  \n",
       "341117  200.0         840.0       Sim  \n",
       "348866  120.0         640.0       Sim  \n",
       "377515  160.0         640.0       Sim  \n",
       "387310  140.0         640.0       Sim  \n",
       "403104  120.0         600.0       Sim  \n",
       "438401   80.0         620.0       Sim  \n",
       "\n",
       "[30 rows x 24 columns]>"
      ]
     },
     "execution_count": 6,
     "metadata": {},
     "output_type": "execute_result"
    }
   ],
   "source": [
    "colegioy.head"
   ]
  },
  {
   "cell_type": "markdown",
   "id": "a0e90955",
   "metadata": {},
   "source": [
    "1) analisar a classificação dos dados"
   ]
  },
  {
   "cell_type": "code",
   "execution_count": 7,
   "id": "20e3d52d",
   "metadata": {},
   "outputs": [
    {
     "data": {
      "text/plain": [
       "NU_INSCRICAO                object\n",
       "NO_MUNICIPIO_RESIDENCIA     object\n",
       "IDADE                        int64\n",
       "SEXO                        object\n",
       "TP_ESTADO_CIVIL              int64\n",
       "RACA                        object\n",
       "TP_NACIONALIDADE             int64\n",
       "TP_ST_CONCLUSAO              int64\n",
       "ESCOLA                      object\n",
       "CO_ESCOLA                  float64\n",
       "NO_MUNICIPIO_ESC            object\n",
       "NOTA_CN                    float64\n",
       "NOTA_CH                    float64\n",
       "NOTA_LC                    float64\n",
       "NOTA_MT                    float64\n",
       "TP_LINGUA                   object\n",
       "TP_STATUS_REDACAO          float64\n",
       "COMP1                      float64\n",
       "COMP2                      float64\n",
       "COMP3                      float64\n",
       "COMP4                      float64\n",
       "COMP5                      float64\n",
       "NOTA_REDACAO               float64\n",
       "INTERNET                    object\n",
       "dtype: object"
      ]
     },
     "execution_count": 7,
     "metadata": {},
     "output_type": "execute_result"
    }
   ],
   "source": [
    "enem_sp.dtypes"
   ]
  },
  {
   "cell_type": "markdown",
   "id": "1780618c",
   "metadata": {},
   "source": [
    "2) analisar se há algum valor nulo"
   ]
  },
  {
   "cell_type": "code",
   "execution_count": 8,
   "id": "f734bb7d",
   "metadata": {},
   "outputs": [
    {
     "data": {
      "text/plain": [
       "NU_INSCRICAO               0\n",
       "NO_MUNICIPIO_RESIDENCIA    0\n",
       "IDADE                      0\n",
       "SEXO                       0\n",
       "TP_ESTADO_CIVIL            0\n",
       "RACA                       0\n",
       "TP_NACIONALIDADE           0\n",
       "TP_ST_CONCLUSAO            0\n",
       "ESCOLA                     0\n",
       "CO_ESCOLA                  0\n",
       "NO_MUNICIPIO_ESC           0\n",
       "NOTA_CN                    0\n",
       "NOTA_CH                    0\n",
       "NOTA_LC                    0\n",
       "NOTA_MT                    0\n",
       "TP_LINGUA                  0\n",
       "TP_STATUS_REDACAO          0\n",
       "COMP1                      0\n",
       "COMP2                      0\n",
       "COMP3                      0\n",
       "COMP4                      0\n",
       "COMP5                      0\n",
       "NOTA_REDACAO               0\n",
       "INTERNET                   0\n",
       "dtype: int64"
      ]
     },
     "execution_count": 8,
     "metadata": {},
     "output_type": "execute_result"
    }
   ],
   "source": [
    "colegioy.isnull().sum()"
   ]
  },
  {
   "cell_type": "markdown",
   "id": "8bc65092",
   "metadata": {},
   "source": [
    "3) Análise de outliers"
   ]
  },
  {
   "cell_type": "code",
   "execution_count": 9,
   "id": "64d54ea0",
   "metadata": {},
   "outputs": [
    {
     "data": {
      "text/plain": [
       "<AxesSubplot:ylabel='NOTA_REDACAO'>"
      ]
     },
     "execution_count": 9,
     "metadata": {},
     "output_type": "execute_result"
    },
    {
     "data": {
      "image/png": "[encoded data removed]",
      "text/plain": [
       "<Figure size 640x480 with 1 Axes>"
      ]
     },
     "metadata": {},
     "output_type": "display_data"
    }
   ],
   "source": [
    "sns.boxplot(data = colegioy, y= \"NOTA_REDACAO\")"
   ]
  },
  {
   "cell_type": "markdown",
   "id": "89cd6c4d",
   "metadata": {},
   "source": [
    "4) Análise da normalidade"
   ]
  },
  {
   "cell_type": "code",
   "execution_count": 14,
   "id": "73443679",
   "metadata": {},
   "outputs": [
    {
     "data": {
      "text/plain": [
       "<AxesSubplot:xlabel='NOTA_REDACAO', ylabel='Probability'>"
      ]
     },
     "execution_count": 14,
     "metadata": {},
     "output_type": "execute_result"
    },
    {
     "data": {
      "image/png": "[encoded data removed]",
      "text/plain": [
       "<Figure size 640x480 with 1 Axes>"
      ]
     },
     "metadata": {},
     "output_type": "display_data"
    }
   ],
   "source": [
    "sns.histplot(colegioy, x = 'NOTA_REDACAO', kde = True, stat = \"probability\",bins = 10)"
   ]
  },
  {
   "cell_type": "code",
   "execution_count": 14,
   "id": "01bb5392",
   "metadata": {},
   "outputs": [
    {
     "data": {
      "image/png": "[encoded data removed]",
      "text/plain": [
       "<Figure size 640x480 with 1 Axes>"
      ]
     },
     "metadata": {},
     "output_type": "display_data"
    }
   ],
   "source": [
    "stats.probplot(colegioy['NOTA_REDACAO'], dist = \"norm\", plot = plt)\n",
    "plt.title(\"Normal Q-Q plot\")\n",
    "plt.show()"
   ]
  },
  {
   "cell_type": "markdown",
   "id": "543b6f32",
   "metadata": {},
   "source": [
    "# Teste Númerico\n",
    "Nível de significância de 0,05 ou 5% (MAIS UTILIZADO)\n",
    "QUANDO p > 0,05 (distribuição normal)"
   ]
  },
  {
   "cell_type": "code",
   "execution_count": 15,
   "id": "dc24d36c",
   "metadata": {},
   "outputs": [
    {
     "data": {
      "text/plain": [
       "ShapiroResult(statistic=0.9185918569564819, pvalue=0.024661008268594742)"
      ]
     },
     "execution_count": 15,
     "metadata": {},
     "output_type": "execute_result"
    }
   ],
   "source": [
    "# Teste Shapiro-Wilk\n",
    "stats.shapiro(colegioy.NOTA_REDACAO)"
   ]
  },
  {
   "cell_type": "code",
   "execution_count": 16,
   "id": "237822ad",
   "metadata": {},
   "outputs": [
    {
     "data": {
      "text/plain": [
       "(0.15794211976028916, 0.052842042822119004)"
      ]
     },
     "execution_count": 16,
     "metadata": {},
     "output_type": "execute_result"
    }
   ],
   "source": [
    "# Teste de lilliefors (Kolmogorov_Smirnov)\n",
    "statsmodels.stats.diagnostic.lilliefors(colegioy.NOTA_REDACAO, dist = 'norm')"
   ]
  },
  {
   "cell_type": "code",
   "execution_count": 25,
   "id": "4d7680fc",
   "metadata": {},
   "outputs": [
    {
     "data": {
      "text/plain": [
       "AndersonResult(statistic=0.8227980663381267, critical_values=array([0.521, 0.593, 0.712, 0.83 , 0.988]), significance_level=array([15. , 10. ,  5. ,  2.5,  1. ]))"
      ]
     },
     "execution_count": 25,
     "metadata": {},
     "output_type": "execute_result"
    }
   ],
   "source": [
    "# Teste de Anderson Darling\n",
    "stats.anderson(colegioy.NOTA_REDACAO, dist = 'norm')\n",
    "# o valor de 'p' é correspondente ao terceiro valor .5, sendo assim p = 0,71"
   ]
  },
  {
   "cell_type": "markdown",
   "id": "afedc4f4",
   "metadata": {},
   "source": [
    "O teste de shapiro Wilk não deu como uma distribuição normal, portanto, para ele não seria possível. Entretanto, com os outros dois testes aproximando o valor de p > 0,05 podemos usar"
   ]
  },
  {
   "cell_type": "markdown",
   "id": "d8cfd1f4",
   "metadata": {},
   "source": [
    "# TESTE T\n",
    "Ho = média é igual a de São Paulo: p > 0.05\n",
    "Ha = média é diferente da de São Paulo: p <= 0.05"
   ]
  },
  {
   "cell_type": "code",
   "execution_count": 26,
   "id": "1e29b40b",
   "metadata": {},
   "outputs": [
    {
     "data": {
      "text/plain": [
       "count    499940.000000\n",
       "mean        593.018322\n",
       "std         170.536724\n",
       "min           0.000000\n",
       "25%         500.000000\n",
       "50%         600.000000\n",
       "75%         680.000000\n",
       "max        1000.000000\n",
       "Name: NOTA_REDACAO, dtype: float64"
      ]
     },
     "execution_count": 26,
     "metadata": {},
     "output_type": "execute_result"
    }
   ],
   "source": [
    "enem_sp.NOTA_REDACAO.describe()"
   ]
  },
  {
   "cell_type": "code",
   "execution_count": 27,
   "id": "7cec286a",
   "metadata": {},
   "outputs": [
    {
     "name": "stdout",
     "output_type": "stream",
     "text": [
      "Estatística de teste: 7.18\n",
      "p-valor: 6.72e-08\n"
     ]
    }
   ],
   "source": [
    "# teste t está presente na biblioteca scipy\n",
    "# scipy.stats.ttest_1samp(a, popmean)\n",
    "\n",
    "stat, p = stats.ttest_1samp(colegioy['NOTA_REDACAO'], popmean = 593.018)\n",
    "\n",
    "# popmean = média\n",
    "# a = colegioy['NOTA_REDACAO']\n",
    "\n",
    "print('Estatística de teste: {}'.format(stat.round(2)))\n",
    "print('p-valor: {}'.format(p.round(10)))"
   ]
  },
  {
   "cell_type": "code",
   "execution_count": 28,
   "id": "e10ec7bf",
   "metadata": {},
   "outputs": [
    {
     "data": {
      "text/plain": [
       "count     30.000000\n",
       "mean     716.000000\n",
       "std       93.867111\n",
       "min      600.000000\n",
       "25%      640.000000\n",
       "50%      710.000000\n",
       "75%      760.000000\n",
       "max      960.000000\n",
       "Name: NOTA_REDACAO, dtype: float64"
      ]
     },
     "execution_count": 28,
     "metadata": {},
     "output_type": "execute_result"
    }
   ],
   "source": [
    "colegioy.NOTA_REDACAO.describe()"
   ]
  },
  {
   "cell_type": "markdown",
   "id": "d26221bc",
   "metadata": {},
   "source": [
    "# Interpretação:\n",
    "\n",
    "Teste estatístico t = 7,18\n",
    "\n",
    "p_valor = 6.72e-18\n",
    "\n",
    "conclusão: estatísticamente, a média de redação do colégio y é diferente da média do Estado de São Paulo, com intervalo de confiança de 95% "
   ]
  }
 ],
 "metadata": {
  "kernelspec": {
   "display_name": "Python 3 (ipykernel)",
   "language": "python",
   "name": "python3"
  },
  "language_info": {
   "codemirror_mode": {
    "name": "ipython",
    "version": 3
   },
   "file_extension": ".py",
   "mimetype": "text/x-python",
   "name": "python",
   "nbconvert_exporter": "python",
   "pygments_lexer": "ipython3",
   "version": "3.9.13"
  }
 },
 "nbformat": 4,
 "nbformat_minor": 5
}
