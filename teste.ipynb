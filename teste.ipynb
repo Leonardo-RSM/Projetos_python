{
 "cells": [
  {
   "cell_type": "markdown",
   "id": "ee1b50ce",
   "metadata": {},
   "source": [
    "Primeiro Notebook"
   ]
  },
  {
   "cell_type": "code",
   "execution_count": 1,
   "id": "8cac551e",
   "metadata": {},
   "outputs": [
    {
     "name": "stdout",
     "output_type": "stream",
     "text": [
      "Olá Mundo\n"
     ]
    }
   ],
   "source": [
    "print('Olá Mundo')"
   ]
  },
  {
   "cell_type": "code",
   "execution_count": 2,
   "id": "c41fc282",
   "metadata": {},
   "outputs": [
    {
     "data": {
      "text/plain": [
       "48"
      ]
     },
     "execution_count": 2,
     "metadata": {},
     "output_type": "execute_result"
    }
   ],
   "source": [
    "6*8"
   ]
  },
  {
   "cell_type": "code",
   "execution_count": 3,
   "id": "09d2709a",
   "metadata": {},
   "outputs": [
    {
     "name": "stdout",
     "output_type": "stream",
     "text": [
      "Olá Mundo\n"
     ]
    }
   ],
   "source": [
    "mensagem = 'Olá Mundo'\n",
    "print(mensagem)"
   ]
  },
  {
   "cell_type": "code",
   "execution_count": 4,
   "id": "669ca687",
   "metadata": {},
   "outputs": [
    {
     "name": "stdout",
     "output_type": "stream",
     "text": [
      "Qual é o seu nome?leo\n"
     ]
    }
   ],
   "source": [
    "nome = input('Qual é o seu nome?')"
   ]
  },
  {
   "cell_type": "code",
   "execution_count": 5,
   "id": "04b5d4d5",
   "metadata": {},
   "outputs": [
    {
     "name": "stdout",
     "output_type": "stream",
     "text": [
      "meu nome é leo\n"
     ]
    }
   ],
   "source": [
    "print('meu nome é', nome)"
   ]
  },
  {
   "cell_type": "code",
   "execution_count": null,
   "id": "615fac68",
   "metadata": {},
   "outputs": [],
   "source": []
  }
 ],
 "metadata": {
  "kernelspec": {
   "display_name": "Python 3 (ipykernel)",
   "language": "python",
   "name": "python3"
  },
  "language_info": {
   "codemirror_mode": {
    "name": "ipython",
    "version": 3
   },
   "file_extension": ".py",
   "mimetype": "text/x-python",
   "name": "python",
   "nbconvert_exporter": "python",
   "pygments_lexer": "ipython3",
   "version": "3.9.13"
  }
 },
 "nbformat": 4,
 "nbformat_minor": 5
}
