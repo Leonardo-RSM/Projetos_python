{
 "cells": [
  {
   "cell_type": "markdown",
   "metadata": {
    "id": "fQJ5CYV9Te0X"
   },
   "source": [
    "# **PROJETO ANÁLISE ESTATÍSTICA DO ENEM 2019**"
   ]
  },
  {
   "cell_type": "markdown",
   "metadata": {
    "id": "kXFCCsVHTtTP"
   },
   "source": [
    "Este projeto analisa os resultados do ENEM no estado de São Paulo do ano de 2019."
   ]
  },
  {
   "cell_type": "markdown",
   "metadata": {
    "id": "5ZQ2nYhQUc3G"
   },
   "source": [
    "Os dados foram extraídos do site do INEP:\n",
    "\n",
    "http://inep.gov.br/microdados"
   ]
  },
  {
   "cell_type": "code",
   "execution_count": null,
   "metadata": {
    "id": "nWvIcticlCs2"
   },
   "outputs": [],
   "source": [
    "import numpy as np\n",
    "import pandas as pd"
   ]
  },
  {
   "cell_type": "code",
   "execution_count": null,
   "metadata": {
    "id": "LRIrwcC8kUhT"
   },
   "outputs": [],
   "source": [
    "dados = pd.read_csv('/Users/paull/OneDrive/Área de Trabalho/LEONARDO/python/microdados_enem_2019_sp.csv',\n",
    "                    sep=';', encoding='iso-8859-1')\n",
    "# encoding: codificação de caracteres, normalmente utiliza-se o iso-8859-1, utf-8, latin-1)"
   ]
  },
  {
   "cell_type": "markdown",
   "metadata": {
    "id": "oKrNiwgYQmvK"
   },
   "source": [
    "## Extração e Limpeza dos dados"
   ]
  },
  {
   "cell_type": "code",
   "execution_count": null,
   "metadata": {
    "id": "AwJYfRTTCnLd"
   },
   "outputs": [],
   "source": [
    "pd.options.display.max_columns = 44"
   ]
  },
  {
   "cell_type": "code",
   "execution_count": null,
   "metadata": {
    "colab": {
     "base_uri": "https://localhost:8080/",
     "height": 0
    },
    "id": "Gol7BjFSuNs0",
    "outputId": "0c556a24-e0be-44f8-eca0-d1d3510ea877"
   },
   "outputs": [],
   "source": [
    "dados.head()"
   ]
  },
  {
   "cell_type": "code",
   "execution_count": null,
   "metadata": {
    "colab": {
     "base_uri": "https://localhost:8080/"
    },
    "id": "BFS6iDf4wYG3",
    "outputId": "8f2b97b8-aa05-4a12-b51b-0eea9e41e24d"
   },
   "outputs": [],
   "source": [
    "#O número total de inscritos em São Paulo foi de 813772, sendo de 15,97% de todo o Brasil que foi de 5095308 inscritos. \n",
    "dados.shape"
   ]
  },
  {
   "cell_type": "code",
   "execution_count": null,
   "metadata": {
    "colab": {
     "base_uri": "https://localhost:8080/"
    },
    "id": "wopAqivQXpqI",
    "outputId": "caa18529-9035-474c-fc53-5d41909204a8"
   },
   "outputs": [],
   "source": [
    "# Análise dos tipos de atributos.\n",
    "# object: strings\n",
    "# int64: inteiros\n",
    "# float64: reais\n",
    "# complex: complexos\n",
    "dados.dtypes"
   ]
  },
  {
   "cell_type": "code",
   "execution_count": null,
   "metadata": {
    "id": "BjCxJx81cwfM"
   },
   "outputs": [],
   "source": [
    "dados1 = dados.drop(columns=['CO_MUNICIPIO_RESIDENCIA'])"
   ]
  },
  {
   "cell_type": "code",
   "execution_count": null,
   "metadata": {
    "colab": {
     "base_uri": "https://localhost:8080/",
     "height": 0
    },
    "id": "r0TA2zQPc8QK",
    "outputId": "78cc1695-01e6-426b-9f9f-9012d60f80ba"
   },
   "outputs": [],
   "source": [
    "dados1.head()"
   ]
  },
  {
   "cell_type": "code",
   "execution_count": null,
   "metadata": {
    "id": "JvmZesUudKEQ"
   },
   "outputs": [],
   "source": [
    "dados1 = dados1.drop(columns=['CO_UF_RESIDENCIA','SG_UF_RESIDENCIA','CO_MUNICIPIO_NASCIMENTO'], )"
   ]
  },
  {
   "cell_type": "code",
   "execution_count": null,
   "metadata": {
    "colab": {
     "base_uri": "https://localhost:8080/",
     "height": 0
    },
    "id": "fi6lhrxZeFIm",
    "outputId": "5dd3369a-0b75-450c-8d43-95fb34766c70"
   },
   "outputs": [],
   "source": [
    "dados1.head(40)"
   ]
  },
  {
   "cell_type": "code",
   "execution_count": null,
   "metadata": {
    "id": "dW5foN0sezYl"
   },
   "outputs": [],
   "source": [
    "dados1 = dados1.drop(columns=['NO_MUNICIPIO_NASCIMENTO','CO_UF_NASCIMENTO','SG_UF_NASCIMENTO',\n",
    "                              'TP_ANO_CONCLUIU','TP_ENSINO','CO_MUNICIPIO_ESC','CO_UF_ESC','SG_UF_ESC'],)"
   ]
  },
  {
   "cell_type": "code",
   "execution_count": null,
   "metadata": {
    "colab": {
     "base_uri": "https://localhost:8080/",
     "height": 0
    },
    "id": "xoL3iWbdrLCR",
    "outputId": "db21d4c1-ce86-46c6-db17-c4fd56177454"
   },
   "outputs": [],
   "source": [
    "dados1.head()"
   ]
  },
  {
   "cell_type": "code",
   "execution_count": null,
   "metadata": {
    "id": "9YBg_gqqy15c"
   },
   "outputs": [],
   "source": [
    "dados1 = dados1.drop(columns=['TP_DEPENDENCIA_ADM_ESC','TP_LOCALIZACAO_ESC','TP_SIT_FUNC_ESC'],)"
   ]
  },
  {
   "cell_type": "code",
   "execution_count": null,
   "metadata": {
    "colab": {
     "base_uri": "https://localhost:8080/",
     "height": 0
    },
    "id": "Zq8F3coNzJlw",
    "outputId": "7f74ed0e-947f-41ca-debb-57dc6d5e8fff"
   },
   "outputs": [],
   "source": [
    "dados1.head()"
   ]
  },
  {
   "cell_type": "code",
   "execution_count": null,
   "metadata": {
    "colab": {
     "base_uri": "https://localhost:8080/"
    },
    "id": "PvftFwLmzZIA",
    "outputId": "7a9393bf-676e-4e98-ac74-0b2f731ae2cc"
   },
   "outputs": [],
   "source": [
    "dados1.shape"
   ]
  },
  {
   "cell_type": "markdown",
   "metadata": {
    "id": "caxlqhYZmG6N"
   },
   "source": [
    "Corrigindo erros nas notas"
   ]
  },
  {
   "cell_type": "code",
   "execution_count": null,
   "metadata": {
    "id": "vSE2L_8Via3L"
   },
   "outputs": [],
   "source": [
    "dados1.loc[:,'NU_NOTA_CN'] /= 10"
   ]
  },
  {
   "cell_type": "code",
   "execution_count": null,
   "metadata": {
    "colab": {
     "base_uri": "https://localhost:8080/",
     "height": 0
    },
    "id": "VViqwvsKilw4",
    "outputId": "44bda8a3-f1d8-452d-b2d7-1735f534dc1a"
   },
   "outputs": [],
   "source": [
    "dados1.head(12)"
   ]
  },
  {
   "cell_type": "code",
   "execution_count": null,
   "metadata": {
    "id": "AdJDdAXsjk6F"
   },
   "outputs": [],
   "source": [
    "dados1.loc[:,'NU_NOTA_CH'] /= 10\n",
    "dados1.loc[:,'NU_NOTA_LC'] /= 10\n",
    "dados1.loc[:,'NU_NOTA_MT'] /= 10"
   ]
  },
  {
   "cell_type": "code",
   "execution_count": null,
   "metadata": {
    "colab": {
     "base_uri": "https://localhost:8080/",
     "height": 0
    },
    "id": "sDRjky9Uj0Br",
    "outputId": "10f9121d-672f-4039-87d6-50463462001a"
   },
   "outputs": [],
   "source": [
    "dados1.head()"
   ]
  },
  {
   "cell_type": "markdown",
   "metadata": {
    "id": "kOC6EYsrmLT1"
   },
   "source": [
    "Renomeando Variáveis (colunas)"
   ]
  },
  {
   "cell_type": "code",
   "execution_count": null,
   "metadata": {
    "id": "eK1hqPsJawER"
   },
   "outputs": [],
   "source": [
    "dados1 = dados1.rename(columns={'NU_NOTA_REDACAO': 'NOTA_REDACAO'})"
   ]
  },
  {
   "cell_type": "code",
   "execution_count": null,
   "metadata": {
    "colab": {
     "base_uri": "https://localhost:8080/",
     "height": 0
    },
    "id": "3eeWUEngawN-",
    "outputId": "6cfd8ea2-ceed-43e6-8d3f-5abe2e1488a4"
   },
   "outputs": [],
   "source": [
    "dados1.head()"
   ]
  },
  {
   "cell_type": "code",
   "execution_count": null,
   "metadata": {
    "id": "b0LQhLGuawQw"
   },
   "outputs": [],
   "source": [
    "dados1 = dados1.rename(columns={'NU_NOTA_CN': 'NOTA_CN','NU_NOTA_CH': 'NOTA_CH',\n",
    "                                'NU_NOTA_LC': 'NOTA_LC','NU_NOTA_MT': 'NOTA_MT'})"
   ]
  },
  {
   "cell_type": "code",
   "execution_count": null,
   "metadata": {
    "id": "2ao47Wj8awUx"
   },
   "outputs": [],
   "source": [
    "dados1 = dados1.rename(columns={'NU_NOTA_COMP1': 'COMP1','NU_NOTA_COMP2': 'COMP2',\n",
    "                                'NU_NOTA_COMP3': 'COMP3','NU_NOTA_COMP4': 'COMP4',\n",
    "                                'NU_NOTA_COMP5':'COMP5'})"
   ]
  },
  {
   "cell_type": "code",
   "execution_count": null,
   "metadata": {
    "id": "Scs9fWBunBlK"
   },
   "outputs": [],
   "source": [
    "dados1 = dados1.rename(columns={'NU_IDADE': 'IDADE','TP_SEXO': 'SEXO',\n",
    "                                'TP_COR_RACA': 'RACA','Q025': 'INTERNET',\n",
    "                                'TP_ESCOLA':'ESCOLA'})"
   ]
  },
  {
   "cell_type": "markdown",
   "metadata": {
    "id": "PFmbTqY2GzAY"
   },
   "source": [
    "Renomeando Registros (Linhas)"
   ]
  },
  {
   "cell_type": "code",
   "execution_count": null,
   "metadata": {
    "id": "1aU3YcRIGsRo"
   },
   "outputs": [],
   "source": [
    "dados1[\"RACA\"] = dados1[\"RACA\"].replace({0:\"nao_declarado\", 1:\"branca\", 2:\"preta\", 3:\"parda\", 4:\"amarela\", 5:\"indigena\"})"
   ]
  },
  {
   "cell_type": "code",
   "execution_count": null,
   "metadata": {
    "colab": {
     "base_uri": "https://localhost:8080/",
     "height": 0
    },
    "id": "3jaww8zN4BKt",
    "outputId": "087da4ee-4cb7-441c-c0e3-4ed2d0a087cb"
   },
   "outputs": [],
   "source": [
    "dados1.head()"
   ]
  },
  {
   "cell_type": "code",
   "execution_count": null,
   "metadata": {
    "id": "wVPIXjdxlAcz"
   },
   "outputs": [],
   "source": [
    "# OUTRA MANEIRA\n",
    "# dados1['RACA'] = dados1['RACA'].replace([0,1,2,3,4,5], ['Não Declarado','Branca','Preta','Parda','Amarela','Indígena'])"
   ]
  },
  {
   "cell_type": "code",
   "execution_count": null,
   "metadata": {
    "id": "5384wa-m-Hpb"
   },
   "outputs": [],
   "source": [
    "dados1[\"TP_LINGUA\"] = dados1[\"TP_LINGUA\"].replace({0:\"Inglês\", 1:\"Espanhol\"})"
   ]
  },
  {
   "cell_type": "code",
   "execution_count": null,
   "metadata": {
    "id": "bNvg_C8E8Y31"
   },
   "outputs": [],
   "source": [
    "dados1[\"ESCOLA\"] = dados1[\"ESCOLA\"].replace({1:\"não_respondeu\", 2:\"pública\", 3:\"privada\", 4:\"exterior\"})"
   ]
  },
  {
   "cell_type": "code",
   "execution_count": null,
   "metadata": {
    "id": "LeFfSQy19gkx"
   },
   "outputs": [],
   "source": [
    "dados1[\"INTERNET\"] = dados1[\"INTERNET\"].replace({\"A\":\"Não\", \"B\":\"Sim\"})"
   ]
  },
  {
   "cell_type": "markdown",
   "metadata": {
    "id": "6EoxP5zgQz-M"
   },
   "source": [
    "## Análise Exploratória e Transformação dos dados"
   ]
  },
  {
   "cell_type": "markdown",
   "metadata": {
    "id": "Yqes4ro4BUMS"
   },
   "source": [
    "**Análise das idades**"
   ]
  },
  {
   "cell_type": "code",
   "execution_count": null,
   "metadata": {
    "colab": {
     "base_uri": "https://localhost:8080/"
    },
    "id": "F_-iQxfFpTok",
    "outputId": "33aa58f3-9e15-42d2-dcaf-aa9644f95c3a"
   },
   "outputs": [],
   "source": [
    "dados1['IDADE'].value_counts()\n"
   ]
  },
  {
   "cell_type": "code",
   "execution_count": null,
   "metadata": {
    "id": "8rDPKtGEFwR-"
   },
   "outputs": [],
   "source": [
    "dados1['IDADE'].value_counts().sort_index()"
   ]
  },
  {
   "cell_type": "code",
   "execution_count": null,
   "metadata": {
    "id": "8u3FaIlnajQo"
   },
   "outputs": [],
   "source": [
    "# Para ver todas as linhas, primeiro transforme num Dataframe:\n",
    "idade = pd.DataFrame(dados1['IDADE'].value_counts().sort_index())"
   ]
  },
  {
   "cell_type": "code",
   "execution_count": null,
   "metadata": {
    "id": "ZMa7N5pBb3bi"
   },
   "outputs": [],
   "source": [
    "# Configura o Pandas para observar 80 linhas\n",
    "pd.set_option('display.max_rows', 80)"
   ]
  },
  {
   "cell_type": "code",
   "execution_count": null,
   "metadata": {
    "id": "eVXrknNga5tT"
   },
   "outputs": [],
   "source": [
    "idade.head(80)"
   ]
  },
  {
   "cell_type": "markdown",
   "metadata": {
    "id": "2dWK48PaVvXr"
   },
   "source": [
    "Alguns valores estranhos e curiosos: idades menores que 12 anos e maiores de 80 anos."
   ]
  },
  {
   "cell_type": "code",
   "execution_count": null,
   "metadata": {
    "id": "L6Kb8z7gqy9a"
   },
   "outputs": [],
   "source": [
    "menores_12 = dados1.query('IDADE < 12')['NO_MUNICIPIO_RESIDENCIA'].value_counts()"
   ]
  },
  {
   "cell_type": "code",
   "execution_count": null,
   "metadata": {
    "id": "V-KFAIp6GO7E"
   },
   "outputs": [],
   "source": [
    "# Inscrições com idade abaixo de 12 anos serão excluídos devido a alta probabilidade de erro.\n",
    "menores_12"
   ]
  },
  {
   "cell_type": "code",
   "execution_count": null,
   "metadata": {
    "id": "5LJCjuILHGE7"
   },
   "outputs": [],
   "source": [
    "dados_maiores_11 = dados1.loc[dados1.IDADE > 11]"
   ]
  },
  {
   "cell_type": "code",
   "execution_count": null,
   "metadata": {
    "id": "osXcpcJ3La1S"
   },
   "outputs": [],
   "source": [
    "dados_maiores_11.head()"
   ]
  },
  {
   "cell_type": "code",
   "execution_count": null,
   "metadata": {
    "id": "FNnKvKY3MBKd"
   },
   "outputs": [],
   "source": [
    "dados_maiores_11['IDADE'].value_counts().sort_index()"
   ]
  },
  {
   "cell_type": "markdown",
   "metadata": {
    "id": "p3l9HwM3BsSf"
   },
   "source": [
    "**Treineiros**"
   ]
  },
  {
   "cell_type": "code",
   "execution_count": null,
   "metadata": {
    "colab": {
     "base_uri": "https://localhost:8080/"
    },
    "id": "CRD9ukIOMdXG",
    "outputId": "08c5e0c5-f00a-42f3-9dcc-44c82ee6fa0e"
   },
   "outputs": [],
   "source": [
    "dados_maiores_11.query('IN_TREINEIRO == 1')['IN_TREINEIRO'].value_counts()"
   ]
  },
  {
   "cell_type": "code",
   "execution_count": null,
   "metadata": {
    "id": "qgfvskS5MdgS"
   },
   "outputs": [],
   "source": [
    "treineiros = dados_maiores_11.loc[dados_maiores_11.IN_TREINEIRO == 1]"
   ]
  },
  {
   "cell_type": "code",
   "execution_count": null,
   "metadata": {
    "id": "MNPxlhQ0MdpF"
   },
   "outputs": [],
   "source": [
    "treineiros.head()"
   ]
  },
  {
   "cell_type": "code",
   "execution_count": null,
   "metadata": {
    "id": "SgARM58Gcpx6"
   },
   "outputs": [],
   "source": [
    "treineiros.to_csv('treineiros_enem_2019_sp.csv', encoding = 'iso-8859-1', index = False)"
   ]
  },
  {
   "cell_type": "code",
   "execution_count": null,
   "metadata": {
    "id": "Gaq-SOFUMdzb"
   },
   "outputs": [],
   "source": [
    "# Separação entre os treineiros e os vestibulandos\n",
    "vestibulandos = dados_maiores_11.loc[dados_maiores_11.IN_TREINEIRO == 0]"
   ]
  },
  {
   "cell_type": "code",
   "execution_count": null,
   "metadata": {
    "colab": {
     "base_uri": "https://localhost:8080/",
     "height": 287
    },
    "id": "B8ixIFm_PdnN",
    "outputId": "ad4dd21d-a551-48fd-ef59-0f0ec7d4a496"
   },
   "outputs": [],
   "source": [
    "vestibulandos.head()"
   ]
  },
  {
   "cell_type": "code",
   "execution_count": null,
   "metadata": {
    "colab": {
     "base_uri": "https://localhost:8080/"
    },
    "id": "Nuoxx9D9Pdvd",
    "outputId": "6e012c7f-040a-4c25-a1b9-230f85c28645"
   },
   "outputs": [],
   "source": [
    "vestibulandos.shape"
   ]
  },
  {
   "cell_type": "markdown",
   "metadata": {
    "id": "mj4zA09oB5gS"
   },
   "source": [
    "**Análise das presenças**"
   ]
  },
  {
   "cell_type": "code",
   "execution_count": null,
   "metadata": {
    "colab": {
     "base_uri": "https://localhost:8080/"
    },
    "id": "j8h9xEweKjIR",
    "outputId": "4a3b4d2b-db40-4120-c1dd-f3f959eed6cd"
   },
   "outputs": [],
   "source": [
    "vestibulandos['TP_PRESENCA_CN'].value_counts()"
   ]
  },
  {
   "cell_type": "code",
   "execution_count": null,
   "metadata": {
    "colab": {
     "base_uri": "https://localhost:8080/"
    },
    "id": "BBQvCu7yLLd9",
    "outputId": "bdd14f9f-9d7b-48cf-a146-5473f9437a12"
   },
   "outputs": [],
   "source": [
    "vestibulandos['TP_PRESENCA_CH'].value_counts()"
   ]
  },
  {
   "cell_type": "code",
   "execution_count": null,
   "metadata": {
    "colab": {
     "base_uri": "https://localhost:8080/"
    },
    "id": "qKQs-FseLSvZ",
    "outputId": "2911a1c9-156e-4403-a570-34d9193d0b1d"
   },
   "outputs": [],
   "source": [
    "vestibulandos['TP_PRESENCA_LC'].value_counts()"
   ]
  },
  {
   "cell_type": "code",
   "execution_count": null,
   "metadata": {
    "colab": {
     "base_uri": "https://localhost:8080/"
    },
    "id": "PysS3z9kLVzF",
    "outputId": "65be227b-c8f4-4b91-a847-eb93e86f7a3a"
   },
   "outputs": [],
   "source": [
    "vestibulandos['TP._PRESENCA_MT'].value_counts()"
   ]
  },
  {
   "cell_type": "markdown",
   "metadata": {
    "id": "RvEbqZDXEX_x"
   },
   "source": [
    "RESUMO DA PRESENÇA NAS PROVAS:\n",
    "\n",
    "Ciências da Natureza: 500805 presentes, 218693 faltaram e 270 eliminados.\n",
    "\n",
    "Ciências Humanas: 533142 presentes, 185969 faltaram e 657 eliminados.\n",
    "\n",
    "Linguagens e Códigos: 533142 presentes, 185969 faltaram e 657 eliminados.\n",
    "\n",
    "Matemática: 500805 presentes, 218693 faltaram e 270 eliminados."
   ]
  },
  {
   "cell_type": "code",
   "execution_count": null,
   "metadata": {
    "colab": {
     "base_uri": "https://localhost:8080/"
    },
    "id": "NJWJp5PxLpBN",
    "outputId": "a5ca8d40-0c01-4d15-e27f-da559bf045c2"
   },
   "outputs": [],
   "source": [
    "vestibulandos['TP_STATUS_REDACAO'].value_counts().sort_index()"
   ]
  },
  {
   "cell_type": "markdown",
   "metadata": {
    "id": "hHieanAgCU9x"
   },
   "source": [
    "**Valores Ausentes**"
   ]
  },
  {
   "cell_type": "code",
   "execution_count": null,
   "metadata": {
    "colab": {
     "base_uri": "https://localhost:8080/"
    },
    "id": "BVNSe7sBdTY1",
    "outputId": "e246dd1a-a709-4039-d51d-a39998828c4d"
   },
   "outputs": [],
   "source": [
    "vestibulandos['IDADE'].isnull().sum()"
   ]
  },
  {
   "cell_type": "code",
   "execution_count": null,
   "metadata": {
    "id": "kZIbSeR8Pdyt"
   },
   "outputs": [],
   "source": [
    "provas = ['NOTA_REDACAO','NOTA_CN','NOTA_MT','NOTA_LC','NOTA_CH']"
   ]
  },
  {
   "cell_type": "code",
   "execution_count": null,
   "metadata": {
    "colab": {
     "base_uri": "https://localhost:8080/"
    },
    "id": "CupDbA6qPd03",
    "outputId": "c1911d7d-191b-4572-ad6e-7a7ea9f72504"
   },
   "outputs": [],
   "source": [
    "# Registros NAN nas notas\n",
    "vestibulandos[provas].isnull().sum()"
   ]
  },
  {
   "cell_type": "code",
   "execution_count": null,
   "metadata": {
    "id": "sjr7ySOJbqKq"
   },
   "outputs": [],
   "source": [
    "vestibulandos_classificados = vestibulandos.loc[vestibulandos.TP_PRESENCA_CH == 1]\n",
    "vestibulandos_classificados = vestibulandos_classificados.loc[vestibulandos_classificados.TP_PRESENCA_MT == 1]"
   ]
  },
  {
   "cell_type": "code",
   "execution_count": null,
   "metadata": {
    "colab": {
     "base_uri": "https://localhost:8080/"
    },
    "id": "PToyNsgHd9Bs",
    "outputId": "334bb243-dc21-449c-eb31-49b34b146875"
   },
   "outputs": [],
   "source": [
    "vestibulandos_classificados['TP_PRESENCA_MT'].value_counts()"
   ]
  },
  {
   "cell_type": "code",
   "execution_count": null,
   "metadata": {
    "colab": {
     "base_uri": "https://localhost:8080/"
    },
    "id": "u1iJjvbu9QH2",
    "outputId": "ab9a1e26-7552-4dce-f2e8-e00f708b5092"
   },
   "outputs": [],
   "source": [
    "vestibulandos_classificados['TP_PRESENCA_CH'].value_counts()"
   ]
  },
  {
   "cell_type": "code",
   "execution_count": null,
   "metadata": {
    "colab": {
     "base_uri": "https://localhost:8080/"
    },
    "id": "6U5xavx3hRRa",
    "outputId": "91ce480e-1329-41de-f693-e1aaf405cd59"
   },
   "outputs": [],
   "source": [
    "vestibulandos_classificados['TP_PRESENCA_CN'].value_counts()"
   ]
  },
  {
   "cell_type": "code",
   "execution_count": null,
   "metadata": {
    "colab": {
     "base_uri": "https://localhost:8080/"
    },
    "id": "XE0AG0ZvhXPg",
    "outputId": "598edaae-32bf-47a3-f858-abdb7c28b8f3"
   },
   "outputs": [],
   "source": [
    "vestibulandos_classificados['TP_PRESENCA_LC'].value_counts()"
   ]
  },
  {
   "cell_type": "code",
   "execution_count": null,
   "metadata": {
    "colab": {
     "base_uri": "https://localhost:8080/"
    },
    "id": "77hYSsYmhGCd",
    "outputId": "5e2cf459-3f85-424d-e297-748a7922c74f"
   },
   "outputs": [],
   "source": [
    "vestibulandos_classificados[provas].isnull().sum()"
   ]
  },
  {
   "cell_type": "markdown",
   "metadata": {
    "id": "b-eG3RmjDgar"
   },
   "source": [
    "** Notas zeros na Redação**"
   ]
  },
  {
   "cell_type": "code",
   "execution_count": null,
   "metadata": {
    "id": "NN_QNiqqC3H6"
   },
   "outputs": [],
   "source": [
    "from collections import Counter\n",
    "dict(Counter(vestibulandos_classificados['NOTA_REDACAO']))"
   ]
  },
  {
   "cell_type": "code",
   "execution_count": null,
   "metadata": {
    "id": "MP41kN969Saz"
   },
   "outputs": [],
   "source": [
    "vestibulandos_classificados.query('NOTA_REDACAO == 0')['NOTA_REDACAO'].value_counts()"
   ]
  },
  {
   "cell_type": "code",
   "execution_count": null,
   "metadata": {
    "id": "jmwHE5j5XjTS"
   },
   "outputs": [],
   "source": [
    "vestibulandos_classificados.query('COMP1 == 0')['COMP1'].value_counts()"
   ]
  },
  {
   "cell_type": "code",
   "execution_count": null,
   "metadata": {
    "id": "qrTvoIfKXW5n"
   },
   "outputs": [],
   "source": [
    "vestibulandos_classificados.query('COMP2 == 0')['COMP2'].value_counts()"
   ]
  },
  {
   "cell_type": "code",
   "execution_count": null,
   "metadata": {
    "id": "VlH_HTVtXXNi"
   },
   "outputs": [],
   "source": [
    "vestibulandos_classificados.query('COMP3 == 0')['COMP3'].value_counts()"
   ]
  },
  {
   "cell_type": "code",
   "execution_count": null,
   "metadata": {
    "id": "EPeuZVq-XXdB"
   },
   "outputs": [],
   "source": [
    "vestibulandos_classificados.query('COMP4 == 0')['COMP4'].value_counts()"
   ]
  },
  {
   "cell_type": "code",
   "execution_count": null,
   "metadata": {
    "id": "-iORCGQOXXuy"
   },
   "outputs": [],
   "source": [
    "vestibulandos_classificados.query('COMP5 == 0')['COMP5'].value_counts()"
   ]
  },
  {
   "cell_type": "markdown",
   "metadata": {
    "id": "SXBmTtkH_XDS"
   },
   "source": [
    "NOTAS ZEROS EM REDAÇÃO:\n",
    "\n",
    "REDAÇÃO (final): 9181 notas zeros devido a não cumprimento das regras ou tirou zero em todos os cinco componentes.\n",
    "\n",
    "COMPONENTE 1(Demonstrar domínio da modalidade escrita formal da Língua Portuguesa.): 9188 notas zeros somente neste item.\n",
    "\n",
    "COMPONENTE 2 (Compreender a proposta de redação e aplicar conceitos das várias áreas de conhecimento para desenvolver o tema, dentro dos limites estruturais do texto dissertativo-argumentativo em prosa): 9181. \n",
    "\n",
    "COMPONENTE 3 (Selecionar, relacionar, organizar e interpretar informações, fatos, opiniões e argumentos em defesa de um ponto de vista): 9197 notas zeros somente neste item.\n",
    "\n",
    "COMPONENTE 4 (Demonstrar conhecimento dos mecanismos linguísticos necessários para a construção da argumentação.): 9194 notas zeros somente neste item.\n",
    "\n",
    "COMPONENTE 5 (Elaborar proposta de intervenção para o problema abordado, respeitando os direitos humanos): 73330 notas zeros somente neste item.\n"
   ]
  },
  {
   "cell_type": "code",
   "execution_count": null,
   "metadata": {
    "id": "gzalNqvXX3Um"
   },
   "outputs": [],
   "source": [
    "vestibulandos_classificados.query('NOTA_CH == 0')['NOTA_CH'].value_counts()"
   ]
  },
  {
   "cell_type": "code",
   "execution_count": null,
   "metadata": {
    "id": "b_zUC5gidKU_"
   },
   "outputs": [],
   "source": [
    "vestibulandos_classificados.query('NOTA_CN == 0')['NOTA_CN'].value_counts()"
   ]
  },
  {
   "cell_type": "code",
   "execution_count": null,
   "metadata": {
    "id": "Uu-SUbkIdKpU"
   },
   "outputs": [],
   "source": [
    "vestibulandos_classificados.query('NOTA_LC == 0')['NOTA_LC'].value_counts()"
   ]
  },
  {
   "cell_type": "code",
   "execution_count": null,
   "metadata": {
    "id": "7WYG9Sy4dK7v"
   },
   "outputs": [],
   "source": [
    "vestibulandos_classificados.query('NOTA_MT == 0')['NOTA_MT'].value_counts()"
   ]
  },
  {
   "cell_type": "code",
   "execution_count": null,
   "metadata": {
    "id": "1QsZ4Yp7dMii"
   },
   "outputs": [],
   "source": [
    "vestibulandos_classificados.query('NOTA_REDACAO == 0')['NOTA_REDACAO'].value_counts()"
   ]
  },
  {
   "cell_type": "markdown",
   "metadata": {
    "id": "rK5rF8niYee_"
   },
   "source": [
    "NOTAS ZEROS DOS INSCRITOS CONCORRENTES AO VESTIBULAR:\n",
    "\n",
    "Matemática = 56\n",
    "\n",
    "Ciências da Natureza = 36\n",
    "\n",
    "Linguagens e Códigos = 135\n",
    "\n",
    "Ciências Humanas = 343\n",
    "\n",
    "Redação = 9181\n"
   ]
  },
  {
   "cell_type": "code",
   "execution_count": null,
   "metadata": {
    "id": "1ZHasQ_f_Eri"
   },
   "outputs": [],
   "source": [
    "vestibulandos_classificados.head()"
   ]
  },
  {
   "cell_type": "code",
   "execution_count": null,
   "metadata": {
    "id": "Ojifr3mxeowO"
   },
   "outputs": [],
   "source": [
    "vestibulandos_classificados = vestibulandos_classificados.drop(columns=['IN_TREINEIRO'], )"
   ]
  },
  {
   "cell_type": "code",
   "execution_count": null,
   "metadata": {
    "id": "rWZ4rP2Te_FB"
   },
   "outputs": [],
   "source": [
    "vestibulandos_classificados.shape"
   ]
  },
  {
   "cell_type": "markdown",
   "metadata": {
    "id": "xJBO2DT_dykz"
   },
   "source": [
    "## **Salvando (Exportando) o Dataframe Tratado**"
   ]
  },
  {
   "cell_type": "code",
   "execution_count": null,
   "metadata": {
    "id": "lpVkk2e9XXuF"
   },
   "outputs": [],
   "source": [
    "vestibulandos_classificados.to_csv('enem_2019_tratado.csv', encoding = 'iso-8859-1', index = False)"
   ]
  }
 ],
 "metadata": {
  "colab": {
   "collapsed_sections": [
    "xJBO2DT_dykz"
   ],
   "name": "tratamento_enem_2019_corrigido.ipynb",
   "provenance": []
  },
  "kernelspec": {
   "display_name": "Python 3 (ipykernel)",
   "language": "python",
   "name": "python3"
  },
  "language_info": {
   "codemirror_mode": {
    "name": "ipython",
    "version": 3
   },
   "file_extension": ".py",
   "mimetype": "text/x-python",
   "name": "python",
   "nbconvert_exporter": "python",
   "pygments_lexer": "ipython3",
   "version": "3.9.13"
  }
 },
 "nbformat": 4,
 "nbformat_minor": 1
}
